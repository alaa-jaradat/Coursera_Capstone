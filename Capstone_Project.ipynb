{
 "cells": [
  {
   "cell_type": "markdown",
   "metadata": {},
   "source": [
    "## Coursera - Capstone Project - The Battle of Neighborhoods\n",
    "## Predicting Residential Units Rental Rates in Riyadh City"
   ]
  },
  {
   "cell_type": "markdown",
   "metadata": {},
   "source": [
    "### Introduction\n",
    "The goal of this project is to predict residential units rental rates in Riyadh city for the current year half (first 6 months 2019) to help the target audience of this project to understand the real estate market in the city of Riyadh and study the effect of surrounding venues of each district on the rental rates.\n",
    "\n",
    "### Data\n",
    "•\tFoursquare.com: Foursqaure API is used here to collect information about the surrounding venues to Riyadh districts such as venue name, venue category, venue coordinates.\n",
    "\n",
    "•\tAddress.gov.sa: This API is used in this project to get the location of Riyadh districts and its location boundaries.\n",
    "\n",
    "•\tAqar.fm: This website has a page that shows residential units rent prices statistics for Riyadh city for each district in a year half time frames.\n",
    "\n",
    "•\tGoogle MyMaps user map: Included in this project while seaching for Riyadh districts coordinates."
   ]
  },
  {
   "cell_type": "markdown",
   "metadata": {},
   "source": [
    "##### Importing very popular and essential libraries in data science projects ( pandas & numpy )."
   ]
  },
  {
   "cell_type": "code",
   "execution_count": 2199,
   "metadata": {},
   "outputs": [],
   "source": [
    "import pandas as pd\n",
    "import numpy as np"
   ]
  },
  {
   "cell_type": "markdown",
   "metadata": {},
   "source": [
    "### * Google MyMaps *"
   ]
  },
  {
   "cell_type": "markdown",
   "metadata": {},
   "source": [
    "##### Import libraries required for web scraping."
   ]
  },
  {
   "cell_type": "code",
   "execution_count": 1919,
   "metadata": {},
   "outputs": [],
   "source": [
    "#!conda install -c conda-forge folium \n",
    "import bs4 as bs\n",
    "import urllib.request"
   ]
  },
  {
   "cell_type": "markdown",
   "metadata": {},
   "source": [
    "##### Read web page and parse it using xml parser."
   ]
  },
  {
   "cell_type": "code",
   "execution_count": 2173,
   "metadata": {},
   "outputs": [],
   "source": [
    "source = urllib.request.urlopen('https://www.google.com/maps/d/viewer?mid=1CHhkT6F0hT2FlrpE2S_LKDCX5zE&ie=UTF8&hl=ar&t=h&msa=0&ll=24.77489000000001%2C46.72725700000001&spn=0.249379%2C0.326157&z=12&source=embed').read()\n",
    "soup = bs.BeautifulSoup(source,'lxml')"
   ]
  },
  {
   "cell_type": "markdown",
   "metadata": {},
   "source": [
    "##### By inspecting the code of the web page we find that the required data ( Districts names & coordinates ) are stored in a java script element."
   ]
  },
  {
   "cell_type": "code",
   "execution_count": null,
   "metadata": {},
   "outputs": [],
   "source": [
    "print( soup.prettify() )"
   ]
  },
  {
   "cell_type": "markdown",
   "metadata": {},
   "source": [
    "##### Our data is separated by commas."
   ]
  },
  {
   "cell_type": "code",
   "execution_count": 2175,
   "metadata": {},
   "outputs": [
    {
     "data": {
      "text/plain": [
       "'[24.793862'"
      ]
     },
     "execution_count": 2175,
     "metadata": {},
     "output_type": "execute_result"
    }
   ],
   "source": [
    "pageData = soup.find('script', attrs={'type':'text/javascript'})\n",
    "\n",
    "pageDataList = str( pageData ).split( ',')\n",
    "pageDataList[90]"
   ]
  },
  {
   "cell_type": "code",
   "execution_count": 2200,
   "metadata": {},
   "outputs": [
    {
     "data": {
      "text/plain": [
       "['46.638865]\\\\n',\n",
       " '46.652129]\\\\n',\n",
       " '46.66539800000001]\\\\n',\n",
       " '46.689087]\\\\n',\n",
       " '46.669276]\\\\n']"
      ]
     },
     "execution_count": 2200,
     "metadata": {},
     "output_type": "execute_result"
    }
   ],
   "source": [
    "# Looping through the comma separated list to get neighborhoods names and its coordinates.\n",
    "Neighborhood = []\n",
    "Lons = []\n",
    "Lats = []\n",
    "\n",
    "for i in range(90,3120,18):\n",
    "        Lons.append(pageDataList[i])\n",
    "        Lats.append(pageDataList[i+1])\n",
    "        Neighborhood.append( pageDataList[i+5] )\n",
    "\n",
    "Lats[0:5]"
   ]
  },
  {
   "cell_type": "code",
   "execution_count": 2177,
   "metadata": {},
   "outputs": [
    {
     "data": {
      "text/html": [
       "<div>\n",
       "<style scoped>\n",
       "    .dataframe tbody tr th:only-of-type {\n",
       "        vertical-align: middle;\n",
       "    }\n",
       "\n",
       "    .dataframe tbody tr th {\n",
       "        vertical-align: top;\n",
       "    }\n",
       "\n",
       "    .dataframe thead th {\n",
       "        text-align: right;\n",
       "    }\n",
       "</style>\n",
       "<table border=\"1\" class=\"dataframe\">\n",
       "  <thead>\n",
       "    <tr style=\"text-align: right;\">\n",
       "      <th></th>\n",
       "      <th>Neighborhood</th>\n",
       "      <th>Lons</th>\n",
       "      <th>Lats</th>\n",
       "    </tr>\n",
       "  </thead>\n",
       "  <tbody>\n",
       "    <tr>\n",
       "      <th>0</th>\n",
       "      <td>الصحافة الجنوبى مربع 1</td>\n",
       "      <td>24.793862</td>\n",
       "      <td>46.638865</td>\n",
       "    </tr>\n",
       "    <tr>\n",
       "      <th>1</th>\n",
       "      <td>الربيع الغربى</td>\n",
       "      <td>24.789358</td>\n",
       "      <td>46.652129</td>\n",
       "    </tr>\n",
       "    <tr>\n",
       "      <th>2</th>\n",
       "      <td>الربيع الشرقى</td>\n",
       "      <td>24.798075</td>\n",
       "      <td>46.665398</td>\n",
       "    </tr>\n",
       "    <tr>\n",
       "      <th>3</th>\n",
       "      <td>الســليــما نــية</td>\n",
       "      <td>24.713343</td>\n",
       "      <td>46.689087</td>\n",
       "    </tr>\n",
       "    <tr>\n",
       "      <th>4</th>\n",
       "      <td>ربيع العقارية</td>\n",
       "      <td>24.804860</td>\n",
       "      <td>46.669276</td>\n",
       "    </tr>\n",
       "    <tr>\n",
       "      <th>5</th>\n",
       "      <td>تــــالا</td>\n",
       "      <td>24.804502</td>\n",
       "      <td>46.678738</td>\n",
       "    </tr>\n",
       "    <tr>\n",
       "      <th>6</th>\n",
       "      <td>الندى الشرقى</td>\n",
       "      <td>24.802631</td>\n",
       "      <td>46.690858</td>\n",
       "    </tr>\n",
       "    <tr>\n",
       "      <th>7</th>\n",
       "      <td>الصحافة مربع 2/3/7/8</td>\n",
       "      <td>24.806858</td>\n",
       "      <td>46.639213</td>\n",
       "    </tr>\n",
       "    <tr>\n",
       "      <th>8</th>\n",
       "      <td>الصحافة مربع 15/16/23/24</td>\n",
       "      <td>24.814476</td>\n",
       "      <td>46.657007</td>\n",
       "    </tr>\n",
       "    <tr>\n",
       "      <th>9</th>\n",
       "      <td>الياسمين 31</td>\n",
       "      <td>24.821072</td>\n",
       "      <td>46.674894</td>\n",
       "    </tr>\n",
       "  </tbody>\n",
       "</table>\n",
       "</div>"
      ],
      "text/plain": [
       "               Neighborhood       Lons       Lats\n",
       "0    الصحافة الجنوبى مربع 1  24.793862  46.638865\n",
       "1             الربيع الغربى  24.789358  46.652129\n",
       "2             الربيع الشرقى  24.798075  46.665398\n",
       "3         الســليــما نــية  24.713343  46.689087\n",
       "4             ربيع العقارية  24.804860  46.669276\n",
       "5                  تــــالا  24.804502  46.678738\n",
       "6              الندى الشرقى  24.802631  46.690858\n",
       "7      الصحافة مربع 2/3/7/8  24.806858  46.639213\n",
       "8  الصحافة مربع 15/16/23/24  24.814476  46.657007\n",
       "9               الياسمين 31  24.821072  46.674894"
      ]
     },
     "execution_count": 2177,
     "metadata": {},
     "output_type": "execute_result"
    }
   ],
   "source": [
    "# Cleaning the data from extra characters\n",
    "Neighborhood = [w.replace('[[\\\\\"', '') for w in Neighborhood]\n",
    "Neighborhood = [w.replace('\\\\\"]\\\\n]\\\\n', '') for w in Neighborhood]\n",
    "Lons = [w.replace('[', '') for w in Lons]\n",
    "Lats = [w.replace(']\\\\n', '') for w in Lats]\n",
    "\n",
    "# Combining the Neighborhood, Lons, Lats lists into one object.\n",
    "Data_Combined = zip( Neighborhood, Lons, Lats)\n",
    "\n",
    "# Convert the zip object into pandas DataFrame\n",
    "df = pd.DataFrame(Data_Combined , columns=['Neighborhood','Lons', 'Lats'])\n",
    "\n",
    "#converting the latitude & longiude data into floats\n",
    "df['Lons'] = df['Lons'].astype(float)\n",
    "df['Lats'] = df['Lats'].astype(float)\n",
    "\n",
    "# Display the contents of the DataFrame\n",
    "df.iloc[:10]"
   ]
  },
  {
   "cell_type": "markdown",
   "metadata": {},
   "source": [
    "##### Let's display the districts in the Map using folium library."
   ]
  },
  {
   "cell_type": "code",
   "execution_count": 1924,
   "metadata": {},
   "outputs": [],
   "source": [
    "import folium\n",
    "from geopy.geocoders import Nominatim"
   ]
  },
  {
   "cell_type": "code",
   "execution_count": 1925,
   "metadata": {},
   "outputs": [],
   "source": [
    "# create a folium map for Riyadh city\n",
    "latitude = df['Lons'][3]\n",
    "longitude = df['Lats'][3]\n",
    "map_riyadh_Almosa = folium.Map(location=[latitude, longitude], zoom_start=11)\n",
    "\n",
    "# Add circle markers to represts Districts in Riyadh city\n",
    "for i in range(0,len(df)):\n",
    "    folium.CircleMarker(\n",
    "        [df.iloc[i]['Lons'], df.iloc[i]['Lats']],\n",
    "        popup=df.iloc[i]['Neighborhood'],\n",
    "        radius=5,\n",
    "        fill = True,\n",
    "        fill_opacity=0.5\n",
    "    ).add_to(map_riyadh_Almosa)\n",
    "\n",
    "# Jupyter notebook didn't render the map with markers.\n",
    "# map_riyad_Almosa\n",
    "\n",
    "# Save the result map into drive as a workaround. \n",
    "map_riyadh_Almosa.save('c:\\\\users\\\\Test\\\\Map_Riyadh_Almosa.html')"
   ]
  },
  {
   "cell_type": "markdown",
   "metadata": {},
   "source": [
    "Displaying the map in a markdown cell instead.\n",
    "<img src='Riyadh_Map_Almosa.jpg'>"
   ]
  },
  {
   "cell_type": "markdown",
   "metadata": {},
   "source": [
    "##### The coordinates and district can be used, but api.address.gov.sa gives more accurate results.\n",
    "\n",
    "##### Let's discard this data set for the timebeing and continue collecting other data sets."
   ]
  },
  {
   "cell_type": "markdown",
   "metadata": {},
   "source": [
    "## * Aqar *"
   ]
  },
  {
   "cell_type": "code",
   "execution_count": null,
   "metadata": {},
   "outputs": [],
   "source": []
  },
  {
   "cell_type": "code",
   "execution_count": 2201,
   "metadata": {},
   "outputs": [],
   "source": [
    "# loading Aqar residential units statistics into a soup object.\n",
    "source = urllib.request.urlopen('https://sa.aqar.fm/%D8%A7%D9%84%D8%A5%D8%AD%D8%B5%D8%A7%D8%A6%D9%8A%D8%A7%D8%AA-%D8%A7%D9%84%D8%B9%D9%82%D8%A7%D8%B1%D9%8A%D8%A9/%D8%A3%D8%B3%D8%B9%D8%A7%D8%B1-%D8%B4%D9%82%D9%82-%D9%84%D9%84%D8%A5%D9%8A%D8%AC%D8%A7%D8%B1').read()\n",
    "soup = bs.BeautifulSoup(source,'lxml')"
   ]
  },
  {
   "cell_type": "markdown",
   "metadata": {},
   "source": [
    " print( soup.prettify() )"
   ]
  },
  {
   "cell_type": "markdown",
   "metadata": {},
   "source": [
    "##### HTML 'div' elements contains our data set ( neighborhood names and rents rates statistics ) as a collection of HTML tables.\n",
    "##### Let's scrape the data from the web page, clean it, convert it into pandas dataframe and then display the result."
   ]
  },
  {
   "cell_type": "code",
   "execution_count": 2186,
   "metadata": {
    "scrolled": true
   },
   "outputs": [
    {
     "data": {
      "text/html": [
       "<div>\n",
       "<style scoped>\n",
       "    .dataframe tbody tr th:only-of-type {\n",
       "        vertical-align: middle;\n",
       "    }\n",
       "\n",
       "    .dataframe tbody tr th {\n",
       "        vertical-align: top;\n",
       "    }\n",
       "\n",
       "    .dataframe thead th {\n",
       "        text-align: right;\n",
       "    }\n",
       "</style>\n",
       "<table border=\"1\" class=\"dataframe\">\n",
       "  <thead>\n",
       "    <tr style=\"text-align: right;\">\n",
       "      <th></th>\n",
       "      <th>Period</th>\n",
       "      <th>Neighborhood</th>\n",
       "      <th>Year_Half</th>\n",
       "      <th>Year</th>\n",
       "      <th>AveragePrice</th>\n",
       "      <th>PeriodVal</th>\n",
       "    </tr>\n",
       "  </thead>\n",
       "  <tbody>\n",
       "    <tr>\n",
       "      <th>0</th>\n",
       "      <td>النصف الأول 2015</td>\n",
       "      <td>اشبيلية</td>\n",
       "      <td>0.0</td>\n",
       "      <td>2015</td>\n",
       "      <td>24138</td>\n",
       "      <td>2015.0</td>\n",
       "    </tr>\n",
       "    <tr>\n",
       "      <th>1</th>\n",
       "      <td>النصف الثاني 2015</td>\n",
       "      <td>اشبيلية</td>\n",
       "      <td>0.5</td>\n",
       "      <td>2015</td>\n",
       "      <td>24626</td>\n",
       "      <td>2015.5</td>\n",
       "    </tr>\n",
       "    <tr>\n",
       "      <th>2</th>\n",
       "      <td>النصف الأول 2016</td>\n",
       "      <td>اشبيلية</td>\n",
       "      <td>0.0</td>\n",
       "      <td>2016</td>\n",
       "      <td>23944</td>\n",
       "      <td>2016.0</td>\n",
       "    </tr>\n",
       "    <tr>\n",
       "      <th>3</th>\n",
       "      <td>النصف الثاني 2016</td>\n",
       "      <td>اشبيلية</td>\n",
       "      <td>0.5</td>\n",
       "      <td>2016</td>\n",
       "      <td>22871</td>\n",
       "      <td>2016.5</td>\n",
       "    </tr>\n",
       "    <tr>\n",
       "      <th>4</th>\n",
       "      <td>النصف الأول 2017</td>\n",
       "      <td>اشبيلية</td>\n",
       "      <td>0.0</td>\n",
       "      <td>2017</td>\n",
       "      <td>22625</td>\n",
       "      <td>2017.0</td>\n",
       "    </tr>\n",
       "    <tr>\n",
       "      <th>5</th>\n",
       "      <td>النصف الثاني 2017</td>\n",
       "      <td>اشبيلية</td>\n",
       "      <td>0.5</td>\n",
       "      <td>2017</td>\n",
       "      <td>20616</td>\n",
       "      <td>2017.5</td>\n",
       "    </tr>\n",
       "    <tr>\n",
       "      <th>6</th>\n",
       "      <td>النصف الأول 2018</td>\n",
       "      <td>اشبيلية</td>\n",
       "      <td>0.0</td>\n",
       "      <td>2018</td>\n",
       "      <td>19205</td>\n",
       "      <td>2018.0</td>\n",
       "    </tr>\n",
       "    <tr>\n",
       "      <th>7</th>\n",
       "      <td>النصف الثاني 2018</td>\n",
       "      <td>اشبيلية</td>\n",
       "      <td>0.5</td>\n",
       "      <td>2018</td>\n",
       "      <td>18076</td>\n",
       "      <td>2018.5</td>\n",
       "    </tr>\n",
       "    <tr>\n",
       "      <th>8</th>\n",
       "      <td>النصف الثاني 2015</td>\n",
       "      <td>الازدهار</td>\n",
       "      <td>0.5</td>\n",
       "      <td>2015</td>\n",
       "      <td>34181</td>\n",
       "      <td>2015.5</td>\n",
       "    </tr>\n",
       "    <tr>\n",
       "      <th>9</th>\n",
       "      <td>النصف الأول 2016</td>\n",
       "      <td>الازدهار</td>\n",
       "      <td>0.0</td>\n",
       "      <td>2016</td>\n",
       "      <td>33600</td>\n",
       "      <td>2016.0</td>\n",
       "    </tr>\n",
       "  </tbody>\n",
       "</table>\n",
       "</div>"
      ],
      "text/plain": [
       "              Period Neighborhood  Year_Half  Year  AveragePrice  PeriodVal\n",
       "0   النصف الأول 2015      اشبيلية        0.0  2015         24138     2015.0\n",
       "1  النصف الثاني 2015      اشبيلية        0.5  2015         24626     2015.5\n",
       "2   النصف الأول 2016      اشبيلية        0.0  2016         23944     2016.0\n",
       "3  النصف الثاني 2016      اشبيلية        0.5  2016         22871     2016.5\n",
       "4   النصف الأول 2017      اشبيلية        0.0  2017         22625     2017.0\n",
       "5  النصف الثاني 2017      اشبيلية        0.5  2017         20616     2017.5\n",
       "6   النصف الأول 2018      اشبيلية        0.0  2018         19205     2018.0\n",
       "7  النصف الثاني 2018      اشبيلية        0.5  2018         18076     2018.5\n",
       "8  النصف الثاني 2015     الازدهار        0.5  2015         34181     2015.5\n",
       "9   النصف الأول 2016     الازدهار        0.0  2016         33600     2016.0"
      ]
     },
     "execution_count": 2186,
     "metadata": {},
     "output_type": "execute_result"
    }
   ],
   "source": [
    "# store the HTML 'div' elements contents in soup objects\n",
    "pageData = soup.find('div', attrs={'class':'statLinksContainer'})\n",
    "pageNeighborhood = pageData.find_all('span')\n",
    "pageStats = pageData.find_all('div', attrs={'style':'display:flex;justify-content:flex-end;position:relative;width:100%'})\n",
    "\n",
    "# Loop thourgh the extracted 'div' elements and extract neighborhood names and rent rates statistics.\n",
    "listNeighborhood = []\n",
    "listTables = []\n",
    "for x in pageStats:\n",
    "    listNeighborhood.append(x.span.text)\n",
    "    #listTables.append(x.table)\n",
    "    table_rows = x.table.find_all('tr')\n",
    "    iterRows = iter(table_rows)\n",
    "    next(iterRows)\n",
    "    for tr in iterRows:\n",
    "        td = tr.find_all('td')\n",
    "        row = [tr.text for tr in td]\n",
    "        row.append(x.span.text)\n",
    "        listTables.append(row)\n",
    "\n",
    "# Data preparation and storing it in pandas dataframe\n",
    "Stats_df = pd.DataFrame(listTables, columns=[\"priceAverage\", \"Period\", \"Neighborhood\"] )\n",
    "Stats_df[['toDrop1','Year_Half', 'Year']] = Stats_df.Period.str.split( expand=True, )\n",
    "Stats_df[['AveragePrice','toDrop2']] = Stats_df.priceAverage.str.split( expand=True, )\n",
    "Stats_df.drop(['toDrop1', 'toDrop2', 'priceAverage'], axis=1, inplace=True)\n",
    "\n",
    "Stats_df['Neighborhood'] = Stats_df['Neighborhood'].str.replace('حي ', '')\n",
    "Stats_df['AveragePrice'] = Stats_df['AveragePrice'].str.replace(',', '')\n",
    "Stats_df['Year_Half'] = Stats_df['Year_Half'].str.replace('الأول' , 'First')\n",
    "Stats_df['Year_Half'] = Stats_df['Year_Half'].str.replace('الثاني' , 'Second')\n",
    "Stats_df['Year_Half'] = Stats_df['Year_Half'].str.replace('First', '0')\n",
    "Stats_df['Year_Half'] = Stats_df['Year_Half'].str.replace('Second', '0.5')\n",
    "\n",
    "Stats_df['AveragePrice'] = Stats_df['AveragePrice'].astype(int)\n",
    "Stats_df['Year'] = Stats_df['Year'].astype(int)\n",
    "Stats_df['Year_Half'] = Stats_df['Year_Half'].astype(float)\n",
    "Stats_df['PeriodVal'] = Stats_df['Year'] + Stats_df['Year_Half']\n",
    "Stats_df.head(10)"
   ]
  },
  {
   "cell_type": "markdown",
   "metadata": {},
   "source": [
    "##### Data understanding.\n",
    "##### the Stats_df dataframe has 666 observation and a mean of 23791 of average rent prices of residential units."
   ]
  },
  {
   "cell_type": "code",
   "execution_count": 2187,
   "metadata": {},
   "outputs": [
    {
     "data": {
      "text/html": [
       "<div>\n",
       "<style scoped>\n",
       "    .dataframe tbody tr th:only-of-type {\n",
       "        vertical-align: middle;\n",
       "    }\n",
       "\n",
       "    .dataframe tbody tr th {\n",
       "        vertical-align: top;\n",
       "    }\n",
       "\n",
       "    .dataframe thead th {\n",
       "        text-align: right;\n",
       "    }\n",
       "</style>\n",
       "<table border=\"1\" class=\"dataframe\">\n",
       "  <thead>\n",
       "    <tr style=\"text-align: right;\">\n",
       "      <th></th>\n",
       "      <th>AveragePrice</th>\n",
       "    </tr>\n",
       "  </thead>\n",
       "  <tbody>\n",
       "    <tr>\n",
       "      <th>count</th>\n",
       "      <td>666.000000</td>\n",
       "    </tr>\n",
       "    <tr>\n",
       "      <th>mean</th>\n",
       "      <td>23791.319820</td>\n",
       "    </tr>\n",
       "    <tr>\n",
       "      <th>std</th>\n",
       "      <td>6487.063118</td>\n",
       "    </tr>\n",
       "    <tr>\n",
       "      <th>min</th>\n",
       "      <td>10666.000000</td>\n",
       "    </tr>\n",
       "    <tr>\n",
       "      <th>25%</th>\n",
       "      <td>18025.250000</td>\n",
       "    </tr>\n",
       "    <tr>\n",
       "      <th>50%</th>\n",
       "      <td>23590.000000</td>\n",
       "    </tr>\n",
       "    <tr>\n",
       "      <th>75%</th>\n",
       "      <td>28795.500000</td>\n",
       "    </tr>\n",
       "    <tr>\n",
       "      <th>max</th>\n",
       "      <td>39050.000000</td>\n",
       "    </tr>\n",
       "  </tbody>\n",
       "</table>\n",
       "</div>"
      ],
      "text/plain": [
       "       AveragePrice\n",
       "count    666.000000\n",
       "mean   23791.319820\n",
       "std     6487.063118\n",
       "min    10666.000000\n",
       "25%    18025.250000\n",
       "50%    23590.000000\n",
       "75%    28795.500000\n",
       "max    39050.000000"
      ]
     },
     "execution_count": 2187,
     "metadata": {},
     "output_type": "execute_result"
    }
   ],
   "source": [
    "pd.DataFrame(Stats_df['AveragePrice']).describe()"
   ]
  },
  {
   "cell_type": "markdown",
   "metadata": {},
   "source": [
    "##### Visualize the data as box plot run chart.\n",
    "##### Average prices started dropping in the second half of 2016."
   ]
  },
  {
   "cell_type": "code",
   "execution_count": 1929,
   "metadata": {},
   "outputs": [],
   "source": [
    "import matplotlib.pyplot as plt\n",
    "%matplotlib inline \n",
    "import seaborn as sns"
   ]
  },
  {
   "cell_type": "code",
   "execution_count": 2188,
   "metadata": {},
   "outputs": [
    {
     "data": {
      "image/png": "[encoded data removed]",
      "text/plain": [
       "<Figure size 432x288 with 1 Axes>"
      ]
     },
     "metadata": {
      "needs_background": "light"
     },
     "output_type": "display_data"
    }
   ],
   "source": [
    "ax = sns.boxplot(x=\"PeriodVal\", y=\"AveragePrice\", data=Stats_df)"
   ]
  },
  {
   "cell_type": "markdown",
   "metadata": {},
   "source": [
    "##### Visualize the Means of average prices in a line plot and bar plot."
   ]
  },
  {
   "cell_type": "code",
   "execution_count": 2189,
   "metadata": {
    "scrolled": true
   },
   "outputs": [],
   "source": [
    "Stats_YearHalf_Means = Stats_df.groupby('Period').mean()\n",
    "Stats_YearHalf_Means.reset_index(inplace=True)\n",
    "Stats_YearHalf_Means.sort_values(by=['PeriodVal'], inplace=True)"
   ]
  },
  {
   "cell_type": "code",
   "execution_count": 2190,
   "metadata": {},
   "outputs": [
    {
     "data": {
      "text/html": [
       "<div>\n",
       "<style scoped>\n",
       "    .dataframe tbody tr th:only-of-type {\n",
       "        vertical-align: middle;\n",
       "    }\n",
       "\n",
       "    .dataframe tbody tr th {\n",
       "        vertical-align: top;\n",
       "    }\n",
       "\n",
       "    .dataframe thead th {\n",
       "        text-align: right;\n",
       "    }\n",
       "</style>\n",
       "<table border=\"1\" class=\"dataframe\">\n",
       "  <thead>\n",
       "    <tr style=\"text-align: right;\">\n",
       "      <th></th>\n",
       "      <th>Period</th>\n",
       "      <th>Year_Half</th>\n",
       "      <th>Year</th>\n",
       "      <th>AveragePrice</th>\n",
       "      <th>PeriodVal</th>\n",
       "    </tr>\n",
       "  </thead>\n",
       "  <tbody>\n",
       "    <tr>\n",
       "      <th>0</th>\n",
       "      <td>النصف الأول 2015</td>\n",
       "      <td>0.0</td>\n",
       "      <td>2015.0</td>\n",
       "      <td>24340.628571</td>\n",
       "      <td>2015.0</td>\n",
       "    </tr>\n",
       "    <tr>\n",
       "      <th>4</th>\n",
       "      <td>النصف الثاني 2015</td>\n",
       "      <td>0.5</td>\n",
       "      <td>2015.0</td>\n",
       "      <td>25369.472222</td>\n",
       "      <td>2015.5</td>\n",
       "    </tr>\n",
       "    <tr>\n",
       "      <th>1</th>\n",
       "      <td>النصف الأول 2016</td>\n",
       "      <td>0.0</td>\n",
       "      <td>2016.0</td>\n",
       "      <td>26537.556962</td>\n",
       "      <td>2016.0</td>\n",
       "    </tr>\n",
       "    <tr>\n",
       "      <th>5</th>\n",
       "      <td>النصف الثاني 2016</td>\n",
       "      <td>0.5</td>\n",
       "      <td>2016.0</td>\n",
       "      <td>25044.525773</td>\n",
       "      <td>2016.5</td>\n",
       "    </tr>\n",
       "    <tr>\n",
       "      <th>2</th>\n",
       "      <td>النصف الأول 2017</td>\n",
       "      <td>0.0</td>\n",
       "      <td>2017.0</td>\n",
       "      <td>24571.412371</td>\n",
       "      <td>2017.0</td>\n",
       "    </tr>\n",
       "    <tr>\n",
       "      <th>6</th>\n",
       "      <td>النصف الثاني 2017</td>\n",
       "      <td>0.5</td>\n",
       "      <td>2017.0</td>\n",
       "      <td>23093.408163</td>\n",
       "      <td>2017.5</td>\n",
       "    </tr>\n",
       "    <tr>\n",
       "      <th>3</th>\n",
       "      <td>النصف الأول 2018</td>\n",
       "      <td>0.0</td>\n",
       "      <td>2018.0</td>\n",
       "      <td>21440.770000</td>\n",
       "      <td>2018.0</td>\n",
       "    </tr>\n",
       "    <tr>\n",
       "      <th>7</th>\n",
       "      <td>النصف الثاني 2018</td>\n",
       "      <td>0.5</td>\n",
       "      <td>2018.0</td>\n",
       "      <td>21023.306818</td>\n",
       "      <td>2018.5</td>\n",
       "    </tr>\n",
       "  </tbody>\n",
       "</table>\n",
       "</div>"
      ],
      "text/plain": [
       "              Period  Year_Half    Year  AveragePrice  PeriodVal\n",
       "0   النصف الأول 2015        0.0  2015.0  24340.628571     2015.0\n",
       "4  النصف الثاني 2015        0.5  2015.0  25369.472222     2015.5\n",
       "1   النصف الأول 2016        0.0  2016.0  26537.556962     2016.0\n",
       "5  النصف الثاني 2016        0.5  2016.0  25044.525773     2016.5\n",
       "2   النصف الأول 2017        0.0  2017.0  24571.412371     2017.0\n",
       "6  النصف الثاني 2017        0.5  2017.0  23093.408163     2017.5\n",
       "3   النصف الأول 2018        0.0  2018.0  21440.770000     2018.0\n",
       "7  النصف الثاني 2018        0.5  2018.0  21023.306818     2018.5"
      ]
     },
     "execution_count": 2190,
     "metadata": {},
     "output_type": "execute_result"
    }
   ],
   "source": [
    "Stats_YearHalf_Means"
   ]
  },
  {
   "cell_type": "code",
   "execution_count": 2191,
   "metadata": {
    "scrolled": false
   },
   "outputs": [
    {
     "data": {
      "image/png": "[encoded data removed]",
      "text/plain": [
       "<Figure size 432x288 with 1 Axes>"
      ]
     },
     "metadata": {
      "needs_background": "light"
     },
     "output_type": "display_data"
    },
    {
     "data": {
      "image/png": "[encoded data removed]",
      "text/plain": [
       "<Figure size 432x288 with 1 Axes>"
      ]
     },
     "metadata": {
      "needs_background": "light"
     },
     "output_type": "display_data"
    }
   ],
   "source": [
    "plt.plot(Stats_YearHalf_Means['PeriodVal'], Stats_YearHalf_Means['AveragePrice'])\n",
    "ax = Stats_YearHalf_Means.plot.bar(x='PeriodVal', y = 'AveragePrice')"
   ]
  },
  {
   "cell_type": "markdown",
   "metadata": {},
   "source": [
    "##### Create a pivot dataframe from the Stats_df to get one observation per district/neighborhood."
   ]
  },
  {
   "cell_type": "code",
   "execution_count": 2192,
   "metadata": {},
   "outputs": [
    {
     "data": {
      "text/html": [
       "<div>\n",
       "<style scoped>\n",
       "    .dataframe tbody tr th:only-of-type {\n",
       "        vertical-align: middle;\n",
       "    }\n",
       "\n",
       "    .dataframe tbody tr th {\n",
       "        vertical-align: top;\n",
       "    }\n",
       "\n",
       "    .dataframe thead th {\n",
       "        text-align: right;\n",
       "    }\n",
       "</style>\n",
       "<table border=\"1\" class=\"dataframe\">\n",
       "  <thead>\n",
       "    <tr style=\"text-align: right;\">\n",
       "      <th>PeriodVal</th>\n",
       "      <th>2015.0</th>\n",
       "      <th>2015.5</th>\n",
       "      <th>2016.0</th>\n",
       "      <th>2016.5</th>\n",
       "      <th>2017.0</th>\n",
       "      <th>2017.5</th>\n",
       "      <th>2018.0</th>\n",
       "      <th>2018.5</th>\n",
       "    </tr>\n",
       "    <tr>\n",
       "      <th>Neighborhood</th>\n",
       "      <th></th>\n",
       "      <th></th>\n",
       "      <th></th>\n",
       "      <th></th>\n",
       "      <th></th>\n",
       "      <th></th>\n",
       "      <th></th>\n",
       "      <th></th>\n",
       "    </tr>\n",
       "  </thead>\n",
       "  <tbody>\n",
       "    <tr>\n",
       "      <th>أحد</th>\n",
       "      <td>NaN</td>\n",
       "      <td>14700.0</td>\n",
       "      <td>NaN</td>\n",
       "      <td>15000.0</td>\n",
       "      <td>13812.0</td>\n",
       "      <td>14200.0</td>\n",
       "      <td>13833.0</td>\n",
       "      <td>NaN</td>\n",
       "    </tr>\n",
       "    <tr>\n",
       "      <th>اشبيلية</th>\n",
       "      <td>24138.0</td>\n",
       "      <td>24626.0</td>\n",
       "      <td>23944.0</td>\n",
       "      <td>22871.0</td>\n",
       "      <td>22625.0</td>\n",
       "      <td>20616.0</td>\n",
       "      <td>19205.0</td>\n",
       "      <td>18076.0</td>\n",
       "    </tr>\n",
       "    <tr>\n",
       "      <th>الازدهار</th>\n",
       "      <td>NaN</td>\n",
       "      <td>34181.0</td>\n",
       "      <td>33600.0</td>\n",
       "      <td>30197.0</td>\n",
       "      <td>29635.0</td>\n",
       "      <td>27919.0</td>\n",
       "      <td>26421.0</td>\n",
       "      <td>24209.0</td>\n",
       "    </tr>\n",
       "    <tr>\n",
       "      <th>الاندلس</th>\n",
       "      <td>NaN</td>\n",
       "      <td>21800.0</td>\n",
       "      <td>27666.0</td>\n",
       "      <td>26378.0</td>\n",
       "      <td>24754.0</td>\n",
       "      <td>23771.0</td>\n",
       "      <td>21873.0</td>\n",
       "      <td>21250.0</td>\n",
       "    </tr>\n",
       "    <tr>\n",
       "      <th>البديعة</th>\n",
       "      <td>NaN</td>\n",
       "      <td>NaN</td>\n",
       "      <td>NaN</td>\n",
       "      <td>NaN</td>\n",
       "      <td>17000.0</td>\n",
       "      <td>15194.0</td>\n",
       "      <td>14608.0</td>\n",
       "      <td>17285.0</td>\n",
       "    </tr>\n",
       "    <tr>\n",
       "      <th>التعاون</th>\n",
       "      <td>NaN</td>\n",
       "      <td>39000.0</td>\n",
       "      <td>34882.0</td>\n",
       "      <td>33431.0</td>\n",
       "      <td>31714.0</td>\n",
       "      <td>29450.0</td>\n",
       "      <td>28912.0</td>\n",
       "      <td>28950.0</td>\n",
       "    </tr>\n",
       "    <tr>\n",
       "      <th>الجرادية</th>\n",
       "      <td>NaN</td>\n",
       "      <td>NaN</td>\n",
       "      <td>17346.0</td>\n",
       "      <td>17252.0</td>\n",
       "      <td>15554.0</td>\n",
       "      <td>14302.0</td>\n",
       "      <td>13263.0</td>\n",
       "      <td>13584.0</td>\n",
       "    </tr>\n",
       "    <tr>\n",
       "      <th>الجزيرة</th>\n",
       "      <td>NaN</td>\n",
       "      <td>NaN</td>\n",
       "      <td>26384.0</td>\n",
       "      <td>27315.0</td>\n",
       "      <td>25032.0</td>\n",
       "      <td>23935.0</td>\n",
       "      <td>22354.0</td>\n",
       "      <td>21850.0</td>\n",
       "    </tr>\n",
       "    <tr>\n",
       "      <th>الجنادرية</th>\n",
       "      <td>NaN</td>\n",
       "      <td>18947.0</td>\n",
       "      <td>18437.0</td>\n",
       "      <td>18541.0</td>\n",
       "      <td>17865.0</td>\n",
       "      <td>16936.0</td>\n",
       "      <td>15780.0</td>\n",
       "      <td>14774.0</td>\n",
       "    </tr>\n",
       "    <tr>\n",
       "      <th>الحزم</th>\n",
       "      <td>15687.0</td>\n",
       "      <td>16213.0</td>\n",
       "      <td>17785.0</td>\n",
       "      <td>17175.0</td>\n",
       "      <td>16105.0</td>\n",
       "      <td>15952.0</td>\n",
       "      <td>14891.0</td>\n",
       "      <td>14994.0</td>\n",
       "    </tr>\n",
       "  </tbody>\n",
       "</table>\n",
       "</div>"
      ],
      "text/plain": [
       "PeriodVal      2015.0   2015.5   2016.0   2016.5   2017.0   2017.5   2018.0  \\\n",
       "Neighborhood                                                                  \n",
       "أحد               NaN  14700.0      NaN  15000.0  13812.0  14200.0  13833.0   \n",
       "اشبيلية       24138.0  24626.0  23944.0  22871.0  22625.0  20616.0  19205.0   \n",
       "الازدهار          NaN  34181.0  33600.0  30197.0  29635.0  27919.0  26421.0   \n",
       "الاندلس           NaN  21800.0  27666.0  26378.0  24754.0  23771.0  21873.0   \n",
       "البديعة           NaN      NaN      NaN      NaN  17000.0  15194.0  14608.0   \n",
       "التعاون           NaN  39000.0  34882.0  33431.0  31714.0  29450.0  28912.0   \n",
       "الجرادية          NaN      NaN  17346.0  17252.0  15554.0  14302.0  13263.0   \n",
       "الجزيرة           NaN      NaN  26384.0  27315.0  25032.0  23935.0  22354.0   \n",
       "الجنادرية         NaN  18947.0  18437.0  18541.0  17865.0  16936.0  15780.0   \n",
       "الحزم         15687.0  16213.0  17785.0  17175.0  16105.0  15952.0  14891.0   \n",
       "\n",
       "PeriodVal      2018.5  \n",
       "Neighborhood           \n",
       "أحد               NaN  \n",
       "اشبيلية       18076.0  \n",
       "الازدهار      24209.0  \n",
       "الاندلس       21250.0  \n",
       "البديعة       17285.0  \n",
       "التعاون       28950.0  \n",
       "الجرادية      13584.0  \n",
       "الجزيرة       21850.0  \n",
       "الجنادرية     14774.0  \n",
       "الحزم         14994.0  "
      ]
     },
     "execution_count": 2192,
     "metadata": {},
     "output_type": "execute_result"
    }
   ],
   "source": [
    "Stats_pivot_df = Stats_df.pivot('Neighborhood', 'PeriodVal', 'AveragePrice')\n",
    "Stats_pivot_df.head(10)"
   ]
  },
  {
   "cell_type": "markdown",
   "metadata": {},
   "source": [
    "##### Rename the Neighborhood column to District"
   ]
  },
  {
   "cell_type": "code",
   "execution_count": 2193,
   "metadata": {},
   "outputs": [
    {
     "data": {
      "text/html": [
       "<div>\n",
       "<style scoped>\n",
       "    .dataframe tbody tr th:only-of-type {\n",
       "        vertical-align: middle;\n",
       "    }\n",
       "\n",
       "    .dataframe tbody tr th {\n",
       "        vertical-align: top;\n",
       "    }\n",
       "\n",
       "    .dataframe thead th {\n",
       "        text-align: right;\n",
       "    }\n",
       "</style>\n",
       "<table border=\"1\" class=\"dataframe\">\n",
       "  <thead>\n",
       "    <tr style=\"text-align: right;\">\n",
       "      <th></th>\n",
       "      <th>District</th>\n",
       "      <th>2015.0</th>\n",
       "      <th>2015.5</th>\n",
       "      <th>2016.0</th>\n",
       "      <th>2016.5</th>\n",
       "      <th>2017.0</th>\n",
       "      <th>2017.5</th>\n",
       "      <th>2018.0</th>\n",
       "      <th>2018.5</th>\n",
       "    </tr>\n",
       "  </thead>\n",
       "  <tbody>\n",
       "    <tr>\n",
       "      <th>0</th>\n",
       "      <td>أحد</td>\n",
       "      <td>NaN</td>\n",
       "      <td>14700.0</td>\n",
       "      <td>NaN</td>\n",
       "      <td>15000.0</td>\n",
       "      <td>13812.0</td>\n",
       "      <td>14200.0</td>\n",
       "      <td>13833.0</td>\n",
       "      <td>NaN</td>\n",
       "    </tr>\n",
       "    <tr>\n",
       "      <th>1</th>\n",
       "      <td>اشبيلية</td>\n",
       "      <td>24138.0</td>\n",
       "      <td>24626.0</td>\n",
       "      <td>23944.0</td>\n",
       "      <td>22871.0</td>\n",
       "      <td>22625.0</td>\n",
       "      <td>20616.0</td>\n",
       "      <td>19205.0</td>\n",
       "      <td>18076.0</td>\n",
       "    </tr>\n",
       "    <tr>\n",
       "      <th>2</th>\n",
       "      <td>الازدهار</td>\n",
       "      <td>NaN</td>\n",
       "      <td>34181.0</td>\n",
       "      <td>33600.0</td>\n",
       "      <td>30197.0</td>\n",
       "      <td>29635.0</td>\n",
       "      <td>27919.0</td>\n",
       "      <td>26421.0</td>\n",
       "      <td>24209.0</td>\n",
       "    </tr>\n",
       "    <tr>\n",
       "      <th>3</th>\n",
       "      <td>الاندلس</td>\n",
       "      <td>NaN</td>\n",
       "      <td>21800.0</td>\n",
       "      <td>27666.0</td>\n",
       "      <td>26378.0</td>\n",
       "      <td>24754.0</td>\n",
       "      <td>23771.0</td>\n",
       "      <td>21873.0</td>\n",
       "      <td>21250.0</td>\n",
       "    </tr>\n",
       "    <tr>\n",
       "      <th>4</th>\n",
       "      <td>البديعة</td>\n",
       "      <td>NaN</td>\n",
       "      <td>NaN</td>\n",
       "      <td>NaN</td>\n",
       "      <td>NaN</td>\n",
       "      <td>17000.0</td>\n",
       "      <td>15194.0</td>\n",
       "      <td>14608.0</td>\n",
       "      <td>17285.0</td>\n",
       "    </tr>\n",
       "  </tbody>\n",
       "</table>\n",
       "</div>"
      ],
      "text/plain": [
       "   District   2015.0   2015.5   2016.0   2016.5   2017.0   2017.5   2018.0  \\\n",
       "0       أحد      NaN  14700.0      NaN  15000.0  13812.0  14200.0  13833.0   \n",
       "1   اشبيلية  24138.0  24626.0  23944.0  22871.0  22625.0  20616.0  19205.0   \n",
       "2  الازدهار      NaN  34181.0  33600.0  30197.0  29635.0  27919.0  26421.0   \n",
       "3   الاندلس      NaN  21800.0  27666.0  26378.0  24754.0  23771.0  21873.0   \n",
       "4   البديعة      NaN      NaN      NaN      NaN  17000.0  15194.0  14608.0   \n",
       "\n",
       "    2018.5  \n",
       "0      NaN  \n",
       "1  18076.0  \n",
       "2  24209.0  \n",
       "3  21250.0  \n",
       "4  17285.0  "
      ]
     },
     "execution_count": 2193,
     "metadata": {},
     "output_type": "execute_result"
    }
   ],
   "source": [
    "try:\n",
    "    Stats_pivot_df = pd.DataFrame(Stats_pivot_df.to_records())\n",
    "except:\n",
    "    pass\n",
    "\n",
    "Stats_pivot_df.rename(columns={'Neighborhood':'District'}, inplace=True)\n",
    "Stats_pivot_df.head()"
   ]
  },
  {
   "cell_type": "markdown",
   "metadata": {},
   "source": [
    "##### The average rent prices are approximately normally distributed."
   ]
  },
  {
   "cell_type": "code",
   "execution_count": 2194,
   "metadata": {
    "scrolled": false
   },
   "outputs": [
    {
     "data": {
      "text/plain": [
       "<matplotlib.axes._subplots.AxesSubplot at 0x1729d03d710>"
      ]
     },
     "execution_count": 2194,
     "metadata": {},
     "output_type": "execute_result"
    },
    {
     "data": {
      "image/png": "[encoded data removed]",
      "text/plain": [
       "<Figure size 432x288 with 1 Axes>"
      ]
     },
     "metadata": {
      "needs_background": "light"
     },
     "output_type": "display_data"
    }
   ],
   "source": [
    "sns.distplot(Stats_df.AveragePrice)"
   ]
  },
  {
   "cell_type": "code",
   "execution_count": 2183,
   "metadata": {},
   "outputs": [
    {
     "data": {
      "text/plain": [
       "<matplotlib.axes._subplots.AxesSubplot at 0x1729cb04fd0>"
      ]
     },
     "execution_count": 2183,
     "metadata": {},
     "output_type": "execute_result"
    },
    {
     "data": {
      "image/png": "[encoded data removed]",
      "text/plain": [
       "<Figure size 432x288 with 1 Axes>"
      ]
     },
     "metadata": {
      "needs_background": "light"
     },
     "output_type": "display_data"
    }
   ],
   "source": [
    "Stats_df.boxplot(column='AveragePrice')"
   ]
  },
  {
   "cell_type": "markdown",
   "metadata": {},
   "source": [
    "##### Let's move to another data source which is api.address.gov.sa to get the formal district names with geospatial information."
   ]
  },
  {
   "cell_type": "markdown",
   "metadata": {},
   "source": [
    "## * Address API *"
   ]
  },
  {
   "cell_type": "markdown",
   "metadata": {},
   "source": [
    "### * Districts *"
   ]
  },
  {
   "cell_type": "markdown",
   "metadata": {},
   "source": [
    "##### The address api requires api_key which is given to the developer after completing registration in the website.\n",
    "##### The api retrieves data in JSON format."
   ]
  },
  {
   "cell_type": "code",
   "execution_count": 1938,
   "metadata": {},
   "outputs": [],
   "source": [
    "import http.client, urllib.request, urllib.parse, urllib.error, base64"
   ]
  },
  {
   "cell_type": "code",
   "execution_count": 1940,
   "metadata": {},
   "outputs": [],
   "source": [
    "########### Python 3.2 #############\n",
    "\n",
    "\n",
    "headers = {\n",
    "    # Request headers\n",
    "    'api_key': 'YOUR API KEY',\n",
    "}\n",
    "\n",
    "params = urllib.parse.urlencode({\n",
    "    # Request parameters\n",
    "    'language': 'A',\n",
    "    'format': 'json',\n",
    "    'cityid': '3',\n",
    "})\n",
    "\n",
    "try:\n",
    "    conn = http.client.HTTPSConnection('apina.address.gov.sa')\n",
    "    conn.request(\"GET\", \"/NationalAddress/v3.1/lookup/districts?%s\" % params, \"{body}\", headers)\n",
    "    response = conn.getresponse()\n",
    "    address_data = response.read()\n",
    "    #print(address_data)\n",
    "    conn.close()\n",
    "except Exception as e:\n",
    "    print(\"[Errno {0}] {1}\".format(e.errno, e.strerror))\n",
    "\n",
    "####################################"
   ]
  },
  {
   "cell_type": "markdown",
   "metadata": {},
   "source": [
    "##### Storing the JSON response in JSON object and then converting it to a pandas Data Frame."
   ]
  },
  {
   "cell_type": "code",
   "execution_count": 1939,
   "metadata": {},
   "outputs": [],
   "source": [
    "import requests\n",
    "from pandas.io.json import json_normalize # tranform JSON file into a pandas dataframe\n",
    "import json"
   ]
  },
  {
   "cell_type": "code",
   "execution_count": 1941,
   "metadata": {},
   "outputs": [
    {
     "data": {
      "text/html": [
       "<div>\n",
       "<style scoped>\n",
       "    .dataframe tbody tr th:only-of-type {\n",
       "        vertical-align: middle;\n",
       "    }\n",
       "\n",
       "    .dataframe tbody tr th {\n",
       "        vertical-align: top;\n",
       "    }\n",
       "\n",
       "    .dataframe thead th {\n",
       "        text-align: right;\n",
       "    }\n",
       "</style>\n",
       "<table border=\"1\" class=\"dataframe\">\n",
       "  <thead>\n",
       "    <tr style=\"text-align: right;\">\n",
       "      <th></th>\n",
       "      <th>Id</th>\n",
       "      <th>Name</th>\n",
       "    </tr>\n",
       "  </thead>\n",
       "  <tbody>\n",
       "    <tr>\n",
       "      <th>0</th>\n",
       "      <td>10100003028</td>\n",
       "      <td>المدينة الصناعية الثانية</td>\n",
       "    </tr>\n",
       "    <tr>\n",
       "      <th>1</th>\n",
       "      <td>10100003151</td>\n",
       "      <td>جامعة الامام محمد بن سعود الاسلامية</td>\n",
       "    </tr>\n",
       "    <tr>\n",
       "      <th>2</th>\n",
       "      <td>10100003166</td>\n",
       "      <td>جامعة الملك سعود</td>\n",
       "    </tr>\n",
       "    <tr>\n",
       "      <th>3</th>\n",
       "      <td>10100003059</td>\n",
       "      <td>حي احد</td>\n",
       "    </tr>\n",
       "    <tr>\n",
       "      <th>4</th>\n",
       "      <td>10100003137</td>\n",
       "      <td>حي اشبيلية</td>\n",
       "    </tr>\n",
       "    <tr>\n",
       "      <th>5</th>\n",
       "      <td>10100003086</td>\n",
       "      <td>حي الازدهار</td>\n",
       "    </tr>\n",
       "    <tr>\n",
       "      <th>6</th>\n",
       "      <td>10100003077</td>\n",
       "      <td>حي الاسكان</td>\n",
       "    </tr>\n",
       "    <tr>\n",
       "      <th>7</th>\n",
       "      <td>10100003087</td>\n",
       "      <td>حي الاندلس</td>\n",
       "    </tr>\n",
       "    <tr>\n",
       "      <th>8</th>\n",
       "      <td>10100003071</td>\n",
       "      <td>حي البديعة</td>\n",
       "    </tr>\n",
       "    <tr>\n",
       "      <th>9</th>\n",
       "      <td>10100003094</td>\n",
       "      <td>حي البرية</td>\n",
       "    </tr>\n",
       "  </tbody>\n",
       "</table>\n",
       "</div>"
      ],
      "text/plain": [
       "            Id                                 Name\n",
       "0  10100003028             المدينة الصناعية الثانية\n",
       "1  10100003151  جامعة الامام محمد بن سعود الاسلامية\n",
       "2  10100003166                     جامعة الملك سعود\n",
       "3  10100003059                               حي احد\n",
       "4  10100003137                           حي اشبيلية\n",
       "5  10100003086                          حي الازدهار\n",
       "6  10100003077                           حي الاسكان\n",
       "7  10100003087                           حي الاندلس\n",
       "8  10100003071                           حي البديعة\n",
       "9  10100003094                            حي البرية"
      ]
     },
     "execution_count": 1941,
     "metadata": {},
     "output_type": "execute_result"
    }
   ],
   "source": [
    "address_data_decode = address_data.decode(\"windows-1256\")\n",
    "\n",
    "dict_obj = json.loads(address_data_decode)\n",
    "dict_obj['Districts'][0]['Id']\n",
    "Districts_df = pd.DataFrame( dict_obj['Districts'])\n",
    "Districts_df.head(10)"
   ]
  },
  {
   "cell_type": "markdown",
   "metadata": {},
   "source": [
    "### * Geo locations *"
   ]
  },
  {
   "cell_type": "markdown",
   "metadata": {},
   "source": [
    "##### Getting the coordinates of each district using the 'Extents of a Feature' Service in the address API\n",
    "##### The address api allows one call per 5 seconds for the free account, so we'll use the time library to wait 5 seconds between API calls."
   ]
  },
  {
   "cell_type": "code",
   "execution_count": 1942,
   "metadata": {},
   "outputs": [],
   "source": [
    "import time"
   ]
  },
  {
   "cell_type": "markdown",
   "metadata": {},
   "source": [
    "##### Creating pandas dataframe to hold the location data."
   ]
  },
  {
   "cell_type": "code",
   "execution_count": 1943,
   "metadata": {},
   "outputs": [
    {
     "data": {
      "text/html": [
       "<div>\n",
       "<style scoped>\n",
       "    .dataframe tbody tr th:only-of-type {\n",
       "        vertical-align: middle;\n",
       "    }\n",
       "\n",
       "    .dataframe tbody tr th {\n",
       "        vertical-align: top;\n",
       "    }\n",
       "\n",
       "    .dataframe thead th {\n",
       "        text-align: right;\n",
       "    }\n",
       "</style>\n",
       "<table border=\"1\" class=\"dataframe\">\n",
       "  <thead>\n",
       "    <tr style=\"text-align: right;\">\n",
       "      <th></th>\n",
       "      <th>minx</th>\n",
       "      <th>miny</th>\n",
       "      <th>maxx</th>\n",
       "      <th>maxy</th>\n",
       "      <th>success</th>\n",
       "      <th>result</th>\n",
       "      <th>statusdescription</th>\n",
       "      <th>fullexception</th>\n",
       "      <th>Id</th>\n",
       "      <th>Name</th>\n",
       "    </tr>\n",
       "  </thead>\n",
       "  <tbody>\n",
       "  </tbody>\n",
       "</table>\n",
       "</div>"
      ],
      "text/plain": [
       "Empty DataFrame\n",
       "Columns: [minx, miny, maxx, maxy, success, result, statusdescription, fullexception, Id, Name]\n",
       "Index: []"
      ]
     },
     "execution_count": 1943,
     "metadata": {},
     "output_type": "execute_result"
    }
   ],
   "source": [
    "Geo_df = pd.DataFrame( columns = ['minx', 'miny', 'maxx', 'maxy', 'success', 'result', \\\n",
    "                                  'statusdescription', 'fullexception', 'Id', 'Name'])\n",
    "Geo_df.astype(str)"
   ]
  },
  {
   "cell_type": "markdown",
   "metadata": {},
   "source": [
    "##### Loop through the districts dataframe and call the address API to get boundaries of each district"
   ]
  },
  {
   "cell_type": "code",
   "execution_count": null,
   "metadata": {},
   "outputs": [],
   "source": [
    "#Geo_df.drop(Geo_df.index, inplace=True)\n",
    "\n",
    "for index, row in Districts_df.iterrows():\n",
    "    params = { \"layername\": \"districts\", \"featureid\": row['Id'], \"format\": \"json\"}\n",
    "    params = urllib.parse.urlencode(params)\n",
    "    \n",
    "    try:\n",
    "        conn = http.client.HTTPSConnection('apina.address.gov.sa')\n",
    "        conn.request(\"GET\", \"/NationalAddress/v3.1/Address/get-feature-extents?%s\" % params, \"{body}\", headers)\n",
    "        response = conn.getresponse()\n",
    "        data = response.read()\n",
    "        print(data)\n",
    "        conn.close()\n",
    "    except Exception as e:\n",
    "        print(\"[Errno {0}] {1}\".format(e.errno, e.strerror))\n",
    "        \n",
    "    address_data_decode = data.decode(\"windows-1256\")\n",
    "    dict_obj = json.loads(address_data_decode)\n",
    "    dict_obj.update({'Id':row['Id'], 'Name':row['Name']})\n",
    "    Geo_df = Geo_df.append(dict_obj , ignore_index=True)\n",
    "    time.sleep(5)\n"
   ]
  },
  {
   "cell_type": "markdown",
   "metadata": {},
   "source": [
    "##### Just to make sure that we don't have any duplicate district Id in the Geo_df data frame."
   ]
  },
  {
   "cell_type": "code",
   "execution_count": 1944,
   "metadata": {},
   "outputs": [
    {
     "data": {
      "text/html": [
       "<div>\n",
       "<style scoped>\n",
       "    .dataframe tbody tr th:only-of-type {\n",
       "        vertical-align: middle;\n",
       "    }\n",
       "\n",
       "    .dataframe tbody tr th {\n",
       "        vertical-align: top;\n",
       "    }\n",
       "\n",
       "    .dataframe thead th {\n",
       "        text-align: right;\n",
       "    }\n",
       "</style>\n",
       "<table border=\"1\" class=\"dataframe\">\n",
       "  <thead>\n",
       "    <tr style=\"text-align: right;\">\n",
       "      <th></th>\n",
       "      <th>minx</th>\n",
       "      <th>miny</th>\n",
       "      <th>maxx</th>\n",
       "      <th>maxy</th>\n",
       "      <th>success</th>\n",
       "      <th>result</th>\n",
       "      <th>statusdescription</th>\n",
       "      <th>fullexception</th>\n",
       "      <th>Id</th>\n",
       "      <th>Name</th>\n",
       "    </tr>\n",
       "  </thead>\n",
       "  <tbody>\n",
       "  </tbody>\n",
       "</table>\n",
       "</div>"
      ],
      "text/plain": [
       "Empty DataFrame\n",
       "Columns: [minx, miny, maxx, maxy, success, result, statusdescription, fullexception, Id, Name]\n",
       "Index: []"
      ]
     },
     "execution_count": 1944,
     "metadata": {},
     "output_type": "execute_result"
    }
   ],
   "source": [
    "#Geo_df.drop(Geo_df.index, inplace=True)\n",
    "Geo_df = Geo_df.drop_duplicates(subset='Id', keep='first')\n",
    "Geo_df.head(10)"
   ]
  },
  {
   "cell_type": "markdown",
   "metadata": {},
   "source": [
    "##### Saving the results into drive to avoid calling the above API calls in case we lost the current session."
   ]
  },
  {
   "cell_type": "code",
   "execution_count": 1329,
   "metadata": {},
   "outputs": [],
   "source": [
    "Geo_df.to_csv(r'C:\\Users\\Test\\Downloads\\Course\\Data Science\\Riyadh_Geo.csv')"
   ]
  },
  {
   "cell_type": "markdown",
   "metadata": {},
   "source": [
    "##### Now we each district name with district Id and location boundaries."
   ]
  },
  {
   "cell_type": "code",
   "execution_count": 1945,
   "metadata": {},
   "outputs": [
    {
     "name": "stderr",
     "output_type": "stream",
     "text": [
      "C:\\Users\\Test\\Anaconda3\\lib\\site-packages\\IPython\\core\\displayhook.py:271: UserWarning: Output cache limit (currently 1000 entries) hit.\n",
      "Flushing oldest 200 entries.\n",
      "  'Flushing oldest {cull_count} entries.'.format(sz=sz, cull_count=cull_count))\n"
     ]
    },
    {
     "data": {
      "text/html": [
       "<div>\n",
       "<style scoped>\n",
       "    .dataframe tbody tr th:only-of-type {\n",
       "        vertical-align: middle;\n",
       "    }\n",
       "\n",
       "    .dataframe tbody tr th {\n",
       "        vertical-align: top;\n",
       "    }\n",
       "\n",
       "    .dataframe thead th {\n",
       "        text-align: right;\n",
       "    }\n",
       "</style>\n",
       "<table border=\"1\" class=\"dataframe\">\n",
       "  <thead>\n",
       "    <tr style=\"text-align: right;\">\n",
       "      <th></th>\n",
       "      <th>minx</th>\n",
       "      <th>miny</th>\n",
       "      <th>maxx</th>\n",
       "      <th>maxy</th>\n",
       "      <th>success</th>\n",
       "      <th>result</th>\n",
       "      <th>statusdescription</th>\n",
       "      <th>fullexception</th>\n",
       "      <th>Id</th>\n",
       "      <th>Name</th>\n",
       "    </tr>\n",
       "  </thead>\n",
       "  <tbody>\n",
       "    <tr>\n",
       "      <th>0</th>\n",
       "      <td>46.849667</td>\n",
       "      <td>24.502699</td>\n",
       "      <td>46.946597</td>\n",
       "      <td>24.586056</td>\n",
       "      <td>True</td>\n",
       "      <td>NaN</td>\n",
       "      <td>SUCCESS</td>\n",
       "      <td>NaN</td>\n",
       "      <td>10100003028</td>\n",
       "      <td>المدينة الصناعية الثانية</td>\n",
       "    </tr>\n",
       "    <tr>\n",
       "      <th>1</th>\n",
       "      <td>46.687785</td>\n",
       "      <td>24.801407</td>\n",
       "      <td>46.721923</td>\n",
       "      <td>24.830920</td>\n",
       "      <td>True</td>\n",
       "      <td>NaN</td>\n",
       "      <td>SUCCESS</td>\n",
       "      <td>NaN</td>\n",
       "      <td>10100003151</td>\n",
       "      <td>جامعة الامام محمد بن سعود الاسلامية</td>\n",
       "    </tr>\n",
       "    <tr>\n",
       "      <th>2</th>\n",
       "      <td>46.602110</td>\n",
       "      <td>24.703914</td>\n",
       "      <td>46.646853</td>\n",
       "      <td>24.744095</td>\n",
       "      <td>True</td>\n",
       "      <td>NaN</td>\n",
       "      <td>SUCCESS</td>\n",
       "      <td>NaN</td>\n",
       "      <td>10100003166</td>\n",
       "      <td>جامعة الملك سعود</td>\n",
       "    </tr>\n",
       "    <tr>\n",
       "      <th>3</th>\n",
       "      <td>46.614732</td>\n",
       "      <td>24.472169</td>\n",
       "      <td>46.655266</td>\n",
       "      <td>24.507673</td>\n",
       "      <td>True</td>\n",
       "      <td>NaN</td>\n",
       "      <td>SUCCESS</td>\n",
       "      <td>NaN</td>\n",
       "      <td>10100003059</td>\n",
       "      <td>حي احد</td>\n",
       "    </tr>\n",
       "    <tr>\n",
       "      <th>4</th>\n",
       "      <td>46.766300</td>\n",
       "      <td>24.776342</td>\n",
       "      <td>46.818068</td>\n",
       "      <td>24.809261</td>\n",
       "      <td>True</td>\n",
       "      <td>NaN</td>\n",
       "      <td>SUCCESS</td>\n",
       "      <td>NaN</td>\n",
       "      <td>10100003137</td>\n",
       "      <td>حي اشبيلية</td>\n",
       "    </tr>\n",
       "    <tr>\n",
       "      <th>5</th>\n",
       "      <td>46.704352</td>\n",
       "      <td>24.768613</td>\n",
       "      <td>46.730595</td>\n",
       "      <td>24.792597</td>\n",
       "      <td>True</td>\n",
       "      <td>NaN</td>\n",
       "      <td>SUCCESS</td>\n",
       "      <td>NaN</td>\n",
       "      <td>10100003086</td>\n",
       "      <td>حي الازدهار</td>\n",
       "    </tr>\n",
       "    <tr>\n",
       "      <th>6</th>\n",
       "      <td>46.826500</td>\n",
       "      <td>24.558753</td>\n",
       "      <td>46.869002</td>\n",
       "      <td>24.589107</td>\n",
       "      <td>True</td>\n",
       "      <td>NaN</td>\n",
       "      <td>SUCCESS</td>\n",
       "      <td>NaN</td>\n",
       "      <td>10100003077</td>\n",
       "      <td>حي الاسكان</td>\n",
       "    </tr>\n",
       "    <tr>\n",
       "      <th>7</th>\n",
       "      <td>46.774519</td>\n",
       "      <td>24.730206</td>\n",
       "      <td>46.802697</td>\n",
       "      <td>24.756757</td>\n",
       "      <td>True</td>\n",
       "      <td>NaN</td>\n",
       "      <td>SUCCESS</td>\n",
       "      <td>NaN</td>\n",
       "      <td>10100003087</td>\n",
       "      <td>حي الاندلس</td>\n",
       "    </tr>\n",
       "    <tr>\n",
       "      <th>8</th>\n",
       "      <td>46.668959</td>\n",
       "      <td>24.605898</td>\n",
       "      <td>46.692829</td>\n",
       "      <td>24.626462</td>\n",
       "      <td>True</td>\n",
       "      <td>NaN</td>\n",
       "      <td>SUCCESS</td>\n",
       "      <td>NaN</td>\n",
       "      <td>10100003071</td>\n",
       "      <td>حي البديعة</td>\n",
       "    </tr>\n",
       "    <tr>\n",
       "      <th>9</th>\n",
       "      <td>46.869214</td>\n",
       "      <td>24.498098</td>\n",
       "      <td>47.006928</td>\n",
       "      <td>24.596494</td>\n",
       "      <td>True</td>\n",
       "      <td>NaN</td>\n",
       "      <td>SUCCESS</td>\n",
       "      <td>NaN</td>\n",
       "      <td>10100003094</td>\n",
       "      <td>حي البرية</td>\n",
       "    </tr>\n",
       "  </tbody>\n",
       "</table>\n",
       "</div>"
      ],
      "text/plain": [
       "        minx       miny       maxx       maxy  success  result  \\\n",
       "0  46.849667  24.502699  46.946597  24.586056     True     NaN   \n",
       "1  46.687785  24.801407  46.721923  24.830920     True     NaN   \n",
       "2  46.602110  24.703914  46.646853  24.744095     True     NaN   \n",
       "3  46.614732  24.472169  46.655266  24.507673     True     NaN   \n",
       "4  46.766300  24.776342  46.818068  24.809261     True     NaN   \n",
       "5  46.704352  24.768613  46.730595  24.792597     True     NaN   \n",
       "6  46.826500  24.558753  46.869002  24.589107     True     NaN   \n",
       "7  46.774519  24.730206  46.802697  24.756757     True     NaN   \n",
       "8  46.668959  24.605898  46.692829  24.626462     True     NaN   \n",
       "9  46.869214  24.498098  47.006928  24.596494     True     NaN   \n",
       "\n",
       "  statusdescription  fullexception           Id  \\\n",
       "0           SUCCESS            NaN  10100003028   \n",
       "1           SUCCESS            NaN  10100003151   \n",
       "2           SUCCESS            NaN  10100003166   \n",
       "3           SUCCESS            NaN  10100003059   \n",
       "4           SUCCESS            NaN  10100003137   \n",
       "5           SUCCESS            NaN  10100003086   \n",
       "6           SUCCESS            NaN  10100003077   \n",
       "7           SUCCESS            NaN  10100003087   \n",
       "8           SUCCESS            NaN  10100003071   \n",
       "9           SUCCESS            NaN  10100003094   \n",
       "\n",
       "                                  Name  \n",
       "0             المدينة الصناعية الثانية  \n",
       "1  جامعة الامام محمد بن سعود الاسلامية  \n",
       "2                     جامعة الملك سعود  \n",
       "3                               حي احد  \n",
       "4                           حي اشبيلية  \n",
       "5                          حي الازدهار  \n",
       "6                           حي الاسكان  \n",
       "7                           حي الاندلس  \n",
       "8                           حي البديعة  \n",
       "9                            حي البرية  "
      ]
     },
     "execution_count": 1945,
     "metadata": {},
     "output_type": "execute_result"
    }
   ],
   "source": [
    "Geo_df = pd.read_csv(r'C:\\Users\\Test\\Downloads\\Course\\Data Science\\Riyadh_Geo.csv', index_col = 0)\n",
    "Geo_df.head(10)"
   ]
  },
  {
   "cell_type": "markdown",
   "metadata": {},
   "source": [
    "##### Data preparation for the Geo_df"
   ]
  },
  {
   "cell_type": "code",
   "execution_count": 1946,
   "metadata": {
    "scrolled": true
   },
   "outputs": [
    {
     "data": {
      "text/plain": [
       "minx        float64\n",
       "miny        float64\n",
       "maxx        float64\n",
       "maxy        float64\n",
       "Id            int64\n",
       "District     object\n",
       "dtype: object"
      ]
     },
     "execution_count": 1946,
     "metadata": {},
     "output_type": "execute_result"
    }
   ],
   "source": [
    "Geo_df['minx'] = Geo_df['minx'].astype(float)\n",
    "Geo_df['miny'] = Geo_df['miny'].astype(float)\n",
    "Geo_df['maxx'] = Geo_df['maxx'].astype(float)\n",
    "Geo_df['maxy'] = Geo_df['maxy'].astype(float)\n",
    "try: \n",
    "    Geo_df.drop(['success', 'result', 'statusdescription', 'fullexception'], axis=1, inplace=True) \n",
    "except: \n",
    "    pass\n",
    "Geo_df.rename(columns={'Name':'District'}, inplace=True)\n",
    "Geo_df['District'] = Geo_df['District'].str.replace('حي ', '')\n",
    "Geo_df.dtypes"
   ]
  },
  {
   "cell_type": "code",
   "execution_count": 1947,
   "metadata": {
    "scrolled": true
   },
   "outputs": [
    {
     "data": {
      "text/html": [
       "<div>\n",
       "<style scoped>\n",
       "    .dataframe tbody tr th:only-of-type {\n",
       "        vertical-align: middle;\n",
       "    }\n",
       "\n",
       "    .dataframe tbody tr th {\n",
       "        vertical-align: top;\n",
       "    }\n",
       "\n",
       "    .dataframe thead th {\n",
       "        text-align: right;\n",
       "    }\n",
       "</style>\n",
       "<table border=\"1\" class=\"dataframe\">\n",
       "  <thead>\n",
       "    <tr style=\"text-align: right;\">\n",
       "      <th></th>\n",
       "      <th>minx</th>\n",
       "      <th>miny</th>\n",
       "      <th>maxx</th>\n",
       "      <th>maxy</th>\n",
       "      <th>Id</th>\n",
       "      <th>District</th>\n",
       "    </tr>\n",
       "  </thead>\n",
       "  <tbody>\n",
       "    <tr>\n",
       "      <th>0</th>\n",
       "      <td>46.849667</td>\n",
       "      <td>24.502699</td>\n",
       "      <td>46.946597</td>\n",
       "      <td>24.586056</td>\n",
       "      <td>10100003028</td>\n",
       "      <td>المدينة الصناعية الثانية</td>\n",
       "    </tr>\n",
       "    <tr>\n",
       "      <th>1</th>\n",
       "      <td>46.687785</td>\n",
       "      <td>24.801407</td>\n",
       "      <td>46.721923</td>\n",
       "      <td>24.830920</td>\n",
       "      <td>10100003151</td>\n",
       "      <td>جامعة الامام محمد بن سعود الاسلامية</td>\n",
       "    </tr>\n",
       "    <tr>\n",
       "      <th>2</th>\n",
       "      <td>46.602110</td>\n",
       "      <td>24.703914</td>\n",
       "      <td>46.646853</td>\n",
       "      <td>24.744095</td>\n",
       "      <td>10100003166</td>\n",
       "      <td>جامعة الملك سعود</td>\n",
       "    </tr>\n",
       "    <tr>\n",
       "      <th>3</th>\n",
       "      <td>46.614732</td>\n",
       "      <td>24.472169</td>\n",
       "      <td>46.655266</td>\n",
       "      <td>24.507673</td>\n",
       "      <td>10100003059</td>\n",
       "      <td>احد</td>\n",
       "    </tr>\n",
       "    <tr>\n",
       "      <th>4</th>\n",
       "      <td>46.766300</td>\n",
       "      <td>24.776342</td>\n",
       "      <td>46.818068</td>\n",
       "      <td>24.809261</td>\n",
       "      <td>10100003137</td>\n",
       "      <td>اشبيلية</td>\n",
       "    </tr>\n",
       "    <tr>\n",
       "      <th>5</th>\n",
       "      <td>46.704352</td>\n",
       "      <td>24.768613</td>\n",
       "      <td>46.730595</td>\n",
       "      <td>24.792597</td>\n",
       "      <td>10100003086</td>\n",
       "      <td>الازدهار</td>\n",
       "    </tr>\n",
       "    <tr>\n",
       "      <th>6</th>\n",
       "      <td>46.826500</td>\n",
       "      <td>24.558753</td>\n",
       "      <td>46.869002</td>\n",
       "      <td>24.589107</td>\n",
       "      <td>10100003077</td>\n",
       "      <td>الاسكان</td>\n",
       "    </tr>\n",
       "    <tr>\n",
       "      <th>7</th>\n",
       "      <td>46.774519</td>\n",
       "      <td>24.730206</td>\n",
       "      <td>46.802697</td>\n",
       "      <td>24.756757</td>\n",
       "      <td>10100003087</td>\n",
       "      <td>الاندلس</td>\n",
       "    </tr>\n",
       "    <tr>\n",
       "      <th>8</th>\n",
       "      <td>46.668959</td>\n",
       "      <td>24.605898</td>\n",
       "      <td>46.692829</td>\n",
       "      <td>24.626462</td>\n",
       "      <td>10100003071</td>\n",
       "      <td>البديعة</td>\n",
       "    </tr>\n",
       "    <tr>\n",
       "      <th>9</th>\n",
       "      <td>46.869214</td>\n",
       "      <td>24.498098</td>\n",
       "      <td>47.006928</td>\n",
       "      <td>24.596494</td>\n",
       "      <td>10100003094</td>\n",
       "      <td>البرية</td>\n",
       "    </tr>\n",
       "  </tbody>\n",
       "</table>\n",
       "</div>"
      ],
      "text/plain": [
       "        minx       miny       maxx       maxy           Id  \\\n",
       "0  46.849667  24.502699  46.946597  24.586056  10100003028   \n",
       "1  46.687785  24.801407  46.721923  24.830920  10100003151   \n",
       "2  46.602110  24.703914  46.646853  24.744095  10100003166   \n",
       "3  46.614732  24.472169  46.655266  24.507673  10100003059   \n",
       "4  46.766300  24.776342  46.818068  24.809261  10100003137   \n",
       "5  46.704352  24.768613  46.730595  24.792597  10100003086   \n",
       "6  46.826500  24.558753  46.869002  24.589107  10100003077   \n",
       "7  46.774519  24.730206  46.802697  24.756757  10100003087   \n",
       "8  46.668959  24.605898  46.692829  24.626462  10100003071   \n",
       "9  46.869214  24.498098  47.006928  24.596494  10100003094   \n",
       "\n",
       "                              District  \n",
       "0             المدينة الصناعية الثانية  \n",
       "1  جامعة الامام محمد بن سعود الاسلامية  \n",
       "2                     جامعة الملك سعود  \n",
       "3                                  احد  \n",
       "4                              اشبيلية  \n",
       "5                             الازدهار  \n",
       "6                              الاسكان  \n",
       "7                              الاندلس  \n",
       "8                              البديعة  \n",
       "9                               البرية  "
      ]
     },
     "execution_count": 1947,
     "metadata": {},
     "output_type": "execute_result"
    }
   ],
   "source": [
    "Geo_df.head(10)"
   ]
  },
  {
   "cell_type": "markdown",
   "metadata": {},
   "source": [
    "##### Let's assume that the center of maximum and minimum coordinates represents the district coordinates. "
   ]
  },
  {
   "cell_type": "code",
   "execution_count": 1948,
   "metadata": {
    "scrolled": false
   },
   "outputs": [
    {
     "data": {
      "text/html": [
       "<div>\n",
       "<style scoped>\n",
       "    .dataframe tbody tr th:only-of-type {\n",
       "        vertical-align: middle;\n",
       "    }\n",
       "\n",
       "    .dataframe tbody tr th {\n",
       "        vertical-align: top;\n",
       "    }\n",
       "\n",
       "    .dataframe thead th {\n",
       "        text-align: right;\n",
       "    }\n",
       "</style>\n",
       "<table border=\"1\" class=\"dataframe\">\n",
       "  <thead>\n",
       "    <tr style=\"text-align: right;\">\n",
       "      <th></th>\n",
       "      <th>minx</th>\n",
       "      <th>miny</th>\n",
       "      <th>maxx</th>\n",
       "      <th>maxy</th>\n",
       "      <th>Id</th>\n",
       "      <th>District</th>\n",
       "      <th>longitude</th>\n",
       "      <th>latitude</th>\n",
       "    </tr>\n",
       "  </thead>\n",
       "  <tbody>\n",
       "    <tr>\n",
       "      <th>0</th>\n",
       "      <td>46.849667</td>\n",
       "      <td>24.502699</td>\n",
       "      <td>46.946597</td>\n",
       "      <td>24.586056</td>\n",
       "      <td>10100003028</td>\n",
       "      <td>المدينة الصناعية الثانية</td>\n",
       "      <td>46.898132</td>\n",
       "      <td>24.544378</td>\n",
       "    </tr>\n",
       "    <tr>\n",
       "      <th>1</th>\n",
       "      <td>46.687785</td>\n",
       "      <td>24.801407</td>\n",
       "      <td>46.721923</td>\n",
       "      <td>24.830920</td>\n",
       "      <td>10100003151</td>\n",
       "      <td>جامعة الامام محمد بن سعود الاسلامية</td>\n",
       "      <td>46.704854</td>\n",
       "      <td>24.816164</td>\n",
       "    </tr>\n",
       "    <tr>\n",
       "      <th>2</th>\n",
       "      <td>46.602110</td>\n",
       "      <td>24.703914</td>\n",
       "      <td>46.646853</td>\n",
       "      <td>24.744095</td>\n",
       "      <td>10100003166</td>\n",
       "      <td>جامعة الملك سعود</td>\n",
       "      <td>46.624481</td>\n",
       "      <td>24.724005</td>\n",
       "    </tr>\n",
       "    <tr>\n",
       "      <th>3</th>\n",
       "      <td>46.614732</td>\n",
       "      <td>24.472169</td>\n",
       "      <td>46.655266</td>\n",
       "      <td>24.507673</td>\n",
       "      <td>10100003059</td>\n",
       "      <td>احد</td>\n",
       "      <td>46.634999</td>\n",
       "      <td>24.489921</td>\n",
       "    </tr>\n",
       "    <tr>\n",
       "      <th>4</th>\n",
       "      <td>46.766300</td>\n",
       "      <td>24.776342</td>\n",
       "      <td>46.818068</td>\n",
       "      <td>24.809261</td>\n",
       "      <td>10100003137</td>\n",
       "      <td>اشبيلية</td>\n",
       "      <td>46.792184</td>\n",
       "      <td>24.792802</td>\n",
       "    </tr>\n",
       "    <tr>\n",
       "      <th>5</th>\n",
       "      <td>46.704352</td>\n",
       "      <td>24.768613</td>\n",
       "      <td>46.730595</td>\n",
       "      <td>24.792597</td>\n",
       "      <td>10100003086</td>\n",
       "      <td>الازدهار</td>\n",
       "      <td>46.717473</td>\n",
       "      <td>24.780605</td>\n",
       "    </tr>\n",
       "    <tr>\n",
       "      <th>6</th>\n",
       "      <td>46.826500</td>\n",
       "      <td>24.558753</td>\n",
       "      <td>46.869002</td>\n",
       "      <td>24.589107</td>\n",
       "      <td>10100003077</td>\n",
       "      <td>الاسكان</td>\n",
       "      <td>46.847751</td>\n",
       "      <td>24.573930</td>\n",
       "    </tr>\n",
       "    <tr>\n",
       "      <th>7</th>\n",
       "      <td>46.774519</td>\n",
       "      <td>24.730206</td>\n",
       "      <td>46.802697</td>\n",
       "      <td>24.756757</td>\n",
       "      <td>10100003087</td>\n",
       "      <td>الاندلس</td>\n",
       "      <td>46.788608</td>\n",
       "      <td>24.743482</td>\n",
       "    </tr>\n",
       "    <tr>\n",
       "      <th>8</th>\n",
       "      <td>46.668959</td>\n",
       "      <td>24.605898</td>\n",
       "      <td>46.692829</td>\n",
       "      <td>24.626462</td>\n",
       "      <td>10100003071</td>\n",
       "      <td>البديعة</td>\n",
       "      <td>46.680894</td>\n",
       "      <td>24.616180</td>\n",
       "    </tr>\n",
       "    <tr>\n",
       "      <th>9</th>\n",
       "      <td>46.869214</td>\n",
       "      <td>24.498098</td>\n",
       "      <td>47.006928</td>\n",
       "      <td>24.596494</td>\n",
       "      <td>10100003094</td>\n",
       "      <td>البرية</td>\n",
       "      <td>46.938071</td>\n",
       "      <td>24.547296</td>\n",
       "    </tr>\n",
       "  </tbody>\n",
       "</table>\n",
       "</div>"
      ],
      "text/plain": [
       "        minx       miny       maxx       maxy           Id  \\\n",
       "0  46.849667  24.502699  46.946597  24.586056  10100003028   \n",
       "1  46.687785  24.801407  46.721923  24.830920  10100003151   \n",
       "2  46.602110  24.703914  46.646853  24.744095  10100003166   \n",
       "3  46.614732  24.472169  46.655266  24.507673  10100003059   \n",
       "4  46.766300  24.776342  46.818068  24.809261  10100003137   \n",
       "5  46.704352  24.768613  46.730595  24.792597  10100003086   \n",
       "6  46.826500  24.558753  46.869002  24.589107  10100003077   \n",
       "7  46.774519  24.730206  46.802697  24.756757  10100003087   \n",
       "8  46.668959  24.605898  46.692829  24.626462  10100003071   \n",
       "9  46.869214  24.498098  47.006928  24.596494  10100003094   \n",
       "\n",
       "                              District  longitude   latitude  \n",
       "0             المدينة الصناعية الثانية  46.898132  24.544378  \n",
       "1  جامعة الامام محمد بن سعود الاسلامية  46.704854  24.816164  \n",
       "2                     جامعة الملك سعود  46.624481  24.724005  \n",
       "3                                  احد  46.634999  24.489921  \n",
       "4                              اشبيلية  46.792184  24.792802  \n",
       "5                             الازدهار  46.717473  24.780605  \n",
       "6                              الاسكان  46.847751  24.573930  \n",
       "7                              الاندلس  46.788608  24.743482  \n",
       "8                              البديعة  46.680894  24.616180  \n",
       "9                               البرية  46.938071  24.547296  "
      ]
     },
     "execution_count": 1948,
     "metadata": {},
     "output_type": "execute_result"
    }
   ],
   "source": [
    "Geo_df['longitude'] = ( Geo_df['minx'] + Geo_df['maxx'] ) / 2\n",
    "Geo_df['latitude'] = ( Geo_df['miny'] + Geo_df['maxy'] ) / 2\n",
    "Geo_df.rename(columns={'Name':'District'}, inplace=True)\n",
    "#Geo_df.reset_index(inplace=True)\n",
    "Geo_df.head(10)"
   ]
  },
  {
   "cell_type": "markdown",
   "metadata": {},
   "source": [
    "##### Displaying the districts list retrieved from address api in a folium map."
   ]
  },
  {
   "cell_type": "code",
   "execution_count": 1949,
   "metadata": {},
   "outputs": [],
   "source": [
    "latitude = Geo_df['latitude'][15]\n",
    "longitude = Geo_df['longitude'][15]\n",
    "map_riyadh_districts = folium.Map(location=[latitude, longitude], zoom_start=10)\n",
    "\n",
    "for i in range(0,len(df)):\n",
    "    folium.CircleMarker(\n",
    "        [Geo_df.iloc[i]['latitude'], Geo_df.iloc[i]['longitude']],\n",
    "        popup=Geo_df.iloc[i]['District'],\n",
    "        radius=5,\n",
    "        fill = True,\n",
    "        fill_opacity=0.5\n",
    "    ).add_to(map_riyadh_districts)\n",
    "\n",
    "map_riyadh_districts.save('c:\\\\users\\\\Test\\\\Riyadh_Map_Districts.html')"
   ]
  },
  {
   "cell_type": "markdown",
   "metadata": {},
   "source": [
    "<img src='Riyadh_Map_Districts_01.jpg'>\n",
    "<img src='Riyadh_Map_Districts_02.jpg'>"
   ]
  },
  {
   "cell_type": "markdown",
   "metadata": {},
   "source": [
    "##### To make a choropleth map we need to create GeoJson file since it is not publicly available.\n",
    "##### We will assume that all districts in Riyadh city have rectangular shape.\n",
    "##### Depending on the minimum and maximum points we can create a geopandas polygon object using shapely points."
   ]
  },
  {
   "cell_type": "code",
   "execution_count": 1950,
   "metadata": {},
   "outputs": [],
   "source": [
    "from shapely.geometry import Polygon\n",
    "import geopandas as gpd"
   ]
  },
  {
   "cell_type": "code",
   "execution_count": 1951,
   "metadata": {},
   "outputs": [
    {
     "data": {
      "text/plain": [
       "[<shapely.geometry.polygon.Polygon at 0x172999e77b8>,\n",
       " <shapely.geometry.polygon.Polygon at 0x172999e7828>,\n",
       " <shapely.geometry.polygon.Polygon at 0x172999e7860>]"
      ]
     },
     "execution_count": 1951,
     "metadata": {},
     "output_type": "execute_result"
    }
   ],
   "source": [
    "GeoList = []\n",
    "for i in range(0, len(Geo_df)):\n",
    "    x1 = Geo_df.iloc[i]['minx']\n",
    "    y1 = Geo_df.iloc[i]['miny']\n",
    "    x2 = Geo_df.iloc[i]['maxx']\n",
    "    y2 = Geo_df.iloc[i]['maxy']\n",
    "    GeoList.append(Polygon( [(x1,y1), (x2,y1), (x2, y2), (x1, y2), (x1, y1)] ) )\n",
    "\n",
    "GeoList[:3]"
   ]
  },
  {
   "cell_type": "markdown",
   "metadata": {},
   "source": [
    "##### Creating the GeoJson file using geopandas library."
   ]
  },
  {
   "cell_type": "code",
   "execution_count": 1952,
   "metadata": {},
   "outputs": [],
   "source": [
    "Geo_Json = gpd.GeoSeries(GeoList).to_json()\n",
    "with open(r\"C:\\Users\\Test\\Downloads\\Course\\Data Science\\Riyadh_01.GeoJson\", \"w\") as text_file:\n",
    "    text_file.write(Geo_Json)"
   ]
  },
  {
   "cell_type": "markdown",
   "metadata": {},
   "source": [
    "##### The GeoList can be plotted so that we have an idea how it will be displayed on the map."
   ]
  },
  {
   "cell_type": "code",
   "execution_count": 1953,
   "metadata": {},
   "outputs": [
    {
     "data": {
      "text/plain": [
       "<matplotlib.axes._subplots.AxesSubplot at 0x17299a55550>"
      ]
     },
     "execution_count": 1953,
     "metadata": {},
     "output_type": "execute_result"
    },
    {
     "data": {
      "image/png": "[encoded data removed]",
      "text/plain": [
       "<Figure size 432x288 with 1 Axes>"
      ]
     },
     "metadata": {
      "needs_background": "light"
     },
     "output_type": "display_data"
    }
   ],
   "source": [
    "gpd.GeoSeries(GeoList).plot()"
   ]
  },
  {
   "cell_type": "markdown",
   "metadata": {},
   "source": [
    "##### Display the GeoJson data in the map using folium choropleth method."
   ]
  },
  {
   "cell_type": "code",
   "execution_count": 1954,
   "metadata": {},
   "outputs": [],
   "source": [
    "latitude = Geo_df['latitude'][15]\n",
    "longitude = Geo_df['longitude'][15]\n",
    "map_riyadh_choropleth_01 = folium.Map(location=[latitude, longitude], zoom_start=10)"
   ]
  },
  {
   "cell_type": "code",
   "execution_count": 1955,
   "metadata": {},
   "outputs": [],
   "source": [
    "map_geo = r\"C:\\Users\\Test\\Downloads\\Course\\Data Science\\Riyadh_01.GeoJson\"\n",
    "map_riyadh_choropleth_01.choropleth(\n",
    " geo_data=map_geo,\n",
    " name='choropleth',\n",
    " key_on='feature.id',\n",
    " fill_color='YlGn',\n",
    " fill_opacity=0.5,\n",
    " line_opacity=0.2,\n",
    ")\n",
    "folium.LayerControl().add_to(map_riyadh_choropleth_01)\n",
    "\n",
    "map_riyadh_choropleth_01.save('c:\\\\users\\\\Test\\\\Riyadh_map_choropleth_01.html')"
   ]
  },
  {
   "cell_type": "markdown",
   "metadata": {},
   "source": [
    "<img src='Riyadh_Map_Choropleth_01.jpg'>"
   ]
  },
  {
   "cell_type": "markdown",
   "metadata": {},
   "source": [
    "##### The shape have many overlapped rectangles.\n",
    "##### Let's try enhance the shape by decreasing the rectangles sizes by 15%."
   ]
  },
  {
   "cell_type": "code",
   "execution_count": 1956,
   "metadata": {
    "scrolled": true
   },
   "outputs": [
    {
     "data": {
      "text/html": [
       "<div>\n",
       "<style scoped>\n",
       "    .dataframe tbody tr th:only-of-type {\n",
       "        vertical-align: middle;\n",
       "    }\n",
       "\n",
       "    .dataframe tbody tr th {\n",
       "        vertical-align: top;\n",
       "    }\n",
       "\n",
       "    .dataframe thead th {\n",
       "        text-align: right;\n",
       "    }\n",
       "</style>\n",
       "<table border=\"1\" class=\"dataframe\">\n",
       "  <thead>\n",
       "    <tr style=\"text-align: right;\">\n",
       "      <th></th>\n",
       "      <th>minx</th>\n",
       "      <th>miny</th>\n",
       "      <th>maxx</th>\n",
       "      <th>maxy</th>\n",
       "      <th>Id</th>\n",
       "      <th>District</th>\n",
       "      <th>longitude</th>\n",
       "      <th>latitude</th>\n",
       "    </tr>\n",
       "  </thead>\n",
       "  <tbody>\n",
       "    <tr>\n",
       "      <th>0</th>\n",
       "      <td>46.849667</td>\n",
       "      <td>24.502699</td>\n",
       "      <td>46.946597</td>\n",
       "      <td>24.586056</td>\n",
       "      <td>10100003028</td>\n",
       "      <td>المدينة الصناعية الثانية</td>\n",
       "      <td>46.898132</td>\n",
       "      <td>24.544378</td>\n",
       "    </tr>\n",
       "    <tr>\n",
       "      <th>1</th>\n",
       "      <td>46.687785</td>\n",
       "      <td>24.801407</td>\n",
       "      <td>46.721923</td>\n",
       "      <td>24.830920</td>\n",
       "      <td>10100003151</td>\n",
       "      <td>جامعة الامام محمد بن سعود الاسلامية</td>\n",
       "      <td>46.704854</td>\n",
       "      <td>24.816164</td>\n",
       "    </tr>\n",
       "    <tr>\n",
       "      <th>2</th>\n",
       "      <td>46.602110</td>\n",
       "      <td>24.703914</td>\n",
       "      <td>46.646853</td>\n",
       "      <td>24.744095</td>\n",
       "      <td>10100003166</td>\n",
       "      <td>جامعة الملك سعود</td>\n",
       "      <td>46.624481</td>\n",
       "      <td>24.724005</td>\n",
       "    </tr>\n",
       "    <tr>\n",
       "      <th>3</th>\n",
       "      <td>46.614732</td>\n",
       "      <td>24.472169</td>\n",
       "      <td>46.655266</td>\n",
       "      <td>24.507673</td>\n",
       "      <td>10100003059</td>\n",
       "      <td>احد</td>\n",
       "      <td>46.634999</td>\n",
       "      <td>24.489921</td>\n",
       "    </tr>\n",
       "    <tr>\n",
       "      <th>4</th>\n",
       "      <td>46.766300</td>\n",
       "      <td>24.776342</td>\n",
       "      <td>46.818068</td>\n",
       "      <td>24.809261</td>\n",
       "      <td>10100003137</td>\n",
       "      <td>اشبيلية</td>\n",
       "      <td>46.792184</td>\n",
       "      <td>24.792802</td>\n",
       "    </tr>\n",
       "  </tbody>\n",
       "</table>\n",
       "</div>"
      ],
      "text/plain": [
       "        minx       miny       maxx       maxy           Id  \\\n",
       "0  46.849667  24.502699  46.946597  24.586056  10100003028   \n",
       "1  46.687785  24.801407  46.721923  24.830920  10100003151   \n",
       "2  46.602110  24.703914  46.646853  24.744095  10100003166   \n",
       "3  46.614732  24.472169  46.655266  24.507673  10100003059   \n",
       "4  46.766300  24.776342  46.818068  24.809261  10100003137   \n",
       "\n",
       "                              District  longitude   latitude  \n",
       "0             المدينة الصناعية الثانية  46.898132  24.544378  \n",
       "1  جامعة الامام محمد بن سعود الاسلامية  46.704854  24.816164  \n",
       "2                     جامعة الملك سعود  46.624481  24.724005  \n",
       "3                                  احد  46.634999  24.489921  \n",
       "4                              اشبيلية  46.792184  24.792802  "
      ]
     },
     "execution_count": 1956,
     "metadata": {},
     "output_type": "execute_result"
    }
   ],
   "source": [
    "Geo_df.head()"
   ]
  },
  {
   "cell_type": "code",
   "execution_count": 1957,
   "metadata": {
    "scrolled": true
   },
   "outputs": [
    {
     "data": {
      "text/html": [
       "<div>\n",
       "<style scoped>\n",
       "    .dataframe tbody tr th:only-of-type {\n",
       "        vertical-align: middle;\n",
       "    }\n",
       "\n",
       "    .dataframe tbody tr th {\n",
       "        vertical-align: top;\n",
       "    }\n",
       "\n",
       "    .dataframe thead th {\n",
       "        text-align: right;\n",
       "    }\n",
       "</style>\n",
       "<table border=\"1\" class=\"dataframe\">\n",
       "  <thead>\n",
       "    <tr style=\"text-align: right;\">\n",
       "      <th></th>\n",
       "      <th>minx</th>\n",
       "      <th>miny</th>\n",
       "      <th>maxx</th>\n",
       "      <th>maxy</th>\n",
       "      <th>Id</th>\n",
       "      <th>District</th>\n",
       "      <th>longitude</th>\n",
       "      <th>latitude</th>\n",
       "    </tr>\n",
       "  </thead>\n",
       "  <tbody>\n",
       "    <tr>\n",
       "      <th>0</th>\n",
       "      <td>46.864206</td>\n",
       "      <td>24.515202</td>\n",
       "      <td>46.934238</td>\n",
       "      <td>24.575428</td>\n",
       "      <td>10100003028</td>\n",
       "      <td>المدينة الصناعية الثانية</td>\n",
       "      <td>46.898132</td>\n",
       "      <td>24.544378</td>\n",
       "    </tr>\n",
       "    <tr>\n",
       "      <th>1</th>\n",
       "      <td>46.692906</td>\n",
       "      <td>24.805834</td>\n",
       "      <td>46.717570</td>\n",
       "      <td>24.827157</td>\n",
       "      <td>10100003151</td>\n",
       "      <td>جامعة الامام محمد بن سعود الاسلامية</td>\n",
       "      <td>46.704854</td>\n",
       "      <td>24.816164</td>\n",
       "    </tr>\n",
       "    <tr>\n",
       "      <th>2</th>\n",
       "      <td>46.608821</td>\n",
       "      <td>24.709941</td>\n",
       "      <td>46.641148</td>\n",
       "      <td>24.738972</td>\n",
       "      <td>10100003166</td>\n",
       "      <td>جامعة الملك سعود</td>\n",
       "      <td>46.624481</td>\n",
       "      <td>24.724005</td>\n",
       "    </tr>\n",
       "    <tr>\n",
       "      <th>3</th>\n",
       "      <td>46.620812</td>\n",
       "      <td>24.477494</td>\n",
       "      <td>46.650098</td>\n",
       "      <td>24.503146</td>\n",
       "      <td>10100003059</td>\n",
       "      <td>احد</td>\n",
       "      <td>46.634999</td>\n",
       "      <td>24.489921</td>\n",
       "    </tr>\n",
       "    <tr>\n",
       "      <th>4</th>\n",
       "      <td>46.774065</td>\n",
       "      <td>24.781280</td>\n",
       "      <td>46.811468</td>\n",
       "      <td>24.805064</td>\n",
       "      <td>10100003137</td>\n",
       "      <td>اشبيلية</td>\n",
       "      <td>46.792184</td>\n",
       "      <td>24.792802</td>\n",
       "    </tr>\n",
       "  </tbody>\n",
       "</table>\n",
       "</div>"
      ],
      "text/plain": [
       "        minx       miny       maxx       maxy           Id  \\\n",
       "0  46.864206  24.515202  46.934238  24.575428  10100003028   \n",
       "1  46.692906  24.805834  46.717570  24.827157  10100003151   \n",
       "2  46.608821  24.709941  46.641148  24.738972  10100003166   \n",
       "3  46.620812  24.477494  46.650098  24.503146  10100003059   \n",
       "4  46.774065  24.781280  46.811468  24.805064  10100003137   \n",
       "\n",
       "                              District  longitude   latitude  \n",
       "0             المدينة الصناعية الثانية  46.898132  24.544378  \n",
       "1  جامعة الامام محمد بن سعود الاسلامية  46.704854  24.816164  \n",
       "2                     جامعة الملك سعود  46.624481  24.724005  \n",
       "3                                  احد  46.634999  24.489921  \n",
       "4                              اشبيلية  46.792184  24.792802  "
      ]
     },
     "execution_count": 1957,
     "metadata": {},
     "output_type": "execute_result"
    }
   ],
   "source": [
    "scale_ratio = 0.15\n",
    "\n",
    "Geo_df['minx'] = Geo_df['minx'] + (Geo_df['maxx']-Geo_df['minx']) * scale_ratio\n",
    "Geo_df['miny'] = Geo_df['miny'] + (Geo_df['maxy']-Geo_df['miny']) * scale_ratio\n",
    "Geo_df['maxx'] = Geo_df['maxx'] - (Geo_df['maxx']-Geo_df['minx']) * scale_ratio\n",
    "Geo_df['maxy'] = Geo_df['maxy'] - (Geo_df['maxy']-Geo_df['miny']) * scale_ratio\n",
    "\n",
    "Geo_df.head()"
   ]
  },
  {
   "cell_type": "markdown",
   "metadata": {},
   "source": [
    "##### And we will rotate the rectangles by -25 degrees around the rectangles centroids.\n",
    "##### but first we need to create a new polygon shape for each rectangle and store them in a list ( GeoList )."
   ]
  },
  {
   "cell_type": "code",
   "execution_count": 1958,
   "metadata": {},
   "outputs": [],
   "source": [
    "GeoList = []\n",
    "for i in range(0, len(Geo_df)):\n",
    "    x1 = Geo_df.iloc[i]['minx']\n",
    "    y1 = Geo_df.iloc[i]['miny']\n",
    "    x2 = Geo_df.iloc[i]['maxx']\n",
    "    y2 = Geo_df.iloc[i]['maxy']\n",
    "    GeoList.append(Polygon( [(x1,y1), (x2,y1), (x2, y2), (x1, y2), (x1, y1)] ) )"
   ]
  },
  {
   "cell_type": "code",
   "execution_count": 1959,
   "metadata": {},
   "outputs": [
    {
     "data": {
      "text/plain": [
       "187"
      ]
     },
     "execution_count": 1959,
     "metadata": {},
     "output_type": "execute_result"
    }
   ],
   "source": [
    "len(GeoList)"
   ]
  },
  {
   "cell_type": "code",
   "execution_count": null,
   "metadata": {},
   "outputs": [],
   "source": []
  },
  {
   "cell_type": "code",
   "execution_count": 2205,
   "metadata": {},
   "outputs": [
    {
     "data": {
      "image/svg+xml": [
       "<svg xmlns=\"http://www.w3.org/2000/svg\" xmlns:xlink=\"http://www.w3.org/1999/xlink\" width=\"100.0\" height=\"100.0\" viewBox=\"46.76919160046765 24.773282529592045 0.04714975487523532 0.03977927862274555\" preserveAspectRatio=\"xMinYMin meet\"><g transform=\"matrix(1,0,0,-1,0,49.586344337806835)\"><path fill-rule=\"evenodd\" fill=\"#66cc99\" stroke=\"#555555\" stroke-width=\"0.0009429950975047063\" opacity=\"0.6\" d=\"M 46.780039541662404,24.775028816809645 L 46.814595068125286,24.789342184525516 L 46.80549341414813,24.81131552099719 L 46.77093788768525,24.79700215328132 L 46.780039541662404,24.775028816809645 z\" /></g></svg>"
      ],
      "text/plain": [
       "<shapely.geometry.polygon.Polygon at 0x17299a1e208>"
      ]
     },
     "execution_count": 2205,
     "metadata": {},
     "output_type": "execute_result"
    }
   ],
   "source": [
    "GeoList[0]"
   ]
  },
  {
   "cell_type": "code",
   "execution_count": 1961,
   "metadata": {},
   "outputs": [
    {
     "name": "stdout",
     "output_type": "stream",
     "text": [
      "POLYGON ((46.86420629300218 24.51520233729032, 46.93423827110918 24.51520233729032, 46.93423827110918 24.57542830583388, 46.86420629300218 24.57542830583388, 46.86420629300218 24.51520233729032))\n"
     ]
    }
   ],
   "source": [
    "print(GeoList[0])"
   ]
  },
  {
   "cell_type": "markdown",
   "metadata": {},
   "source": [
    "##### To rorate the rectangles we can use affinity in the shapely library to do that."
   ]
  },
  {
   "cell_type": "code",
   "execution_count": 1962,
   "metadata": {},
   "outputs": [],
   "source": [
    "from shapely import affinity"
   ]
  },
  {
   "cell_type": "code",
   "execution_count": 1963,
   "metadata": {},
   "outputs": [],
   "source": [
    "for i in range(0, len(GeoList)):\n",
    "    GeoList[i] = affinity.rotate(GeoList[i], 25, origin='centroid') "
   ]
  },
  {
   "cell_type": "code",
   "execution_count": 1964,
   "metadata": {},
   "outputs": [
    {
     "data": {
      "text/plain": [
       "187"
      ]
     },
     "execution_count": 1964,
     "metadata": {},
     "output_type": "execute_result"
    }
   ],
   "source": [
    "len(GeoList)"
   ]
  },
  {
   "cell_type": "markdown",
   "metadata": {},
   "source": [
    "##### The shape are now rotates by -25 degrees around it's centroids."
   ]
  },
  {
   "cell_type": "code",
   "execution_count": 1965,
   "metadata": {},
   "outputs": [
    {
     "data": {
      "image/svg+xml": [
       "<svg xmlns=\"http://www.w3.org/2000/svg\" xmlns:xlink=\"http://www.w3.org/1999/xlink\" width=\"100.0\" height=\"100.0\" viewBox=\"46.851203796587434 24.499668368149248 0.09603697093648123 0.09129390682569749\" preserveAspectRatio=\"xMinYMin meet\"><g transform=\"matrix(1,0,0,-1,0,49.09063064312419)\"><path fill-rule=\"evenodd\" fill=\"#66cc99\" stroke=\"#555555\" stroke-width=\"0.0019207394187296244\" opacity=\"0.6\" d=\"M 46.88021331557446,24.503225292998746 L 46.94368384267442,24.532822085852597 L 46.91823124853689,24.587405350125447 L 46.85476072143693,24.557808557271603 L 46.88021331557446,24.503225292998746 z\" /></g></svg>"
      ],
      "text/plain": [
       "<shapely.geometry.polygon.Polygon at 0x17299b1d0f0>"
      ]
     },
     "execution_count": 1965,
     "metadata": {},
     "output_type": "execute_result"
    }
   ],
   "source": [
    "GeoList[0]"
   ]
  },
  {
   "cell_type": "code",
   "execution_count": 1966,
   "metadata": {},
   "outputs": [
    {
     "name": "stdout",
     "output_type": "stream",
     "text": [
      "POLYGON ((46.88021331557446 24.50322529299875, 46.94368384267442 24.5328220858526, 46.91823124853689 24.58740535012545, 46.85476072143693 24.5578085572716, 46.88021331557446 24.50322529299875))\n"
     ]
    }
   ],
   "source": [
    "print(GeoList[0])"
   ]
  },
  {
   "cell_type": "markdown",
   "metadata": {},
   "source": [
    "##### Converting the GeoList back into a GeoJson file."
   ]
  },
  {
   "cell_type": "code",
   "execution_count": 1967,
   "metadata": {},
   "outputs": [],
   "source": [
    "Geo_Json_22 = gpd.GeoSeries(GeoList).to_json()\n",
    "with open(r\"C:\\Users\\Test\\Downloads\\Course\\Data Science\\Riyadh_22.GeoJson\", \"w\") as text_file:\n",
    "    text_file.write(Geo_Json_22)"
   ]
  },
  {
   "cell_type": "code",
   "execution_count": 1968,
   "metadata": {},
   "outputs": [
    {
     "data": {
      "text/plain": [
       "<matplotlib.axes._subplots.AxesSubplot at 0x17299b5d588>"
      ]
     },
     "execution_count": 1968,
     "metadata": {},
     "output_type": "execute_result"
    },
    {
     "data": {
      "image/png": "[encoded data removed]",
      "text/plain": [
       "<Figure size 432x288 with 1 Axes>"
      ]
     },
     "metadata": {
      "needs_background": "light"
     },
     "output_type": "display_data"
    }
   ],
   "source": [
    "gpd.GeoSeries(GeoList).plot()"
   ]
  },
  {
   "cell_type": "markdown",
   "metadata": {},
   "source": [
    "##### Let's find out how it will look like in a folium map."
   ]
  },
  {
   "cell_type": "code",
   "execution_count": 1969,
   "metadata": {},
   "outputs": [],
   "source": [
    "latitude = Geo_df['latitude'][15]\n",
    "longitude = Geo_df['longitude'][15]\n",
    "map_riyadh_choropleth_22 = folium.Map(location=[latitude, longitude], zoom_start=10)"
   ]
  },
  {
   "cell_type": "code",
   "execution_count": 1970,
   "metadata": {},
   "outputs": [
    {
     "data": {
      "text/html": [
       "<div style=\"width:100%;\"><div style=\"position:relative;width:100%;height:0;padding-bottom:60%;\"><iframe src=\"data:text/html;charset=utf-8;base64,PCFET0NUWVBFIGh0bWw+CjxoZWFkPiAgICAKICAgIDxtZXRhIGh0dHAtZXF1aXY9ImNvbnRlbnQtdHlwZSIgY29udGVudD0idGV4dC9odG1sOyBjaGFyc2V0PVVURi04IiAvPgogICAgPHNjcmlwdD5MX1BSRUZFUl9DQU5WQVMgPSBmYWxzZTsgTF9OT19UT1VDSCA9IGZhbHNlOyBMX0RJU0FCTEVfM0QgPSBmYWxzZTs8L3NjcmlwdD4KICAgIDxzY3JpcHQgc3JjPSJodHRwczovL2Nkbi5qc2RlbGl2ci5uZXQvbnBtL2xlYWZsZXRAMS4yLjAvZGlzdC9sZWFmbGV0LmpzIj48L3NjcmlwdD4KICAgIDxzY3JpcHQgc3JjPSJodHRwczovL2FqYXguZ29vZ2xlYXBpcy5jb20vYWpheC9saWJzL2pxdWVyeS8xLjExLjEvanF1ZXJ5Lm1pbi5qcyI+PC9zY3JpcHQ+CiAgICA8c2NyaXB0IHNyYz0iaHR0cHM6Ly9tYXhjZG4uYm9vdHN0cmFwY2RuLmNvbS9ib290c3RyYXAvMy4yLjAvanMvYm9vdHN0cmFwLm1pbi5qcyI+PC9zY3JpcHQ+CiAgICA8c2NyaXB0IHNyYz0iaHR0cHM6Ly9jZG5qcy5jbG91ZGZsYXJlLmNvbS9hamF4L2xpYnMvTGVhZmxldC5hd2Vzb21lLW1hcmtlcnMvMi4wLjIvbGVhZmxldC5hd2Vzb21lLW1hcmtlcnMuanMiPjwvc2NyaXB0PgogICAgPGxpbmsgcmVsPSJzdHlsZXNoZWV0IiBocmVmPSJodHRwczovL2Nkbi5qc2RlbGl2ci5uZXQvbnBtL2xlYWZsZXRAMS4yLjAvZGlzdC9sZWFmbGV0LmNzcyIvPgogICAgPGxpbmsgcmVsPSJzdHlsZXNoZWV0IiBocmVmPSJodHRwczovL21heGNkbi5ib290c3RyYXBjZG4uY29tL2Jvb3RzdHJhcC8zLjIuMC9jc3MvYm9vdHN0cmFwLm1pbi5jc3MiLz4KICAgIDxsaW5rIHJlbD0ic3R5bGVzaGVldCIgaHJlZj0iaHR0cHM6Ly9tYXhjZG4uYm9vdHN0cmFwY2RuLmNvbS9ib290c3RyYXAvMy4yLjAvY3NzL2Jvb3RzdHJhcC10aGVtZS5taW4uY3NzIi8+CiAgICA8bGluayByZWw9InN0eWxlc2hlZXQiIGhyZWY9Imh0dHBzOi8vbWF4Y2RuLmJvb3RzdHJhcGNkbi5jb20vZm9udC1hd2Vzb21lLzQuNi4zL2Nzcy9mb250LWF3ZXNvbWUubWluLmNzcyIvPgogICAgPGxpbmsgcmVsPSJzdHlsZXNoZWV0IiBocmVmPSJodHRwczovL2NkbmpzLmNsb3VkZmxhcmUuY29tL2FqYXgvbGlicy9MZWFmbGV0LmF3ZXNvbWUtbWFya2Vycy8yLjAuMi9sZWFmbGV0LmF3ZXNvbWUtbWFya2Vycy5jc3MiLz4KICAgIDxsaW5rIHJlbD0ic3R5bGVzaGVldCIgaHJlZj0iaHR0cHM6Ly9yYXdnaXQuY29tL3B5dGhvbi12aXN1YWxpemF0aW9uL2ZvbGl1bS9tYXN0ZXIvZm9saXVtL3RlbXBsYXRlcy9sZWFmbGV0LmF3ZXNvbWUucm90YXRlLmNzcyIvPgogICAgPHN0eWxlPmh0bWwsIGJvZHkge3dpZHRoOiAxMDAlO2hlaWdodDogMTAwJTttYXJnaW46IDA7cGFkZGluZzogMDt9PC9zdHlsZT4KICAgIDxzdHlsZT4jbWFwIHtwb3NpdGlvbjphYnNvbHV0ZTt0b3A6MDtib3R0b206MDtyaWdodDowO2xlZnQ6MDt9PC9zdHlsZT4KICAgIAogICAgICAgICAgICA8c3R5bGU+ICNtYXBfYjI5ZWViMTgwNTUyNDZhNjk5M2JlYTZkNzczMjdkNTEgewogICAgICAgICAgICAgICAgcG9zaXRpb24gOiByZWxhdGl2ZTsKICAgICAgICAgICAgICAgIHdpZHRoIDogMTAwLjAlOwogICAgICAgICAgICAgICAgaGVpZ2h0OiAxMDAuMCU7CiAgICAgICAgICAgICAgICBsZWZ0OiAwLjAlOwogICAgICAgICAgICAgICAgdG9wOiAwLjAlOwogICAgICAgICAgICAgICAgfQogICAgICAgICAgICA8L3N0eWxlPgogICAgICAgIAo8L2hlYWQ+Cjxib2R5PiAgICAKICAgIAogICAgICAgICAgICA8ZGl2IGNsYXNzPSJmb2xpdW0tbWFwIiBpZD0ibWFwX2IyOWVlYjE4MDU1MjQ2YTY5OTNiZWE2ZDc3MzI3ZDUxIiA+PC9kaXY+CiAgICAgICAgCjwvYm9keT4KPHNjcmlwdD4gICAgCiAgICAKCiAgICAgICAgICAgIAogICAgICAgICAgICAgICAgdmFyIGJvdW5kcyA9IG51bGw7CiAgICAgICAgICAgIAoKICAgICAgICAgICAgdmFyIG1hcF9iMjllZWIxODA1NTI0NmE2OTkzYmVhNmQ3NzMyN2Q1MSA9IEwubWFwKAogICAgICAgICAgICAgICAgICAgICAgICAgICAgICAgICAgJ21hcF9iMjllZWIxODA1NTI0NmE2OTkzYmVhNmQ3NzMyN2Q1MScsCiAgICAgICAgICAgICAgICAgICAgICAgICAgICAgICAgICB7Y2VudGVyOiBbMjQuNjY0NjcyMTY4NDEwODUzLDQ2Ljc5NjQyMzkyMjc2OTkwNF0sCiAgICAgICAgICAgICAgICAgICAgICAgICAgICAgICAgICB6b29tOiAxMCwKICAgICAgICAgICAgICAgICAgICAgICAgICAgICAgICAgIG1heEJvdW5kczogYm91bmRzLAogICAgICAgICAgICAgICAgICAgICAgICAgICAgICAgICAgbGF5ZXJzOiBbXSwKICAgICAgICAgICAgICAgICAgICAgICAgICAgICAgICAgIHdvcmxkQ29weUp1bXA6IGZhbHNlLAogICAgICAgICAgICAgICAgICAgICAgICAgICAgICAgICAgY3JzOiBMLkNSUy5FUFNHMzg1NwogICAgICAgICAgICAgICAgICAgICAgICAgICAgICAgICB9KTsKICAgICAgICAgICAgCiAgICAgICAgCiAgICAKICAgICAgICAgICAgdmFyIHRpbGVfbGF5ZXJfMGI3M2M5Y2ZkNTAxNDM2NWE4ZGFjZTc4NGRmNDIzOWEgPSBMLnRpbGVMYXllcigKICAgICAgICAgICAgICAgICdodHRwczovL3tzfS50aWxlLm9wZW5zdHJlZXRtYXAub3JnL3t6fS97eH0ve3l9LnBuZycsCiAgICAgICAgICAgICAgICB7CiAgImF0dHJpYnV0aW9uIjogbnVsbCwKICAiZGV0ZWN0UmV0aW5hIjogZmFsc2UsCiAgIm1heFpvb20iOiAxOCwKICAibWluWm9vbSI6IDEsCiAgIm5vV3JhcCI6IGZhbHNlLAogICJzdWJkb21haW5zIjogImFiYyIKfQogICAgICAgICAgICAgICAgKS5hZGRUbyhtYXBfYjI5ZWViMTgwNTUyNDZhNjk5M2JlYTZkNzczMjdkNTEpOwogICAgICAgIAo8L3NjcmlwdD4=\" style=\"position:absolute;width:100%;height:100%;left:0;top:0;border:none !important;\" allowfullscreen webkitallowfullscreen mozallowfullscreen></iframe></div></div>"
      ],
      "text/plain": [
       "<folium.folium.Map at 0x1729968c908>"
      ]
     },
     "execution_count": 1970,
     "metadata": {},
     "output_type": "execute_result"
    }
   ],
   "source": [
    "map_riyadh_choropleth_22"
   ]
  },
  {
   "cell_type": "code",
   "execution_count": 1971,
   "metadata": {},
   "outputs": [],
   "source": [
    "map_geo_22 = r\"C:\\Users\\Test\\Downloads\\Course\\Data Science\\Riyadh_22.GeoJson\"\n",
    "map_riyadh_choropleth_22.choropleth(\n",
    " geo_data=map_geo_22,\n",
    " name='choropleth',\n",
    " fill_color='YlGn',\n",
    " fill_opacity=0.5,\n",
    " line_opacity=0.2,\n",
    ")\n",
    "folium.LayerControl().add_to(map_riyadh_choropleth_22)\n",
    "\n",
    "map_riyadh_choropleth_22.save('c:\\\\users\\\\Test\\\\map_riyadh_choropleth_22.html')"
   ]
  },
  {
   "cell_type": "markdown",
   "metadata": {},
   "source": [
    "<img src='Riyadh_Map_Choropleth_22.jpg'>"
   ]
  },
  {
   "cell_type": "markdown",
   "metadata": {},
   "source": [
    "### * Riyadh Choropleth map *"
   ]
  },
  {
   "cell_type": "markdown",
   "metadata": {},
   "source": [
    "##### First table is Stats_pivot_df. It contains one observation for each district \\\n",
    "##### with average rent prices of residential units over year halfs time frames as attributes"
   ]
  },
  {
   "cell_type": "code",
   "execution_count": 1972,
   "metadata": {
    "scrolled": true
   },
   "outputs": [
    {
     "data": {
      "text/html": [
       "<div>\n",
       "<style scoped>\n",
       "    .dataframe tbody tr th:only-of-type {\n",
       "        vertical-align: middle;\n",
       "    }\n",
       "\n",
       "    .dataframe tbody tr th {\n",
       "        vertical-align: top;\n",
       "    }\n",
       "\n",
       "    .dataframe thead th {\n",
       "        text-align: right;\n",
       "    }\n",
       "</style>\n",
       "<table border=\"1\" class=\"dataframe\">\n",
       "  <thead>\n",
       "    <tr style=\"text-align: right;\">\n",
       "      <th></th>\n",
       "      <th>District</th>\n",
       "      <th>2015.0</th>\n",
       "      <th>2015.5</th>\n",
       "      <th>2016.0</th>\n",
       "      <th>2016.5</th>\n",
       "      <th>2017.0</th>\n",
       "      <th>2017.5</th>\n",
       "      <th>2018.0</th>\n",
       "      <th>2018.5</th>\n",
       "    </tr>\n",
       "  </thead>\n",
       "  <tbody>\n",
       "    <tr>\n",
       "      <th>0</th>\n",
       "      <td>أحد</td>\n",
       "      <td>NaN</td>\n",
       "      <td>14700.0</td>\n",
       "      <td>NaN</td>\n",
       "      <td>15000.0</td>\n",
       "      <td>13812.0</td>\n",
       "      <td>14200.0</td>\n",
       "      <td>13833.0</td>\n",
       "      <td>NaN</td>\n",
       "    </tr>\n",
       "    <tr>\n",
       "      <th>1</th>\n",
       "      <td>اشبيلية</td>\n",
       "      <td>24138.0</td>\n",
       "      <td>24626.0</td>\n",
       "      <td>23944.0</td>\n",
       "      <td>22871.0</td>\n",
       "      <td>22625.0</td>\n",
       "      <td>20616.0</td>\n",
       "      <td>19205.0</td>\n",
       "      <td>18076.0</td>\n",
       "    </tr>\n",
       "    <tr>\n",
       "      <th>2</th>\n",
       "      <td>الازدهار</td>\n",
       "      <td>NaN</td>\n",
       "      <td>34181.0</td>\n",
       "      <td>33600.0</td>\n",
       "      <td>30197.0</td>\n",
       "      <td>29635.0</td>\n",
       "      <td>27919.0</td>\n",
       "      <td>26421.0</td>\n",
       "      <td>24209.0</td>\n",
       "    </tr>\n",
       "    <tr>\n",
       "      <th>3</th>\n",
       "      <td>الاندلس</td>\n",
       "      <td>NaN</td>\n",
       "      <td>21800.0</td>\n",
       "      <td>27666.0</td>\n",
       "      <td>26378.0</td>\n",
       "      <td>24754.0</td>\n",
       "      <td>23771.0</td>\n",
       "      <td>21873.0</td>\n",
       "      <td>21250.0</td>\n",
       "    </tr>\n",
       "    <tr>\n",
       "      <th>4</th>\n",
       "      <td>البديعة</td>\n",
       "      <td>NaN</td>\n",
       "      <td>NaN</td>\n",
       "      <td>NaN</td>\n",
       "      <td>NaN</td>\n",
       "      <td>17000.0</td>\n",
       "      <td>15194.0</td>\n",
       "      <td>14608.0</td>\n",
       "      <td>17285.0</td>\n",
       "    </tr>\n",
       "  </tbody>\n",
       "</table>\n",
       "</div>"
      ],
      "text/plain": [
       "   District   2015.0   2015.5   2016.0   2016.5   2017.0   2017.5   2018.0  \\\n",
       "0       أحد      NaN  14700.0      NaN  15000.0  13812.0  14200.0  13833.0   \n",
       "1   اشبيلية  24138.0  24626.0  23944.0  22871.0  22625.0  20616.0  19205.0   \n",
       "2  الازدهار      NaN  34181.0  33600.0  30197.0  29635.0  27919.0  26421.0   \n",
       "3   الاندلس      NaN  21800.0  27666.0  26378.0  24754.0  23771.0  21873.0   \n",
       "4   البديعة      NaN      NaN      NaN      NaN  17000.0  15194.0  14608.0   \n",
       "\n",
       "    2018.5  \n",
       "0      NaN  \n",
       "1  18076.0  \n",
       "2  24209.0  \n",
       "3  21250.0  \n",
       "4  17285.0  "
      ]
     },
     "execution_count": 1972,
     "metadata": {},
     "output_type": "execute_result"
    }
   ],
   "source": [
    "Stats_pivot_df.head()"
   ]
  },
  {
   "cell_type": "code",
   "execution_count": 1973,
   "metadata": {
    "scrolled": true
   },
   "outputs": [
    {
     "data": {
      "text/html": [
       "<div>\n",
       "<style scoped>\n",
       "    .dataframe tbody tr th:only-of-type {\n",
       "        vertical-align: middle;\n",
       "    }\n",
       "\n",
       "    .dataframe tbody tr th {\n",
       "        vertical-align: top;\n",
       "    }\n",
       "\n",
       "    .dataframe thead th {\n",
       "        text-align: right;\n",
       "    }\n",
       "</style>\n",
       "<table border=\"1\" class=\"dataframe\">\n",
       "  <thead>\n",
       "    <tr style=\"text-align: right;\">\n",
       "      <th></th>\n",
       "      <th>index</th>\n",
       "      <th>District</th>\n",
       "      <th>2015.0</th>\n",
       "      <th>2015.5</th>\n",
       "      <th>2016.0</th>\n",
       "      <th>2016.5</th>\n",
       "      <th>2017.0</th>\n",
       "      <th>2017.5</th>\n",
       "      <th>2018.0</th>\n",
       "      <th>2018.5</th>\n",
       "    </tr>\n",
       "  </thead>\n",
       "  <tbody>\n",
       "    <tr>\n",
       "      <th>0</th>\n",
       "      <td>0</td>\n",
       "      <td>أحد</td>\n",
       "      <td>NaN</td>\n",
       "      <td>14700.0</td>\n",
       "      <td>NaN</td>\n",
       "      <td>15000.0</td>\n",
       "      <td>13812.0</td>\n",
       "      <td>14200.0</td>\n",
       "      <td>13833.0</td>\n",
       "      <td>NaN</td>\n",
       "    </tr>\n",
       "    <tr>\n",
       "      <th>1</th>\n",
       "      <td>1</td>\n",
       "      <td>اشبيلية</td>\n",
       "      <td>24138.0</td>\n",
       "      <td>24626.0</td>\n",
       "      <td>23944.0</td>\n",
       "      <td>22871.0</td>\n",
       "      <td>22625.0</td>\n",
       "      <td>20616.0</td>\n",
       "      <td>19205.0</td>\n",
       "      <td>18076.0</td>\n",
       "    </tr>\n",
       "    <tr>\n",
       "      <th>2</th>\n",
       "      <td>2</td>\n",
       "      <td>الازدهار</td>\n",
       "      <td>NaN</td>\n",
       "      <td>34181.0</td>\n",
       "      <td>33600.0</td>\n",
       "      <td>30197.0</td>\n",
       "      <td>29635.0</td>\n",
       "      <td>27919.0</td>\n",
       "      <td>26421.0</td>\n",
       "      <td>24209.0</td>\n",
       "    </tr>\n",
       "    <tr>\n",
       "      <th>3</th>\n",
       "      <td>3</td>\n",
       "      <td>الاندلس</td>\n",
       "      <td>NaN</td>\n",
       "      <td>21800.0</td>\n",
       "      <td>27666.0</td>\n",
       "      <td>26378.0</td>\n",
       "      <td>24754.0</td>\n",
       "      <td>23771.0</td>\n",
       "      <td>21873.0</td>\n",
       "      <td>21250.0</td>\n",
       "    </tr>\n",
       "    <tr>\n",
       "      <th>4</th>\n",
       "      <td>4</td>\n",
       "      <td>البديعة</td>\n",
       "      <td>NaN</td>\n",
       "      <td>NaN</td>\n",
       "      <td>NaN</td>\n",
       "      <td>NaN</td>\n",
       "      <td>17000.0</td>\n",
       "      <td>15194.0</td>\n",
       "      <td>14608.0</td>\n",
       "      <td>17285.0</td>\n",
       "    </tr>\n",
       "  </tbody>\n",
       "</table>\n",
       "</div>"
      ],
      "text/plain": [
       "   index  District   2015.0   2015.5   2016.0   2016.5   2017.0   2017.5  \\\n",
       "0      0       أحد      NaN  14700.0      NaN  15000.0  13812.0  14200.0   \n",
       "1      1   اشبيلية  24138.0  24626.0  23944.0  22871.0  22625.0  20616.0   \n",
       "2      2  الازدهار      NaN  34181.0  33600.0  30197.0  29635.0  27919.0   \n",
       "3      3   الاندلس      NaN  21800.0  27666.0  26378.0  24754.0  23771.0   \n",
       "4      4   البديعة      NaN      NaN      NaN      NaN  17000.0  15194.0   \n",
       "\n",
       "    2018.0   2018.5  \n",
       "0  13833.0      NaN  \n",
       "1  19205.0  18076.0  \n",
       "2  26421.0  24209.0  \n",
       "3  21873.0  21250.0  \n",
       "4  14608.0  17285.0  "
      ]
     },
     "execution_count": 1973,
     "metadata": {},
     "output_type": "execute_result"
    }
   ],
   "source": [
    "try:\n",
    "    Stats_pivot_df.reset_index(inplace=True)\n",
    "except:\n",
    "    pass\n",
    "#Stats_pivot_df.drop(columns='PeriodVal',axis=1)\n",
    "Stats_pivot_df.head()"
   ]
  },
  {
   "cell_type": "markdown",
   "metadata": {},
   "source": [
    "##### Second table is Geo_df. and it contains District name along with their coordinates."
   ]
  },
  {
   "cell_type": "code",
   "execution_count": 1974,
   "metadata": {
    "scrolled": true
   },
   "outputs": [
    {
     "data": {
      "text/html": [
       "<div>\n",
       "<style scoped>\n",
       "    .dataframe tbody tr th:only-of-type {\n",
       "        vertical-align: middle;\n",
       "    }\n",
       "\n",
       "    .dataframe tbody tr th {\n",
       "        vertical-align: top;\n",
       "    }\n",
       "\n",
       "    .dataframe thead th {\n",
       "        text-align: right;\n",
       "    }\n",
       "</style>\n",
       "<table border=\"1\" class=\"dataframe\">\n",
       "  <thead>\n",
       "    <tr style=\"text-align: right;\">\n",
       "      <th></th>\n",
       "      <th>minx</th>\n",
       "      <th>miny</th>\n",
       "      <th>maxx</th>\n",
       "      <th>maxy</th>\n",
       "      <th>Id</th>\n",
       "      <th>District</th>\n",
       "      <th>longitude</th>\n",
       "      <th>latitude</th>\n",
       "    </tr>\n",
       "  </thead>\n",
       "  <tbody>\n",
       "    <tr>\n",
       "      <th>0</th>\n",
       "      <td>46.864206</td>\n",
       "      <td>24.515202</td>\n",
       "      <td>46.934238</td>\n",
       "      <td>24.575428</td>\n",
       "      <td>10100003028</td>\n",
       "      <td>المدينة الصناعية الثانية</td>\n",
       "      <td>46.898132</td>\n",
       "      <td>24.544378</td>\n",
       "    </tr>\n",
       "    <tr>\n",
       "      <th>1</th>\n",
       "      <td>46.692906</td>\n",
       "      <td>24.805834</td>\n",
       "      <td>46.717570</td>\n",
       "      <td>24.827157</td>\n",
       "      <td>10100003151</td>\n",
       "      <td>جامعة الامام محمد بن سعود الاسلامية</td>\n",
       "      <td>46.704854</td>\n",
       "      <td>24.816164</td>\n",
       "    </tr>\n",
       "    <tr>\n",
       "      <th>2</th>\n",
       "      <td>46.608821</td>\n",
       "      <td>24.709941</td>\n",
       "      <td>46.641148</td>\n",
       "      <td>24.738972</td>\n",
       "      <td>10100003166</td>\n",
       "      <td>جامعة الملك سعود</td>\n",
       "      <td>46.624481</td>\n",
       "      <td>24.724005</td>\n",
       "    </tr>\n",
       "    <tr>\n",
       "      <th>3</th>\n",
       "      <td>46.620812</td>\n",
       "      <td>24.477494</td>\n",
       "      <td>46.650098</td>\n",
       "      <td>24.503146</td>\n",
       "      <td>10100003059</td>\n",
       "      <td>احد</td>\n",
       "      <td>46.634999</td>\n",
       "      <td>24.489921</td>\n",
       "    </tr>\n",
       "    <tr>\n",
       "      <th>4</th>\n",
       "      <td>46.774065</td>\n",
       "      <td>24.781280</td>\n",
       "      <td>46.811468</td>\n",
       "      <td>24.805064</td>\n",
       "      <td>10100003137</td>\n",
       "      <td>اشبيلية</td>\n",
       "      <td>46.792184</td>\n",
       "      <td>24.792802</td>\n",
       "    </tr>\n",
       "  </tbody>\n",
       "</table>\n",
       "</div>"
      ],
      "text/plain": [
       "        minx       miny       maxx       maxy           Id  \\\n",
       "0  46.864206  24.515202  46.934238  24.575428  10100003028   \n",
       "1  46.692906  24.805834  46.717570  24.827157  10100003151   \n",
       "2  46.608821  24.709941  46.641148  24.738972  10100003166   \n",
       "3  46.620812  24.477494  46.650098  24.503146  10100003059   \n",
       "4  46.774065  24.781280  46.811468  24.805064  10100003137   \n",
       "\n",
       "                              District  longitude   latitude  \n",
       "0             المدينة الصناعية الثانية  46.898132  24.544378  \n",
       "1  جامعة الامام محمد بن سعود الاسلامية  46.704854  24.816164  \n",
       "2                     جامعة الملك سعود  46.624481  24.724005  \n",
       "3                                  احد  46.634999  24.489921  \n",
       "4                              اشبيلية  46.792184  24.792802  "
      ]
     },
     "execution_count": 1974,
     "metadata": {},
     "output_type": "execute_result"
    }
   ],
   "source": [
    "Geo_df.head()"
   ]
  },
  {
   "cell_type": "markdown",
   "metadata": {},
   "source": [
    "##### By joining the two table together we get 97 districts matched by name."
   ]
  },
  {
   "cell_type": "code",
   "execution_count": 1975,
   "metadata": {},
   "outputs": [
    {
     "name": "stdout",
     "output_type": "stream",
     "text": [
      "(97, 17)\n"
     ]
    },
    {
     "data": {
      "text/html": [
       "<div>\n",
       "<style scoped>\n",
       "    .dataframe tbody tr th:only-of-type {\n",
       "        vertical-align: middle;\n",
       "    }\n",
       "\n",
       "    .dataframe tbody tr th {\n",
       "        vertical-align: top;\n",
       "    }\n",
       "\n",
       "    .dataframe thead th {\n",
       "        text-align: right;\n",
       "    }\n",
       "</style>\n",
       "<table border=\"1\" class=\"dataframe\">\n",
       "  <thead>\n",
       "    <tr style=\"text-align: right;\">\n",
       "      <th></th>\n",
       "      <th>index</th>\n",
       "      <th>District</th>\n",
       "      <th>2015.0</th>\n",
       "      <th>2015.5</th>\n",
       "      <th>2016.0</th>\n",
       "      <th>2016.5</th>\n",
       "      <th>2017.0</th>\n",
       "      <th>2017.5</th>\n",
       "      <th>2018.0</th>\n",
       "      <th>2018.5</th>\n",
       "      <th>minx</th>\n",
       "      <th>miny</th>\n",
       "      <th>maxx</th>\n",
       "      <th>maxy</th>\n",
       "      <th>Id</th>\n",
       "      <th>longitude</th>\n",
       "      <th>latitude</th>\n",
       "    </tr>\n",
       "  </thead>\n",
       "  <tbody>\n",
       "    <tr>\n",
       "      <th>0</th>\n",
       "      <td>1</td>\n",
       "      <td>اشبيلية</td>\n",
       "      <td>24138.0</td>\n",
       "      <td>24626.0</td>\n",
       "      <td>23944.0</td>\n",
       "      <td>22871.0</td>\n",
       "      <td>22625.0</td>\n",
       "      <td>20616.0</td>\n",
       "      <td>19205.0</td>\n",
       "      <td>18076.0</td>\n",
       "      <td>46.774065</td>\n",
       "      <td>24.781280</td>\n",
       "      <td>46.811468</td>\n",
       "      <td>24.805064</td>\n",
       "      <td>10100003137</td>\n",
       "      <td>46.792184</td>\n",
       "      <td>24.792802</td>\n",
       "    </tr>\n",
       "    <tr>\n",
       "      <th>1</th>\n",
       "      <td>2</td>\n",
       "      <td>الازدهار</td>\n",
       "      <td>NaN</td>\n",
       "      <td>34181.0</td>\n",
       "      <td>33600.0</td>\n",
       "      <td>30197.0</td>\n",
       "      <td>29635.0</td>\n",
       "      <td>27919.0</td>\n",
       "      <td>26421.0</td>\n",
       "      <td>24209.0</td>\n",
       "      <td>46.708288</td>\n",
       "      <td>24.772211</td>\n",
       "      <td>46.727249</td>\n",
       "      <td>24.789539</td>\n",
       "      <td>10100003086</td>\n",
       "      <td>46.717473</td>\n",
       "      <td>24.780605</td>\n",
       "    </tr>\n",
       "    <tr>\n",
       "      <th>2</th>\n",
       "      <td>3</td>\n",
       "      <td>الاندلس</td>\n",
       "      <td>NaN</td>\n",
       "      <td>21800.0</td>\n",
       "      <td>27666.0</td>\n",
       "      <td>26378.0</td>\n",
       "      <td>24754.0</td>\n",
       "      <td>23771.0</td>\n",
       "      <td>21873.0</td>\n",
       "      <td>21250.0</td>\n",
       "      <td>46.778746</td>\n",
       "      <td>24.734189</td>\n",
       "      <td>46.799104</td>\n",
       "      <td>24.753372</td>\n",
       "      <td>10100003087</td>\n",
       "      <td>46.788608</td>\n",
       "      <td>24.743482</td>\n",
       "    </tr>\n",
       "    <tr>\n",
       "      <th>3</th>\n",
       "      <td>4</td>\n",
       "      <td>البديعة</td>\n",
       "      <td>NaN</td>\n",
       "      <td>NaN</td>\n",
       "      <td>NaN</td>\n",
       "      <td>NaN</td>\n",
       "      <td>17000.0</td>\n",
       "      <td>15194.0</td>\n",
       "      <td>14608.0</td>\n",
       "      <td>17285.0</td>\n",
       "      <td>46.672539</td>\n",
       "      <td>24.608983</td>\n",
       "      <td>46.689786</td>\n",
       "      <td>24.623840</td>\n",
       "      <td>10100003071</td>\n",
       "      <td>46.680894</td>\n",
       "      <td>24.616180</td>\n",
       "    </tr>\n",
       "    <tr>\n",
       "      <th>4</th>\n",
       "      <td>5</td>\n",
       "      <td>التعاون</td>\n",
       "      <td>NaN</td>\n",
       "      <td>39000.0</td>\n",
       "      <td>34882.0</td>\n",
       "      <td>33431.0</td>\n",
       "      <td>31714.0</td>\n",
       "      <td>29450.0</td>\n",
       "      <td>28912.0</td>\n",
       "      <td>28950.0</td>\n",
       "      <td>46.690325</td>\n",
       "      <td>24.764640</td>\n",
       "      <td>46.709307</td>\n",
       "      <td>24.781982</td>\n",
       "      <td>10100003085</td>\n",
       "      <td>46.699520</td>\n",
       "      <td>24.773041</td>\n",
       "    </tr>\n",
       "  </tbody>\n",
       "</table>\n",
       "</div>"
      ],
      "text/plain": [
       "   index  District   2015.0   2015.5   2016.0   2016.5   2017.0   2017.5  \\\n",
       "0      1   اشبيلية  24138.0  24626.0  23944.0  22871.0  22625.0  20616.0   \n",
       "1      2  الازدهار      NaN  34181.0  33600.0  30197.0  29635.0  27919.0   \n",
       "2      3   الاندلس      NaN  21800.0  27666.0  26378.0  24754.0  23771.0   \n",
       "3      4   البديعة      NaN      NaN      NaN      NaN  17000.0  15194.0   \n",
       "4      5   التعاون      NaN  39000.0  34882.0  33431.0  31714.0  29450.0   \n",
       "\n",
       "    2018.0   2018.5       minx       miny       maxx       maxy           Id  \\\n",
       "0  19205.0  18076.0  46.774065  24.781280  46.811468  24.805064  10100003137   \n",
       "1  26421.0  24209.0  46.708288  24.772211  46.727249  24.789539  10100003086   \n",
       "2  21873.0  21250.0  46.778746  24.734189  46.799104  24.753372  10100003087   \n",
       "3  14608.0  17285.0  46.672539  24.608983  46.689786  24.623840  10100003071   \n",
       "4  28912.0  28950.0  46.690325  24.764640  46.709307  24.781982  10100003085   \n",
       "\n",
       "   longitude   latitude  \n",
       "0  46.792184  24.792802  \n",
       "1  46.717473  24.780605  \n",
       "2  46.788608  24.743482  \n",
       "3  46.680894  24.616180  \n",
       "4  46.699520  24.773041  "
      ]
     },
     "execution_count": 1975,
     "metadata": {},
     "output_type": "execute_result"
    }
   ],
   "source": [
    "Geo_Stats_df = pd.merge(Stats_pivot_df, Geo_df, how='inner', on = 'District')\n",
    "print( Geo_Stats_df.shape)\n",
    "Geo_Stats_df.head()"
   ]
  },
  {
   "cell_type": "markdown",
   "metadata": {},
   "source": [
    "##### The average prices in 2018 H2 will be input data to the choropleth map. Let's make drop any observation with missing data in this Half."
   ]
  },
  {
   "cell_type": "code",
   "execution_count": 1976,
   "metadata": {},
   "outputs": [
    {
     "data": {
      "text/plain": [
       "(86, 17)"
      ]
     },
     "execution_count": 1976,
     "metadata": {},
     "output_type": "execute_result"
    }
   ],
   "source": [
    "Geo_Stats_df.dropna(subset=['2018.5'], inplace=True)\n",
    "Geo_Stats_df.shape"
   ]
  },
  {
   "cell_type": "markdown",
   "metadata": {},
   "source": [
    "##### 11 observations dropped due to inavailability of average prices."
   ]
  },
  {
   "cell_type": "markdown",
   "metadata": {},
   "source": [
    "#### rotating the rectangles by -22.5 degrees was better than -25 degrees."
   ]
  },
  {
   "cell_type": "code",
   "execution_count": null,
   "metadata": {},
   "outputs": [],
   "source": [
    "GeoList = []\n",
    "for i in range(0, len(Geo_Stats_df)):\n",
    "    x1 = Geo_Stats_df.iloc[i]['minx']\n",
    "    y1 = Geo_Stats_df.iloc[i]['miny']\n",
    "    x2 = Geo_Stats_df.iloc[i]['maxx']\n",
    "    y2 = Geo_Stats_df.iloc[i]['maxy']\n",
    "    GeoList.append(Polygon( [(x1,y1), (x2,y1), (x2, y2), (x1, y2), (x1, y1)] ) )\n",
    "\n",
    "for i in range(0, len(GeoList)):\n",
    "    GeoList[i] = affinity.rotate(GeoList[i], 22.5, origin='centroid') \n",
    "\n",
    "GeoSer = gpd.GeoSeries(GeoList)\n",
    "GeoDF = gpd.GeoDataFrame(GeoSer)\n",
    "GeoDF = GeoDF.rename(columns={0:'geometry'})\n",
    "GeoDF.set_geometry('geometry')\n",
    "GeoDF['id']=Geo_Stats_df['Id'].values\n",
    "    \n",
    "Geo_Json_03 = GeoDF.to_json()\n",
    "with open(r\"C:\\Users\\Test\\Downloads\\Course\\Data Science\\Riyadh_03.GeoJson\", \"w\") as text_file:\n",
    "    text_file.write(Geo_Json_03)"
   ]
  },
  {
   "cell_type": "markdown",
   "metadata": {},
   "source": [
    "##### Let's display the results in a folium choropleth map."
   ]
  },
  {
   "cell_type": "code",
   "execution_count": 1977,
   "metadata": {},
   "outputs": [],
   "source": [
    "latitude = Geo_Stats_df['latitude'][15]\n",
    "longitude = Geo_Stats_df['longitude'][15]\n",
    "map_riyadh_choropleth_03 = folium.Map(location=[latitude, longitude], zoom_start=10)\n",
    "\n",
    "map_geo_03 = r\"C:\\Users\\Test\\Downloads\\Course\\Data Science\\Riyadh_03.GeoJson\"\n",
    "map_riyadh_choropleth_03.choropleth(\n",
    " geo_data=map_geo_03,\n",
    " name='choropleth',\n",
    " data=Geo_Stats_df,\n",
    " columns=['Id', '2018.5'],\n",
    " key_on='properties.id',\n",
    " fill_color='YlGn',\n",
    " fill_opacity=0.7,\n",
    " line_opacity=0.2,\n",
    " #legend_name='Unemployment Rate (%)'\n",
    ")\n",
    "folium.LayerControl().add_to(map_riyadh_choropleth_03)\n",
    "\n",
    "map_riyadh_choropleth_03.save('c:\\\\users\\\\Test\\\\map_riyadh_choropleth_03.html')"
   ]
  },
  {
   "cell_type": "markdown",
   "metadata": {},
   "source": [
    "<img src='Riyadh_Map_Choropleth_03.jpg'>"
   ]
  },
  {
   "cell_type": "markdown",
   "metadata": {},
   "source": [
    "##### The map shows that districts in the center and north west of Riyadh city have higher rent prices than the other locations in the city."
   ]
  },
  {
   "cell_type": "code",
   "execution_count": 1979,
   "metadata": {
    "scrolled": true
   },
   "outputs": [
    {
     "data": {
      "text/plain": [
       "<matplotlib.axes._subplots.AxesSubplot at 0x17299cf13c8>"
      ]
     },
     "execution_count": 1979,
     "metadata": {},
     "output_type": "execute_result"
    },
    {
     "data": {
      "image/png": "[encoded data removed]",
      "text/plain": [
       "<Figure size 432x288 with 1 Axes>"
      ]
     },
     "metadata": {
      "needs_background": "light"
     },
     "output_type": "display_data"
    }
   ],
   "source": [
    "GeoSer = gpd.GeoSeries(GeoList)\n",
    "GeoSer.plot()"
   ]
  },
  {
   "cell_type": "markdown",
   "metadata": {},
   "source": [
    "### * FourSquare API  *"
   ]
  },
  {
   "cell_type": "markdown",
   "metadata": {},
   "source": [
    "##### Now we will get the near by venues for riyadh districts using FourSquare API."
   ]
  },
  {
   "cell_type": "code",
   "execution_count": 2207,
   "metadata": {},
   "outputs": [
    {
     "name": "stdout",
     "output_type": "stream",
     "text": [
      "Your credentails:\n",
      "CLIENT_ID: FourSqare ID\n",
      "CLIENT_SECRET:FourSquare Secret\n"
     ]
    }
   ],
   "source": [
    "CLIENT_ID = 'FourSqare ID' # your Foursquare ID\n",
    "CLIENT_SECRET = 'FourSquare Secret' # your Foursquare Secret\n",
    "VERSION = '20180605' # Foursquare API version\n",
    "\n",
    "print('Your credentails:')\n",
    "print('CLIENT_ID: ' + CLIENT_ID)\n",
    "print('CLIENT_SECRET:' + CLIENT_SECRET)"
   ]
  },
  {
   "cell_type": "code",
   "execution_count": 1537,
   "metadata": {},
   "outputs": [
    {
     "data": {
      "text/plain": [
       "'الروضة'"
      ]
     },
     "execution_count": 1537,
     "metadata": {},
     "output_type": "execute_result"
    }
   ],
   "source": [
    "Geo_Stats_df.loc[19, 'District']"
   ]
  },
  {
   "cell_type": "code",
   "execution_count": 1538,
   "metadata": {},
   "outputs": [
    {
     "name": "stdout",
     "output_type": "stream",
     "text": [
      "Latitude and longitude values of الروضة are 24.733827669289504, 46.767914404087406.\n"
     ]
    }
   ],
   "source": [
    "i = 19\n",
    "district_latitude = Geo_Stats_df.loc[i, 'latitude']\n",
    "district_longitude = Geo_Stats_df.loc[i, 'longitude'] \n",
    "\n",
    "#neighborhood_latitude = 24.7136\n",
    "#neighborhood_longitude = 46.6753\n",
    "\n",
    "district_name = Geo_Stats_df.loc[i, 'District'] #\n",
    "\n",
    "print('Latitude and longitude values of {} are {}, {}.'.format(district_name, \n",
    "                                                               district_latitude, \n",
    "                                                               district_longitude))"
   ]
  },
  {
   "cell_type": "code",
   "execution_count": 1539,
   "metadata": {},
   "outputs": [
    {
     "data": {
      "text/plain": [
       "'https://api.foursquare.com/v2/venues/explore?client_id=5JE0E3FOXGVACK0SU13CMEUDDVCGMXAESVUKYVD0LPFIJDNV&client_secret=SAAYJPKHY0KJYENTC1VPL4OTOZVKTG2MMCG0GBEEWIDCUA5R&ll=24.733827669289504,46.767914404087406&v=20180605&radius=2000&limit=100'"
      ]
     },
     "execution_count": 1539,
     "metadata": {},
     "output_type": "execute_result"
    }
   ],
   "source": [
    "latitude = district_latitude\n",
    "longitude = district_longitude\n",
    "radius = 2000\n",
    "LIMIT = 100\n",
    "\n",
    "url = 'https://api.foursquare.com/v2/venues/explore?client_id={}&client_secret={}&ll={},{}&v={}&radius={}&limit={}'.format(CLIENT_ID, CLIENT_SECRET, latitude, longitude, VERSION, radius, LIMIT)\n",
    "url"
   ]
  },
  {
   "cell_type": "code",
   "execution_count": null,
   "metadata": {},
   "outputs": [],
   "source": [
    "results = requests.get(url).json()\n",
    "results"
   ]
  },
  {
   "cell_type": "code",
   "execution_count": 1541,
   "metadata": {},
   "outputs": [],
   "source": [
    "# function that extracts the category of the venue\n",
    "def get_category_type(row):\n",
    "    try:\n",
    "        categories_list = row['categories']\n",
    "    except:\n",
    "        categories_list = row['venue.categories']\n",
    "        \n",
    "    if len(categories_list) == 0:\n",
    "        return None\n",
    "    else:\n",
    "        return categories_list[0]['name']"
   ]
  },
  {
   "cell_type": "markdown",
   "metadata": {},
   "source": [
    "##### 'Al Rawda' district in Riyadh city has these nearby venues in addition to venue categories."
   ]
  },
  {
   "cell_type": "code",
   "execution_count": 1544,
   "metadata": {},
   "outputs": [
    {
     "data": {
      "text/html": [
       "<div>\n",
       "<style scoped>\n",
       "    .dataframe tbody tr th:only-of-type {\n",
       "        vertical-align: middle;\n",
       "    }\n",
       "\n",
       "    .dataframe tbody tr th {\n",
       "        vertical-align: top;\n",
       "    }\n",
       "\n",
       "    .dataframe thead th {\n",
       "        text-align: right;\n",
       "    }\n",
       "</style>\n",
       "<table border=\"1\" class=\"dataframe\">\n",
       "  <thead>\n",
       "    <tr style=\"text-align: right;\">\n",
       "      <th></th>\n",
       "      <th>name</th>\n",
       "      <th>categories</th>\n",
       "      <th>lat</th>\n",
       "      <th>lng</th>\n",
       "    </tr>\n",
       "  </thead>\n",
       "  <tbody>\n",
       "    <tr>\n",
       "      <th>0</th>\n",
       "      <td>Al Hatab Bakery (أفران الحطب)</td>\n",
       "      <td>Bakery</td>\n",
       "      <td>24.732104</td>\n",
       "      <td>46.765266</td>\n",
       "    </tr>\n",
       "    <tr>\n",
       "      <th>1</th>\n",
       "      <td>Juice Time</td>\n",
       "      <td>Juice Bar</td>\n",
       "      <td>24.732160</td>\n",
       "      <td>46.765153</td>\n",
       "    </tr>\n",
       "    <tr>\n",
       "      <th>2</th>\n",
       "      <td>بوفية فهد كبدة غنم وحاشي</td>\n",
       "      <td>Breakfast Spot</td>\n",
       "      <td>24.731759</td>\n",
       "      <td>46.765830</td>\n",
       "    </tr>\n",
       "    <tr>\n",
       "      <th>3</th>\n",
       "      <td>ركن قراميشو</td>\n",
       "      <td>Candy Store</td>\n",
       "      <td>24.734315</td>\n",
       "      <td>46.763464</td>\n",
       "    </tr>\n",
       "    <tr>\n",
       "      <th>4</th>\n",
       "      <td>Broast Line (بروست لاين)</td>\n",
       "      <td>Fried Chicken Joint</td>\n",
       "      <td>24.732988</td>\n",
       "      <td>46.764510</td>\n",
       "    </tr>\n",
       "    <tr>\n",
       "      <th>5</th>\n",
       "      <td>Shawarama Majed (شاورما ماجد)</td>\n",
       "      <td>Fast Food Restaurant</td>\n",
       "      <td>24.732121</td>\n",
       "      <td>46.764773</td>\n",
       "    </tr>\n",
       "    <tr>\n",
       "      <th>6</th>\n",
       "      <td>ورق عنب</td>\n",
       "      <td>Food Service</td>\n",
       "      <td>24.732731</td>\n",
       "      <td>46.764614</td>\n",
       "    </tr>\n",
       "    <tr>\n",
       "      <th>7</th>\n",
       "      <td>Combo Nation (كومبو نيشن)</td>\n",
       "      <td>Burger Joint</td>\n",
       "      <td>24.729524</td>\n",
       "      <td>46.767030</td>\n",
       "    </tr>\n",
       "    <tr>\n",
       "      <th>8</th>\n",
       "      <td>Tawa (تاوة)</td>\n",
       "      <td>Dessert Shop</td>\n",
       "      <td>24.731817</td>\n",
       "      <td>46.765382</td>\n",
       "    </tr>\n",
       "    <tr>\n",
       "      <th>9</th>\n",
       "      <td>Dunkin' Donuts (دانكن دونتس)</td>\n",
       "      <td>Donut Shop</td>\n",
       "      <td>24.731092</td>\n",
       "      <td>46.771104</td>\n",
       "    </tr>\n",
       "  </tbody>\n",
       "</table>\n",
       "</div>"
      ],
      "text/plain": [
       "                            name            categories        lat        lng\n",
       "0  Al Hatab Bakery (أفران الحطب)                Bakery  24.732104  46.765266\n",
       "1                     Juice Time             Juice Bar  24.732160  46.765153\n",
       "2       بوفية فهد كبدة غنم وحاشي        Breakfast Spot  24.731759  46.765830\n",
       "3                    ركن قراميشو           Candy Store  24.734315  46.763464\n",
       "4       Broast Line (بروست لاين)   Fried Chicken Joint  24.732988  46.764510\n",
       "5  Shawarama Majed (شاورما ماجد)  Fast Food Restaurant  24.732121  46.764773\n",
       "6                        ورق عنب          Food Service  24.732731  46.764614\n",
       "7      Combo Nation (كومبو نيشن)          Burger Joint  24.729524  46.767030\n",
       "8                    Tawa (تاوة)          Dessert Shop  24.731817  46.765382\n",
       "9   Dunkin' Donuts (دانكن دونتس)            Donut Shop  24.731092  46.771104"
      ]
     },
     "execution_count": 1544,
     "metadata": {},
     "output_type": "execute_result"
    }
   ],
   "source": [
    "venues = results['response']['groups'][0]['items']\n",
    "    \n",
    "nearby_venues = json_normalize(venues) # flatten JSON\n",
    "\n",
    "# filter columns\n",
    "filtered_columns = ['venue.name', 'venue.categories', 'venue.location.lat', 'venue.location.lng']\n",
    "nearby_venues =nearby_venues.loc[:, filtered_columns]\n",
    "\n",
    "# filter the category for each row\n",
    "nearby_venues['venue.categories'] = nearby_venues.apply(get_category_type, axis=1)\n",
    "\n",
    "# clean columns\n",
    "nearby_venues.columns = [col.split(\".\")[-1] for col in nearby_venues.columns]\n",
    "\n",
    "nearby_venues.head(10)"
   ]
  },
  {
   "cell_type": "markdown",
   "metadata": {},
   "source": [
    "##### Defining a fuction to get the nearby venues for each district in Riyadh city with radius of 2000 Meters."
   ]
  },
  {
   "cell_type": "code",
   "execution_count": 1545,
   "metadata": {},
   "outputs": [],
   "source": [
    "def getNearbyVenues(names, latitudes, longitudes, radius=2000, LIMIT=100):\n",
    "    \n",
    "    venues_list=[]\n",
    "    for name, lat, lng in zip(names, latitudes, longitudes):\n",
    "        print(name)\n",
    "            \n",
    "        # create the API request URL\n",
    "        url = 'https://api.foursquare.com/v2/venues/explore?&client_id={}&client_secret={}&v={}&ll={},{}&radius={}&limit={}'.format(\n",
    "            CLIENT_ID, \n",
    "            CLIENT_SECRET, \n",
    "            VERSION, \n",
    "            lat, \n",
    "            lng, \n",
    "            radius, \n",
    "            LIMIT)\n",
    "            \n",
    "        # make the GET request\n",
    "        results = requests.get(url).json()[\"response\"]['groups'][0]['items']\n",
    "        \n",
    "        # return only relevant information for each nearby venue\n",
    "        venues_list.append([(\n",
    "            name, \n",
    "            lat, \n",
    "            lng, \n",
    "            v['venue']['name'], \n",
    "            v['venue']['location']['lat'], \n",
    "            v['venue']['location']['lng'],  \n",
    "            v['venue']['categories'][0]['name']) for v in results])\n",
    "\n",
    "    nearby_venues = pd.DataFrame([item for venue_list in venues_list for item in venue_list])\n",
    "    nearby_venues.columns = ['Neighborhood', \n",
    "                  'Neighborhood Latitude', \n",
    "                  'Neighborhood Longitude', \n",
    "                  'Venue', \n",
    "                  'Venue Latitude', \n",
    "                  'Venue Longitude', \n",
    "                  'Venue Category']\n",
    "    \n",
    "    return(nearby_venues)"
   ]
  },
  {
   "cell_type": "code",
   "execution_count": 1555,
   "metadata": {},
   "outputs": [
    {
     "name": "stdout",
     "output_type": "stream",
     "text": [
      "اشبيلية\n",
      "الازدهار\n",
      "الاندلس\n",
      "البديعة\n",
      "التعاون\n",
      "الجرادية\n",
      "الجزيرة\n",
      "الجنادرية\n",
      "الحزم\n",
      "الحمراء\n",
      "الخليج\n",
      "الدار البيضاء\n",
      "الربوة\n",
      "الربيع\n",
      "الرمال\n",
      "الروابي\n",
      "الروضة\n",
      "الريان\n",
      "الزهرة\n",
      "السعادة\n",
      "السلام\n",
      "السليمانية\n",
      "السويدي\n",
      "السويدي الغربي\n",
      "الشفا\n",
      "الشهداء\n",
      "الصحافة\n",
      "الضباط\n",
      "العارض\n",
      "العريجاء الوسطى\n",
      "العزيزية\n",
      "العقيق\n",
      "العليا\n",
      "الغدير\n",
      "الفلاح\n",
      "الفيحاء\n",
      "القادسية\n",
      "القدس\n",
      "القيروان\n",
      "المربع\n",
      "المرسلات\n",
      "المروة\n",
      "المروج\n",
      "المصيف\n",
      "المعيزلة\n",
      "المغرزات\n",
      "الملز\n",
      "الملقا\n",
      "الملك عبدالعزيز\n",
      "الملك عبدالله\n",
      "الملك فهد\n",
      "الملك فيصل\n",
      "المنار\n",
      "المنصورة\n",
      "المونسية\n",
      "النخيل\n",
      "الندى\n",
      "النرجس\n",
      "النزهة\n",
      "النسيم الشرقي\n",
      "النسيم الغربي\n",
      "النظيم\n",
      "النفل\n",
      "النهضة\n",
      "الوادي\n",
      "الورود\n",
      "الوزارات\n",
      "الياسمين\n",
      "اليرموك\n",
      "اليمامة\n",
      "ام الحمام الشرقي\n",
      "ام الحمام الغربي\n",
      "بدر\n",
      "جرير\n",
      "حطين\n",
      "شبرا\n",
      "طويق\n",
      "ظهرة البديعة\n",
      "ظهرة لبن\n",
      "عتيقة\n",
      "عرقة\n",
      "عكاظ\n",
      "غرناطة\n",
      "قرطبة\n",
      "لبن\n",
      "نمار\n"
     ]
    }
   ],
   "source": [
    "venues = getNearbyVenues(names=Geo_Stats_df['District'],\n",
    "                                   latitudes=Geo_Stats_df['latitude'],\n",
    "                                   longitudes=Geo_Stats_df['longitude']\n",
    "                                  )"
   ]
  },
  {
   "cell_type": "markdown",
   "metadata": {},
   "source": [
    "##### Saving the venues Data Frame to Drive to avoid calling the api again in case we lost the session."
   ]
  },
  {
   "cell_type": "code",
   "execution_count": 1556,
   "metadata": {},
   "outputs": [],
   "source": [
    "venues.to_csv(r'C:\\Users\\Test\\Downloads\\Course\\Data Science\\venues.csv')"
   ]
  },
  {
   "cell_type": "code",
   "execution_count": 1980,
   "metadata": {},
   "outputs": [],
   "source": [
    "venues = pd.read_csv(r'C:\\Users\\Test\\Downloads\\Course\\Data Science\\venues.csv')"
   ]
  },
  {
   "cell_type": "markdown",
   "metadata": {},
   "source": [
    "##### Great. The API retrieved 6710 records."
   ]
  },
  {
   "cell_type": "code",
   "execution_count": 1981,
   "metadata": {
    "scrolled": false
   },
   "outputs": [
    {
     "name": "stdout",
     "output_type": "stream",
     "text": [
      "(6710, 8)\n"
     ]
    }
   ],
   "source": [
    "print(venues.shape)\n",
    "venues_grouped = venues.groupby('Neighborhood').count()"
   ]
  },
  {
   "cell_type": "code",
   "execution_count": 1982,
   "metadata": {},
   "outputs": [
    {
     "name": "stdout",
     "output_type": "stream",
     "text": [
      "There are 278 uniques categories.\n"
     ]
    }
   ],
   "source": [
    "print('There are {} uniques categories.'.format(len(venues['Venue Category'].unique())))"
   ]
  },
  {
   "cell_type": "code",
   "execution_count": 1983,
   "metadata": {},
   "outputs": [
    {
     "name": "stdout",
     "output_type": "stream",
     "text": [
      "There are 85 uniques districts.\n"
     ]
    }
   ],
   "source": [
    "print('There are {} uniques districts.'.format(len(venues['Neighborhood'].unique())))"
   ]
  },
  {
   "cell_type": "markdown",
   "metadata": {},
   "source": [
    "##### Converting the records into features using one hot encoding."
   ]
  },
  {
   "cell_type": "code",
   "execution_count": 1984,
   "metadata": {},
   "outputs": [
    {
     "data": {
      "text/plain": [
       "array(['Neighborhood', 'ATM', 'Accessories Store', 'Afghan Restaurant',\n",
       "       'Airport', 'American Restaurant', 'Amphitheater', 'Antique Shop',\n",
       "       'Aquarium', 'Arcade', 'Arepa Restaurant', 'Art Gallery',\n",
       "       'Arts & Crafts Store', 'Asian Restaurant', 'Assisted Living',\n",
       "       'Athletics & Sports', 'Auto Garage', 'Auto Workshop',\n",
       "       'Automotive Shop', 'BBQ Joint', 'Bagel Shop', 'Bakery', 'Bank',\n",
       "       'Bar', 'Baseball Field', 'Basketball Court', 'Bathing Area',\n",
       "       'Beach', 'Bed & Breakfast', 'Beer Garden', 'Belgian Restaurant',\n",
       "       'Big Box Store', 'Bistro', 'Boarding House', 'Bookstore',\n",
       "       'Botanical Garden', 'Boutique', 'Bowling Alley', 'Boxing Gym',\n",
       "       'Breakfast Spot', 'Bridal Shop', 'Bubble Tea Shop', 'Buffet',\n",
       "       'Building', 'Burger Joint', 'Bus Station', 'Business Service',\n",
       "       'Butcher', 'Café', 'Cajun / Creole Restaurant', 'Camera Store',\n",
       "       'Campground', 'Candy Store', 'Cantonese Restaurant',\n",
       "       'Chinese Restaurant', 'Chocolate Shop', 'Clothing Store',\n",
       "       'Coffee Shop', 'Comedy Club', 'Comfort Food Restaurant',\n",
       "       'Concert Hall', 'Construction & Landscaping', 'Convenience Store',\n",
       "       'Cosmetics Shop', 'Costume Shop', 'Coworking Space', 'Creperie',\n",
       "       'Cupcake Shop', 'Czech Restaurant', 'Deli / Bodega',\n",
       "       'Department Store', 'Design Studio', 'Dessert Shop', 'Diner',\n",
       "       'Discount Store', 'Doner Restaurant', 'Donut Shop', 'Dry Cleaner',\n",
       "       'Dumpling Restaurant', 'Eastern European Restaurant',\n",
       "       'Egyptian Restaurant', 'Electronics Store', 'English Restaurant',\n",
       "       'Fabric Shop', 'Falafel Restaurant', 'Farm', 'Farmers Market',\n",
       "       'Fast Food Restaurant', 'Filipino Restaurant', 'Film Studio',\n",
       "       'Fish & Chips Shop', 'Fish Market', 'Fishing Store', 'Flea Market',\n",
       "       'Flower Shop', 'Food & Drink Shop', 'Food Court', 'Food Service',\n",
       "       'Food Stand', 'Food Truck', 'Forest', 'Fountain', 'Frame Store',\n",
       "       'French Restaurant', 'Fried Chicken Joint', 'Frozen Yogurt Shop',\n",
       "       'Fruit & Vegetable Store', 'Furniture / Home Store', 'Gaming Cafe',\n",
       "       'Garden', 'Garden Center', 'Gas Station', 'General Entertainment',\n",
       "       'German Restaurant', 'Gift Shop', 'Gluten-free Restaurant',\n",
       "       'Go Kart Track', 'Golf Course', 'Gourmet Shop', 'Grocery Store',\n",
       "       'Gym', 'Gym / Fitness Center', 'Gym Pool', 'Gymnastics Gym',\n",
       "       'Halal Restaurant', 'Harbor / Marina', 'Hardware Store',\n",
       "       'Health & Beauty Service', 'Health Food Store',\n",
       "       'Herbs & Spices Store', 'Historic Site', 'History Museum',\n",
       "       'Hobby Shop', 'Hookah Bar', 'Hostel', 'Hot Dog Joint', 'Hotel',\n",
       "       'Hunting Supply', 'IT Services', 'Ice Cream Shop',\n",
       "       'Indian Restaurant', 'Indonesian Restaurant', 'Indoor Play Area',\n",
       "       'Insurance Office', 'Intersection', 'Italian Restaurant',\n",
       "       'Japanese Restaurant', 'Jewelry Store', 'Juice Bar',\n",
       "       'Kebab Restaurant', 'Kids Store', 'Kitchen Supply Store', 'Lake',\n",
       "       'Lebanese Restaurant', 'Lighting Store', 'Lingerie Store',\n",
       "       'Lounge', 'Luggage Store', 'Market', 'Martial Arts Dojo',\n",
       "       'Massage Studio', 'Medical Center', 'Mediterranean Restaurant',\n",
       "       \"Men's Store\", 'Metro Station', 'Mexican Restaurant',\n",
       "       'Middle Eastern Restaurant', 'Military Base', 'Miscellaneous Shop',\n",
       "       'Mobile Phone Shop', 'Modern European Restaurant',\n",
       "       'Moroccan Restaurant', 'Motel', 'Motorcycle Shop', 'Movie Theater',\n",
       "       'Multiplex', 'Museum', 'Music Store', 'Nail Salon',\n",
       "       'National Park', 'New American Restaurant', 'Nightclub',\n",
       "       'Noodle House', 'North Indian Restaurant', 'Office',\n",
       "       'Optical Shop', 'Other Great Outdoors', 'Other Nightlife',\n",
       "       'Outdoor Gym', 'Outdoor Supply Store', 'Outlet Store',\n",
       "       'Pakistani Restaurant', 'Palace', 'Paper / Office Supplies Store',\n",
       "       'Park', 'Pastry Shop', 'Pedestrian Plaza', 'Perfume Shop',\n",
       "       'Persian Restaurant', 'Pet Store', 'Pharmacy',\n",
       "       'Photography Studio', 'Pie Shop', 'Pilates Studio', 'Pizza Place',\n",
       "       'Playground', 'Plaza', 'Pool', 'Pool Hall',\n",
       "       'Portuguese Restaurant', 'Post Office', 'Public Art', 'RV Park',\n",
       "       'Racetrack', 'Record Shop', 'Recreation Center',\n",
       "       'Rental Car Location', 'Rental Service', 'Reservoir',\n",
       "       'Residential Building (Apartment / Condo)', 'Resort', 'Rest Area',\n",
       "       'Restaurant', 'Road', 'Salad Place', 'Salon / Barbershop',\n",
       "       'Sandwich Place', 'Scandinavian Restaurant', 'Sculpture Garden',\n",
       "       'Seafood Restaurant', 'Shawarma Place', 'Shipping Store',\n",
       "       'Shoe Repair', 'Shoe Store', 'Shopping Mall', 'Shopping Plaza',\n",
       "       'Smoke Shop', 'Snack Place', 'Soccer Field', 'Soccer Stadium',\n",
       "       'South Indian Restaurant', 'Spa', 'Sporting Goods Shop',\n",
       "       'Sports Bar', 'Sports Club', 'Stables', 'Stadium', 'Steakhouse',\n",
       "       'Street Food Gathering', 'Supermarket', 'Supplement Shop',\n",
       "       'Sushi Restaurant', 'Tailor Shop', 'Tea Room', 'Tennis Court',\n",
       "       'Thai Restaurant', 'Theater', 'Theme Park',\n",
       "       'Theme Park Ride / Attraction', 'Theme Restaurant',\n",
       "       'Tourist Information Center', 'Toy / Game Store', 'Track', 'Trail',\n",
       "       'Train Station', 'Tram Station', 'Tree', 'Tunnel',\n",
       "       'Turkish Restaurant', 'Vacation Rental', 'Video Game Store',\n",
       "       'Video Store', 'Watch Shop', 'Water Park', 'Waterfall',\n",
       "       'Wings Joint', \"Women's Store\", 'Yoga Studio', 'Zoo'], dtype=object)"
      ]
     },
     "execution_count": 1984,
     "metadata": {},
     "output_type": "execute_result"
    }
   ],
   "source": [
    "# one hot encoding\n",
    "onehot = pd.get_dummies(venues[['Venue Category']], prefix=\"\", prefix_sep=\"\")\n",
    "\n",
    "# add neighborhood column back to dataframe\n",
    "onehot['Neighborhood'] = venues['Neighborhood'] \n",
    "\n",
    "# move neighborhood column to the first column\n",
    "fixed_columns = [onehot.columns[-1]] + list(onehot.columns[:-1])\n",
    "onehot = onehot[fixed_columns]\n",
    "\n",
    "onehot.columns.values"
   ]
  },
  {
   "cell_type": "markdown",
   "metadata": {},
   "source": [
    "##### Let's get how frequent venue categories for each district in Riyadh."
   ]
  },
  {
   "cell_type": "code",
   "execution_count": 1985,
   "metadata": {},
   "outputs": [
    {
     "data": {
      "text/html": [
       "<div>\n",
       "<style scoped>\n",
       "    .dataframe tbody tr th:only-of-type {\n",
       "        vertical-align: middle;\n",
       "    }\n",
       "\n",
       "    .dataframe tbody tr th {\n",
       "        vertical-align: top;\n",
       "    }\n",
       "\n",
       "    .dataframe thead th {\n",
       "        text-align: right;\n",
       "    }\n",
       "</style>\n",
       "<table border=\"1\" class=\"dataframe\">\n",
       "  <thead>\n",
       "    <tr style=\"text-align: right;\">\n",
       "      <th></th>\n",
       "      <th>Neighborhood</th>\n",
       "      <th>ATM</th>\n",
       "      <th>Accessories Store</th>\n",
       "      <th>Afghan Restaurant</th>\n",
       "      <th>Airport</th>\n",
       "      <th>American Restaurant</th>\n",
       "      <th>Amphitheater</th>\n",
       "      <th>Antique Shop</th>\n",
       "      <th>Aquarium</th>\n",
       "      <th>Arcade</th>\n",
       "      <th>...</th>\n",
       "      <th>Vacation Rental</th>\n",
       "      <th>Video Game Store</th>\n",
       "      <th>Video Store</th>\n",
       "      <th>Watch Shop</th>\n",
       "      <th>Water Park</th>\n",
       "      <th>Waterfall</th>\n",
       "      <th>Wings Joint</th>\n",
       "      <th>Women's Store</th>\n",
       "      <th>Yoga Studio</th>\n",
       "      <th>Zoo</th>\n",
       "    </tr>\n",
       "  </thead>\n",
       "  <tbody>\n",
       "    <tr>\n",
       "      <th>0</th>\n",
       "      <td>اشبيلية</td>\n",
       "      <td>0.020000</td>\n",
       "      <td>0.0</td>\n",
       "      <td>0.000000</td>\n",
       "      <td>0.0</td>\n",
       "      <td>0.000000</td>\n",
       "      <td>0.0</td>\n",
       "      <td>0.000000</td>\n",
       "      <td>0.0</td>\n",
       "      <td>0.0</td>\n",
       "      <td>...</td>\n",
       "      <td>0.0</td>\n",
       "      <td>0.0</td>\n",
       "      <td>0.0</td>\n",
       "      <td>0.0</td>\n",
       "      <td>0.0</td>\n",
       "      <td>0.01</td>\n",
       "      <td>0.00</td>\n",
       "      <td>0.0</td>\n",
       "      <td>0.0</td>\n",
       "      <td>0.0</td>\n",
       "    </tr>\n",
       "    <tr>\n",
       "      <th>1</th>\n",
       "      <td>الازدهار</td>\n",
       "      <td>0.000000</td>\n",
       "      <td>0.0</td>\n",
       "      <td>0.000000</td>\n",
       "      <td>0.0</td>\n",
       "      <td>0.000000</td>\n",
       "      <td>0.0</td>\n",
       "      <td>0.000000</td>\n",
       "      <td>0.0</td>\n",
       "      <td>0.0</td>\n",
       "      <td>...</td>\n",
       "      <td>0.0</td>\n",
       "      <td>0.0</td>\n",
       "      <td>0.0</td>\n",
       "      <td>0.0</td>\n",
       "      <td>0.0</td>\n",
       "      <td>0.00</td>\n",
       "      <td>0.00</td>\n",
       "      <td>0.0</td>\n",
       "      <td>0.0</td>\n",
       "      <td>0.0</td>\n",
       "    </tr>\n",
       "    <tr>\n",
       "      <th>2</th>\n",
       "      <td>الاندلس</td>\n",
       "      <td>0.000000</td>\n",
       "      <td>0.0</td>\n",
       "      <td>0.000000</td>\n",
       "      <td>0.0</td>\n",
       "      <td>0.000000</td>\n",
       "      <td>0.0</td>\n",
       "      <td>0.000000</td>\n",
       "      <td>0.0</td>\n",
       "      <td>0.0</td>\n",
       "      <td>...</td>\n",
       "      <td>0.0</td>\n",
       "      <td>0.0</td>\n",
       "      <td>0.0</td>\n",
       "      <td>0.0</td>\n",
       "      <td>0.0</td>\n",
       "      <td>0.00</td>\n",
       "      <td>0.00</td>\n",
       "      <td>0.0</td>\n",
       "      <td>0.0</td>\n",
       "      <td>0.0</td>\n",
       "    </tr>\n",
       "    <tr>\n",
       "      <th>3</th>\n",
       "      <td>البديعة</td>\n",
       "      <td>0.022727</td>\n",
       "      <td>0.0</td>\n",
       "      <td>0.000000</td>\n",
       "      <td>0.0</td>\n",
       "      <td>0.000000</td>\n",
       "      <td>0.0</td>\n",
       "      <td>0.000000</td>\n",
       "      <td>0.0</td>\n",
       "      <td>0.0</td>\n",
       "      <td>...</td>\n",
       "      <td>0.0</td>\n",
       "      <td>0.0</td>\n",
       "      <td>0.0</td>\n",
       "      <td>0.0</td>\n",
       "      <td>0.0</td>\n",
       "      <td>0.00</td>\n",
       "      <td>0.00</td>\n",
       "      <td>0.0</td>\n",
       "      <td>0.0</td>\n",
       "      <td>0.0</td>\n",
       "    </tr>\n",
       "    <tr>\n",
       "      <th>4</th>\n",
       "      <td>التعاون</td>\n",
       "      <td>0.000000</td>\n",
       "      <td>0.0</td>\n",
       "      <td>0.000000</td>\n",
       "      <td>0.0</td>\n",
       "      <td>0.000000</td>\n",
       "      <td>0.0</td>\n",
       "      <td>0.000000</td>\n",
       "      <td>0.0</td>\n",
       "      <td>0.0</td>\n",
       "      <td>...</td>\n",
       "      <td>0.0</td>\n",
       "      <td>0.0</td>\n",
       "      <td>0.0</td>\n",
       "      <td>0.0</td>\n",
       "      <td>0.0</td>\n",
       "      <td>0.00</td>\n",
       "      <td>0.01</td>\n",
       "      <td>0.0</td>\n",
       "      <td>0.0</td>\n",
       "      <td>0.0</td>\n",
       "    </tr>\n",
       "    <tr>\n",
       "      <th>5</th>\n",
       "      <td>الجرادية</td>\n",
       "      <td>0.000000</td>\n",
       "      <td>0.0</td>\n",
       "      <td>0.012821</td>\n",
       "      <td>0.0</td>\n",
       "      <td>0.000000</td>\n",
       "      <td>0.0</td>\n",
       "      <td>0.012821</td>\n",
       "      <td>0.0</td>\n",
       "      <td>0.0</td>\n",
       "      <td>...</td>\n",
       "      <td>0.0</td>\n",
       "      <td>0.0</td>\n",
       "      <td>0.0</td>\n",
       "      <td>0.0</td>\n",
       "      <td>0.0</td>\n",
       "      <td>0.00</td>\n",
       "      <td>0.00</td>\n",
       "      <td>0.0</td>\n",
       "      <td>0.0</td>\n",
       "      <td>0.0</td>\n",
       "    </tr>\n",
       "    <tr>\n",
       "      <th>6</th>\n",
       "      <td>الجزيرة</td>\n",
       "      <td>0.000000</td>\n",
       "      <td>0.0</td>\n",
       "      <td>0.000000</td>\n",
       "      <td>0.0</td>\n",
       "      <td>0.013889</td>\n",
       "      <td>0.0</td>\n",
       "      <td>0.000000</td>\n",
       "      <td>0.0</td>\n",
       "      <td>0.0</td>\n",
       "      <td>...</td>\n",
       "      <td>0.0</td>\n",
       "      <td>0.0</td>\n",
       "      <td>0.0</td>\n",
       "      <td>0.0</td>\n",
       "      <td>0.0</td>\n",
       "      <td>0.00</td>\n",
       "      <td>0.00</td>\n",
       "      <td>0.0</td>\n",
       "      <td>0.0</td>\n",
       "      <td>0.0</td>\n",
       "    </tr>\n",
       "    <tr>\n",
       "      <th>7</th>\n",
       "      <td>الجنادرية</td>\n",
       "      <td>0.000000</td>\n",
       "      <td>0.0</td>\n",
       "      <td>0.000000</td>\n",
       "      <td>0.0</td>\n",
       "      <td>0.000000</td>\n",
       "      <td>0.0</td>\n",
       "      <td>0.000000</td>\n",
       "      <td>0.0</td>\n",
       "      <td>0.0</td>\n",
       "      <td>...</td>\n",
       "      <td>0.0</td>\n",
       "      <td>0.0</td>\n",
       "      <td>0.0</td>\n",
       "      <td>0.0</td>\n",
       "      <td>0.0</td>\n",
       "      <td>0.00</td>\n",
       "      <td>0.00</td>\n",
       "      <td>0.0</td>\n",
       "      <td>0.0</td>\n",
       "      <td>0.0</td>\n",
       "    </tr>\n",
       "    <tr>\n",
       "      <th>8</th>\n",
       "      <td>الحزم</td>\n",
       "      <td>0.000000</td>\n",
       "      <td>0.0</td>\n",
       "      <td>0.000000</td>\n",
       "      <td>0.0</td>\n",
       "      <td>0.000000</td>\n",
       "      <td>0.0</td>\n",
       "      <td>0.000000</td>\n",
       "      <td>0.0</td>\n",
       "      <td>0.0</td>\n",
       "      <td>...</td>\n",
       "      <td>0.0</td>\n",
       "      <td>0.0</td>\n",
       "      <td>0.0</td>\n",
       "      <td>0.0</td>\n",
       "      <td>0.0</td>\n",
       "      <td>0.00</td>\n",
       "      <td>0.00</td>\n",
       "      <td>0.0</td>\n",
       "      <td>0.0</td>\n",
       "      <td>0.0</td>\n",
       "    </tr>\n",
       "    <tr>\n",
       "      <th>9</th>\n",
       "      <td>الحمراء</td>\n",
       "      <td>0.000000</td>\n",
       "      <td>0.0</td>\n",
       "      <td>0.000000</td>\n",
       "      <td>0.0</td>\n",
       "      <td>0.040000</td>\n",
       "      <td>0.0</td>\n",
       "      <td>0.000000</td>\n",
       "      <td>0.0</td>\n",
       "      <td>0.0</td>\n",
       "      <td>...</td>\n",
       "      <td>0.0</td>\n",
       "      <td>0.0</td>\n",
       "      <td>0.0</td>\n",
       "      <td>0.0</td>\n",
       "      <td>0.0</td>\n",
       "      <td>0.00</td>\n",
       "      <td>0.00</td>\n",
       "      <td>0.0</td>\n",
       "      <td>0.0</td>\n",
       "      <td>0.0</td>\n",
       "    </tr>\n",
       "  </tbody>\n",
       "</table>\n",
       "<p>10 rows × 279 columns</p>\n",
       "</div>"
      ],
      "text/plain": [
       "  Neighborhood       ATM  Accessories Store  Afghan Restaurant  Airport  \\\n",
       "0      اشبيلية  0.020000                0.0           0.000000      0.0   \n",
       "1     الازدهار  0.000000                0.0           0.000000      0.0   \n",
       "2      الاندلس  0.000000                0.0           0.000000      0.0   \n",
       "3      البديعة  0.022727                0.0           0.000000      0.0   \n",
       "4      التعاون  0.000000                0.0           0.000000      0.0   \n",
       "5     الجرادية  0.000000                0.0           0.012821      0.0   \n",
       "6      الجزيرة  0.000000                0.0           0.000000      0.0   \n",
       "7    الجنادرية  0.000000                0.0           0.000000      0.0   \n",
       "8        الحزم  0.000000                0.0           0.000000      0.0   \n",
       "9      الحمراء  0.000000                0.0           0.000000      0.0   \n",
       "\n",
       "   American Restaurant  Amphitheater  Antique Shop  Aquarium  Arcade  ...  \\\n",
       "0             0.000000           0.0      0.000000       0.0     0.0  ...   \n",
       "1             0.000000           0.0      0.000000       0.0     0.0  ...   \n",
       "2             0.000000           0.0      0.000000       0.0     0.0  ...   \n",
       "3             0.000000           0.0      0.000000       0.0     0.0  ...   \n",
       "4             0.000000           0.0      0.000000       0.0     0.0  ...   \n",
       "5             0.000000           0.0      0.012821       0.0     0.0  ...   \n",
       "6             0.013889           0.0      0.000000       0.0     0.0  ...   \n",
       "7             0.000000           0.0      0.000000       0.0     0.0  ...   \n",
       "8             0.000000           0.0      0.000000       0.0     0.0  ...   \n",
       "9             0.040000           0.0      0.000000       0.0     0.0  ...   \n",
       "\n",
       "   Vacation Rental  Video Game Store  Video Store  Watch Shop  Water Park  \\\n",
       "0              0.0               0.0          0.0         0.0         0.0   \n",
       "1              0.0               0.0          0.0         0.0         0.0   \n",
       "2              0.0               0.0          0.0         0.0         0.0   \n",
       "3              0.0               0.0          0.0         0.0         0.0   \n",
       "4              0.0               0.0          0.0         0.0         0.0   \n",
       "5              0.0               0.0          0.0         0.0         0.0   \n",
       "6              0.0               0.0          0.0         0.0         0.0   \n",
       "7              0.0               0.0          0.0         0.0         0.0   \n",
       "8              0.0               0.0          0.0         0.0         0.0   \n",
       "9              0.0               0.0          0.0         0.0         0.0   \n",
       "\n",
       "   Waterfall  Wings Joint  Women's Store  Yoga Studio  Zoo  \n",
       "0       0.01         0.00            0.0          0.0  0.0  \n",
       "1       0.00         0.00            0.0          0.0  0.0  \n",
       "2       0.00         0.00            0.0          0.0  0.0  \n",
       "3       0.00         0.00            0.0          0.0  0.0  \n",
       "4       0.00         0.01            0.0          0.0  0.0  \n",
       "5       0.00         0.00            0.0          0.0  0.0  \n",
       "6       0.00         0.00            0.0          0.0  0.0  \n",
       "7       0.00         0.00            0.0          0.0  0.0  \n",
       "8       0.00         0.00            0.0          0.0  0.0  \n",
       "9       0.00         0.00            0.0          0.0  0.0  \n",
       "\n",
       "[10 rows x 279 columns]"
      ]
     },
     "execution_count": 1985,
     "metadata": {},
     "output_type": "execute_result"
    }
   ],
   "source": [
    "grouped = onehot.groupby('Neighborhood').mean().reset_index()\n",
    "grouped.head(10)"
   ]
  },
  {
   "cell_type": "code",
   "execution_count": 1986,
   "metadata": {},
   "outputs": [
    {
     "data": {
      "text/plain": [
       "(85, 279)"
      ]
     },
     "execution_count": 1986,
     "metadata": {},
     "output_type": "execute_result"
    }
   ],
   "source": [
    "grouped.shape"
   ]
  },
  {
   "cell_type": "markdown",
   "metadata": {},
   "source": [
    "##### Sorting venue categories by most common categories for the districts."
   ]
  },
  {
   "cell_type": "code",
   "execution_count": null,
   "metadata": {},
   "outputs": [],
   "source": [
    "num_top_venues = 5\n",
    "\n",
    "for hood in grouped['Neighborhood']:\n",
    "    print(\"----\"+hood+\"----\")\n",
    "    temp = grouped[grouped['Neighborhood'] == hood].T.reset_index()\n",
    "    temp.columns = ['venue','freq']\n",
    "    temp = temp.iloc[1:]\n",
    "    temp['freq'] = temp['freq'].astype(float)\n",
    "    temp = temp.round({'freq': 2})\n",
    "    print(temp.sort_values('freq', ascending=False).reset_index(drop=True).head(num_top_venues))\n",
    "    print('\\n')"
   ]
  },
  {
   "cell_type": "code",
   "execution_count": 1988,
   "metadata": {},
   "outputs": [],
   "source": [
    "def return_most_common_venues(row, num_top_venues):\n",
    "    row_categories = row.iloc[1:]\n",
    "    row_categories_sorted = row_categories.sort_values(ascending=False)\n",
    "    \n",
    "    return row_categories_sorted.index.values[0:num_top_venues]"
   ]
  },
  {
   "cell_type": "code",
   "execution_count": 1989,
   "metadata": {},
   "outputs": [
    {
     "data": {
      "text/html": [
       "<div>\n",
       "<style scoped>\n",
       "    .dataframe tbody tr th:only-of-type {\n",
       "        vertical-align: middle;\n",
       "    }\n",
       "\n",
       "    .dataframe tbody tr th {\n",
       "        vertical-align: top;\n",
       "    }\n",
       "\n",
       "    .dataframe thead th {\n",
       "        text-align: right;\n",
       "    }\n",
       "</style>\n",
       "<table border=\"1\" class=\"dataframe\">\n",
       "  <thead>\n",
       "    <tr style=\"text-align: right;\">\n",
       "      <th></th>\n",
       "      <th>Neighborhood</th>\n",
       "      <th>1st Most Common Venue</th>\n",
       "      <th>2nd Most Common Venue</th>\n",
       "      <th>3rd Most Common Venue</th>\n",
       "      <th>4th Most Common Venue</th>\n",
       "      <th>5th Most Common Venue</th>\n",
       "      <th>6th Most Common Venue</th>\n",
       "      <th>7th Most Common Venue</th>\n",
       "      <th>8th Most Common Venue</th>\n",
       "      <th>9th Most Common Venue</th>\n",
       "      <th>10th Most Common Venue</th>\n",
       "    </tr>\n",
       "  </thead>\n",
       "  <tbody>\n",
       "    <tr>\n",
       "      <th>0</th>\n",
       "      <td>اشبيلية</td>\n",
       "      <td>Donut Shop</td>\n",
       "      <td>Dessert Shop</td>\n",
       "      <td>Fast Food Restaurant</td>\n",
       "      <td>Coffee Shop</td>\n",
       "      <td>Middle Eastern Restaurant</td>\n",
       "      <td>Gym / Fitness Center</td>\n",
       "      <td>Supermarket</td>\n",
       "      <td>Sandwich Place</td>\n",
       "      <td>Ice Cream Shop</td>\n",
       "      <td>Pizza Place</td>\n",
       "    </tr>\n",
       "    <tr>\n",
       "      <th>1</th>\n",
       "      <td>الازدهار</td>\n",
       "      <td>Coffee Shop</td>\n",
       "      <td>Cosmetics Shop</td>\n",
       "      <td>Juice Bar</td>\n",
       "      <td>Pharmacy</td>\n",
       "      <td>Breakfast Spot</td>\n",
       "      <td>Dessert Shop</td>\n",
       "      <td>Restaurant</td>\n",
       "      <td>Burger Joint</td>\n",
       "      <td>Health Food Store</td>\n",
       "      <td>Ice Cream Shop</td>\n",
       "    </tr>\n",
       "    <tr>\n",
       "      <th>2</th>\n",
       "      <td>الاندلس</td>\n",
       "      <td>Coffee Shop</td>\n",
       "      <td>Ice Cream Shop</td>\n",
       "      <td>Middle Eastern Restaurant</td>\n",
       "      <td>Donut Shop</td>\n",
       "      <td>Fast Food Restaurant</td>\n",
       "      <td>Pharmacy</td>\n",
       "      <td>Breakfast Spot</td>\n",
       "      <td>Pizza Place</td>\n",
       "      <td>Bakery</td>\n",
       "      <td>Café</td>\n",
       "    </tr>\n",
       "    <tr>\n",
       "      <th>3</th>\n",
       "      <td>البديعة</td>\n",
       "      <td>Coffee Shop</td>\n",
       "      <td>Fast Food Restaurant</td>\n",
       "      <td>Park</td>\n",
       "      <td>Grocery Store</td>\n",
       "      <td>Café</td>\n",
       "      <td>Donut Shop</td>\n",
       "      <td>Pizza Place</td>\n",
       "      <td>Farm</td>\n",
       "      <td>Ice Cream Shop</td>\n",
       "      <td>Convenience Store</td>\n",
       "    </tr>\n",
       "    <tr>\n",
       "      <th>4</th>\n",
       "      <td>التعاون</td>\n",
       "      <td>Coffee Shop</td>\n",
       "      <td>Ice Cream Shop</td>\n",
       "      <td>Pharmacy</td>\n",
       "      <td>Fast Food Restaurant</td>\n",
       "      <td>Burger Joint</td>\n",
       "      <td>Restaurant</td>\n",
       "      <td>Donut Shop</td>\n",
       "      <td>Gift Shop</td>\n",
       "      <td>Dessert Shop</td>\n",
       "      <td>Café</td>\n",
       "    </tr>\n",
       "  </tbody>\n",
       "</table>\n",
       "</div>"
      ],
      "text/plain": [
       "  Neighborhood 1st Most Common Venue 2nd Most Common Venue  \\\n",
       "0      اشبيلية            Donut Shop          Dessert Shop   \n",
       "1     الازدهار           Coffee Shop        Cosmetics Shop   \n",
       "2      الاندلس           Coffee Shop        Ice Cream Shop   \n",
       "3      البديعة           Coffee Shop  Fast Food Restaurant   \n",
       "4      التعاون           Coffee Shop        Ice Cream Shop   \n",
       "\n",
       "       3rd Most Common Venue 4th Most Common Venue      5th Most Common Venue  \\\n",
       "0       Fast Food Restaurant           Coffee Shop  Middle Eastern Restaurant   \n",
       "1                  Juice Bar              Pharmacy             Breakfast Spot   \n",
       "2  Middle Eastern Restaurant            Donut Shop       Fast Food Restaurant   \n",
       "3                       Park         Grocery Store                       Café   \n",
       "4                   Pharmacy  Fast Food Restaurant               Burger Joint   \n",
       "\n",
       "  6th Most Common Venue 7th Most Common Venue 8th Most Common Venue  \\\n",
       "0  Gym / Fitness Center           Supermarket        Sandwich Place   \n",
       "1          Dessert Shop            Restaurant          Burger Joint   \n",
       "2              Pharmacy        Breakfast Spot           Pizza Place   \n",
       "3            Donut Shop           Pizza Place                  Farm   \n",
       "4            Restaurant            Donut Shop             Gift Shop   \n",
       "\n",
       "  9th Most Common Venue 10th Most Common Venue  \n",
       "0        Ice Cream Shop            Pizza Place  \n",
       "1     Health Food Store         Ice Cream Shop  \n",
       "2                Bakery                   Café  \n",
       "3        Ice Cream Shop      Convenience Store  \n",
       "4          Dessert Shop                   Café  "
      ]
     },
     "execution_count": 1989,
     "metadata": {},
     "output_type": "execute_result"
    }
   ],
   "source": [
    "num_top_venues = 10\n",
    "\n",
    "indicators = ['st', 'nd', 'rd']\n",
    "\n",
    "# create columns according to number of top venues\n",
    "columns = ['Neighborhood']\n",
    "for ind in np.arange(num_top_venues):\n",
    "    try:\n",
    "        columns.append('{}{} Most Common Venue'.format(ind+1, indicators[ind]))\n",
    "    except:\n",
    "        columns.append('{}th Most Common Venue'.format(ind+1))\n",
    "\n",
    "# create a new dataframe\n",
    "neighborhoods_venues_sorted = pd.DataFrame(columns=columns)\n",
    "neighborhoods_venues_sorted['Neighborhood'] = grouped['Neighborhood']\n",
    "\n",
    "for ind in np.arange(grouped.shape[0]):\n",
    "    neighborhoods_venues_sorted.iloc[ind, 1:] = return_most_common_venues(grouped.iloc[ind, :], num_top_venues)\n",
    "\n",
    "neighborhoods_venues_sorted.head()"
   ]
  },
  {
   "cell_type": "markdown",
   "metadata": {},
   "source": [
    "##### Clustering Riyadh districts based on frequency of venue categories."
   ]
  },
  {
   "cell_type": "code",
   "execution_count": 1990,
   "metadata": {},
   "outputs": [],
   "source": [
    "from sklearn.cluster import KMeans"
   ]
  },
  {
   "cell_type": "markdown",
   "metadata": {},
   "source": [
    "##### Selecting the number of clusters to 10 after some trials."
   ]
  },
  {
   "cell_type": "code",
   "execution_count": 1991,
   "metadata": {},
   "outputs": [
    {
     "data": {
      "text/plain": [
       "array([1, 0, 1, 0, 0, 1, 1, 2, 1, 4, 1, 1, 4, 0, 3, 4, 4, 4, 4, 1, 1, 4,\n",
       "       1, 4, 1, 0, 1, 0, 9, 1, 1, 4, 0, 4, 0, 1, 6, 4, 7, 0, 0, 1, 0, 0,\n",
       "       1, 0, 1, 4, 4, 4, 0, 1, 4, 1, 1, 0, 0, 5, 0, 0, 1, 4, 1, 0, 0, 0,\n",
       "       4, 1, 1, 0, 1, 6, 1, 4, 1, 1, 4, 4, 1, 1, 8, 4, 0, 1, 1])"
      ]
     },
     "execution_count": 1991,
     "metadata": {},
     "output_type": "execute_result"
    }
   ],
   "source": [
    "# set number of clusters\n",
    "kclusters = 10\n",
    "\n",
    "grouped_clustering = grouped.drop('Neighborhood', 1)\n",
    "\n",
    "# run k-means clustering\n",
    "kmeans = KMeans(n_clusters=kclusters, random_state=0).fit(grouped_clustering)\n",
    "\n",
    "# check cluster labels generated for each row in the dataframe\n",
    "kmeans.labels_[0:85]"
   ]
  },
  {
   "cell_type": "code",
   "execution_count": 1992,
   "metadata": {},
   "outputs": [],
   "source": [
    "# add clustering labels\n",
    "neighborhoods_venues_sorted.insert(0, 'Cluster Labels', kmeans.labels_)"
   ]
  },
  {
   "cell_type": "code",
   "execution_count": 1993,
   "metadata": {},
   "outputs": [],
   "source": [
    "neighborhoods_venues_sorted.rename(columns={'Neighborhood':'District'}, inplace=True)"
   ]
  },
  {
   "cell_type": "code",
   "execution_count": 1994,
   "metadata": {
    "scrolled": true
   },
   "outputs": [
    {
     "data": {
      "text/plain": [
       "array(['index', 'District', '2015.0', '2015.5', '2016.0', '2016.5',\n",
       "       '2017.0', '2017.5', '2018.0', '2018.5', 'minx', 'miny', 'maxx',\n",
       "       'maxy', 'Id', 'longitude', 'latitude', 'Cluster Labels',\n",
       "       '1st Most Common Venue', '2nd Most Common Venue',\n",
       "       '3rd Most Common Venue', '4th Most Common Venue',\n",
       "       '5th Most Common Venue', '6th Most Common Venue',\n",
       "       '7th Most Common Venue', '8th Most Common Venue',\n",
       "       '9th Most Common Venue', '10th Most Common Venue'], dtype=object)"
      ]
     },
     "execution_count": 1994,
     "metadata": {},
     "output_type": "execute_result"
    }
   ],
   "source": [
    "merged = Geo_Stats_df\n",
    "\n",
    "# merge grouped with data to add latitude/longitude for each neighborhood\n",
    "merged = merged.join(neighborhoods_venues_sorted.set_index('District'), on='District')\n",
    "\n",
    "merged.dropna(subset=['Cluster Labels'], inplace=True)\n",
    "merged['Cluster Labels'] = merged['Cluster Labels'].astype(int)\n",
    "\n",
    "merged.columns.values"
   ]
  },
  {
   "cell_type": "markdown",
   "metadata": {},
   "source": [
    "##### Let's add the clusters to the previous choropleth map using color coded circle markers."
   ]
  },
  {
   "cell_type": "code",
   "execution_count": 1997,
   "metadata": {},
   "outputs": [],
   "source": [
    "# Matplotlib and associated plotting modules\n",
    "import matplotlib.cm as cm\n",
    "import matplotlib.colors as colors"
   ]
  },
  {
   "cell_type": "code",
   "execution_count": 1998,
   "metadata": {},
   "outputs": [],
   "source": [
    "# set color scheme for the clusters\n",
    "x = np.arange(kclusters)\n",
    "ys = [i + x + (i*x)**2 for i in range(kclusters)]\n",
    "colors_array = cm.rainbow(np.linspace(0, 1, len(ys)))\n",
    "rainbow = [colors.rgb2hex(i) for i in colors_array]"
   ]
  },
  {
   "cell_type": "code",
   "execution_count": 2168,
   "metadata": {},
   "outputs": [],
   "source": [
    "# add markers to the map\n",
    "markers_colors = []\n",
    "for lat, lon, poi, cluster in zip(merged['latitude'], merged['longitude'], merged['District'], merged['Cluster Labels']):\n",
    "    label = folium.Popup(str(poi) + ' Cluster ' + str(cluster), parse_html=True)\n",
    "    folium.CircleMarker(\n",
    "        [lat, lon],\n",
    "        radius=5,\n",
    "        popup=label,\n",
    "        color=rainbow[cluster-1],\n",
    "        fill=True,\n",
    "        fill_color=rainbow[cluster-1],\n",
    "        fill_opacity=0.7).add_to(map_riyadh_choropleth_03)\n",
    "       \n",
    "map_riyadh_choropleth_03.save('c:\\\\users\\\\Test\\\\riyadh_map_clusters.html')"
   ]
  },
  {
   "cell_type": "markdown",
   "metadata": {},
   "source": [
    "<img src=\"riyadh_map_clusters.jpg\">"
   ]
  },
  {
   "cell_type": "markdown",
   "metadata": {},
   "source": [
    "##### From the map we can see that districts in cluster 0 ( Blue circle marker ) have High average rent prices.\n",
    "##### And districts in cluster 1 ( Purple circle markers ) have low average rent prices.\n",
    "##### And districts in cluster 4 ( red circle marker ) have medium to high average rent prices.\n",
    "##### Other clusters can be discarded."
   ]
  },
  {
   "cell_type": "code",
   "execution_count": 2000,
   "metadata": {
    "scrolled": true
   },
   "outputs": [
    {
     "data": {
      "text/plain": [
       "1    33\n",
       "0    23\n",
       "4    21\n",
       "6     2\n",
       "9     1\n",
       "8     1\n",
       "7     1\n",
       "5     1\n",
       "3     1\n",
       "2     1\n",
       "Name: Cluster Labels, dtype: int64"
      ]
     },
     "execution_count": 2000,
     "metadata": {},
     "output_type": "execute_result"
    }
   ],
   "source": [
    "merged['Cluster Labels'].value_counts()"
   ]
  },
  {
   "cell_type": "markdown",
   "metadata": {},
   "source": [
    "##### Cluster 0 have Coffe Shops and Hotel usually as most common venue categories."
   ]
  },
  {
   "cell_type": "code",
   "execution_count": 2197,
   "metadata": {},
   "outputs": [
    {
     "data": {
      "text/html": [
       "<div>\n",
       "<style scoped>\n",
       "    .dataframe tbody tr th:only-of-type {\n",
       "        vertical-align: middle;\n",
       "    }\n",
       "\n",
       "    .dataframe tbody tr th {\n",
       "        vertical-align: top;\n",
       "    }\n",
       "\n",
       "    .dataframe thead th {\n",
       "        text-align: right;\n",
       "    }\n",
       "</style>\n",
       "<table border=\"1\" class=\"dataframe\">\n",
       "  <thead>\n",
       "    <tr style=\"text-align: right;\">\n",
       "      <th></th>\n",
       "      <th>District</th>\n",
       "      <th>2016.5</th>\n",
       "      <th>2017.0</th>\n",
       "      <th>2017.5</th>\n",
       "      <th>2018.0</th>\n",
       "      <th>2018.5</th>\n",
       "      <th>minx</th>\n",
       "      <th>miny</th>\n",
       "      <th>maxx</th>\n",
       "      <th>maxy</th>\n",
       "      <th>...</th>\n",
       "      <th>1st Most Common Venue</th>\n",
       "      <th>2nd Most Common Venue</th>\n",
       "      <th>3rd Most Common Venue</th>\n",
       "      <th>4th Most Common Venue</th>\n",
       "      <th>5th Most Common Venue</th>\n",
       "      <th>6th Most Common Venue</th>\n",
       "      <th>7th Most Common Venue</th>\n",
       "      <th>8th Most Common Venue</th>\n",
       "      <th>9th Most Common Venue</th>\n",
       "      <th>10th Most Common Venue</th>\n",
       "    </tr>\n",
       "  </thead>\n",
       "  <tbody>\n",
       "    <tr>\n",
       "      <th>1</th>\n",
       "      <td>الازدهار</td>\n",
       "      <td>30197.0</td>\n",
       "      <td>29635.0</td>\n",
       "      <td>27919.0</td>\n",
       "      <td>26421.0</td>\n",
       "      <td>24209.0</td>\n",
       "      <td>46.708288</td>\n",
       "      <td>24.772211</td>\n",
       "      <td>46.727249</td>\n",
       "      <td>24.789539</td>\n",
       "      <td>...</td>\n",
       "      <td>Coffee Shop</td>\n",
       "      <td>Cosmetics Shop</td>\n",
       "      <td>Juice Bar</td>\n",
       "      <td>Pharmacy</td>\n",
       "      <td>Breakfast Spot</td>\n",
       "      <td>Dessert Shop</td>\n",
       "      <td>Restaurant</td>\n",
       "      <td>Burger Joint</td>\n",
       "      <td>Health Food Store</td>\n",
       "      <td>Ice Cream Shop</td>\n",
       "    </tr>\n",
       "    <tr>\n",
       "      <th>3</th>\n",
       "      <td>البديعة</td>\n",
       "      <td>NaN</td>\n",
       "      <td>17000.0</td>\n",
       "      <td>15194.0</td>\n",
       "      <td>14608.0</td>\n",
       "      <td>17285.0</td>\n",
       "      <td>46.672539</td>\n",
       "      <td>24.608983</td>\n",
       "      <td>46.689786</td>\n",
       "      <td>24.623840</td>\n",
       "      <td>...</td>\n",
       "      <td>Coffee Shop</td>\n",
       "      <td>Fast Food Restaurant</td>\n",
       "      <td>Park</td>\n",
       "      <td>Grocery Store</td>\n",
       "      <td>Café</td>\n",
       "      <td>Donut Shop</td>\n",
       "      <td>Pizza Place</td>\n",
       "      <td>Farm</td>\n",
       "      <td>Ice Cream Shop</td>\n",
       "      <td>Convenience Store</td>\n",
       "    </tr>\n",
       "    <tr>\n",
       "      <th>4</th>\n",
       "      <td>التعاون</td>\n",
       "      <td>33431.0</td>\n",
       "      <td>31714.0</td>\n",
       "      <td>29450.0</td>\n",
       "      <td>28912.0</td>\n",
       "      <td>28950.0</td>\n",
       "      <td>46.690325</td>\n",
       "      <td>24.764640</td>\n",
       "      <td>46.709307</td>\n",
       "      <td>24.781982</td>\n",
       "      <td>...</td>\n",
       "      <td>Coffee Shop</td>\n",
       "      <td>Ice Cream Shop</td>\n",
       "      <td>Pharmacy</td>\n",
       "      <td>Fast Food Restaurant</td>\n",
       "      <td>Burger Joint</td>\n",
       "      <td>Restaurant</td>\n",
       "      <td>Donut Shop</td>\n",
       "      <td>Gift Shop</td>\n",
       "      <td>Dessert Shop</td>\n",
       "      <td>Café</td>\n",
       "    </tr>\n",
       "    <tr>\n",
       "      <th>15</th>\n",
       "      <td>الربيع</td>\n",
       "      <td>35353.0</td>\n",
       "      <td>34382.0</td>\n",
       "      <td>31777.0</td>\n",
       "      <td>31346.0</td>\n",
       "      <td>29333.0</td>\n",
       "      <td>46.648465</td>\n",
       "      <td>24.783816</td>\n",
       "      <td>46.673669</td>\n",
       "      <td>24.806298</td>\n",
       "      <td>...</td>\n",
       "      <td>Coffee Shop</td>\n",
       "      <td>Café</td>\n",
       "      <td>Dessert Shop</td>\n",
       "      <td>Bakery</td>\n",
       "      <td>Pizza Place</td>\n",
       "      <td>Gym / Fitness Center</td>\n",
       "      <td>Restaurant</td>\n",
       "      <td>Donut Shop</td>\n",
       "      <td>Fast Food Restaurant</td>\n",
       "      <td>Supermarket</td>\n",
       "    </tr>\n",
       "    <tr>\n",
       "      <th>29</th>\n",
       "      <td>الشهداء</td>\n",
       "      <td>29407.0</td>\n",
       "      <td>28375.0</td>\n",
       "      <td>28980.0</td>\n",
       "      <td>25563.0</td>\n",
       "      <td>20000.0</td>\n",
       "      <td>46.726246</td>\n",
       "      <td>24.779767</td>\n",
       "      <td>46.745205</td>\n",
       "      <td>24.797111</td>\n",
       "      <td>...</td>\n",
       "      <td>Coffee Shop</td>\n",
       "      <td>Cosmetics Shop</td>\n",
       "      <td>Donut Shop</td>\n",
       "      <td>Hotel</td>\n",
       "      <td>Café</td>\n",
       "      <td>Clothing Store</td>\n",
       "      <td>Pharmacy</td>\n",
       "      <td>Frozen Yogurt Shop</td>\n",
       "      <td>Burger Joint</td>\n",
       "      <td>Middle Eastern Restaurant</td>\n",
       "    </tr>\n",
       "    <tr>\n",
       "      <th>31</th>\n",
       "      <td>الضباط</td>\n",
       "      <td>30351.0</td>\n",
       "      <td>32829.0</td>\n",
       "      <td>29889.0</td>\n",
       "      <td>27135.0</td>\n",
       "      <td>28811.0</td>\n",
       "      <td>46.719696</td>\n",
       "      <td>24.670504</td>\n",
       "      <td>46.727659</td>\n",
       "      <td>24.690109</td>\n",
       "      <td>...</td>\n",
       "      <td>Coffee Shop</td>\n",
       "      <td>Donut Shop</td>\n",
       "      <td>Sandwich Place</td>\n",
       "      <td>Hotel</td>\n",
       "      <td>Middle Eastern Restaurant</td>\n",
       "      <td>Indian Restaurant</td>\n",
       "      <td>Fast Food Restaurant</td>\n",
       "      <td>Café</td>\n",
       "      <td>Bakery</td>\n",
       "      <td>Breakfast Spot</td>\n",
       "    </tr>\n",
       "    <tr>\n",
       "      <th>36</th>\n",
       "      <td>العليا</td>\n",
       "      <td>36509.0</td>\n",
       "      <td>34482.0</td>\n",
       "      <td>34630.0</td>\n",
       "      <td>33658.0</td>\n",
       "      <td>30978.0</td>\n",
       "      <td>46.669545</td>\n",
       "      <td>24.675447</td>\n",
       "      <td>46.698337</td>\n",
       "      <td>24.710313</td>\n",
       "      <td>...</td>\n",
       "      <td>Coffee Shop</td>\n",
       "      <td>Jewelry Store</td>\n",
       "      <td>Café</td>\n",
       "      <td>Hotel</td>\n",
       "      <td>Boutique</td>\n",
       "      <td>Spa</td>\n",
       "      <td>Men's Store</td>\n",
       "      <td>Dessert Shop</td>\n",
       "      <td>French Restaurant</td>\n",
       "      <td>Flower Shop</td>\n",
       "    </tr>\n",
       "    <tr>\n",
       "      <th>38</th>\n",
       "      <td>الفلاح</td>\n",
       "      <td>32064.0</td>\n",
       "      <td>30297.0</td>\n",
       "      <td>31228.0</td>\n",
       "      <td>28081.0</td>\n",
       "      <td>27631.0</td>\n",
       "      <td>46.700040</td>\n",
       "      <td>24.788643</td>\n",
       "      <td>46.718969</td>\n",
       "      <td>24.805981</td>\n",
       "      <td>...</td>\n",
       "      <td>Coffee Shop</td>\n",
       "      <td>Donut Shop</td>\n",
       "      <td>Falafel Restaurant</td>\n",
       "      <td>Hotel</td>\n",
       "      <td>Breakfast Spot</td>\n",
       "      <td>Burger Joint</td>\n",
       "      <td>Café</td>\n",
       "      <td>Gift Shop</td>\n",
       "      <td>Dessert Shop</td>\n",
       "      <td>Pharmacy</td>\n",
       "    </tr>\n",
       "    <tr>\n",
       "      <th>44</th>\n",
       "      <td>المربع</td>\n",
       "      <td>27483.0</td>\n",
       "      <td>35528.0</td>\n",
       "      <td>26062.0</td>\n",
       "      <td>25544.0</td>\n",
       "      <td>23571.0</td>\n",
       "      <td>46.699178</td>\n",
       "      <td>24.649940</td>\n",
       "      <td>46.715356</td>\n",
       "      <td>24.676661</td>\n",
       "      <td>...</td>\n",
       "      <td>Coffee Shop</td>\n",
       "      <td>Hotel</td>\n",
       "      <td>Pizza Place</td>\n",
       "      <td>Breakfast Spot</td>\n",
       "      <td>Indian Restaurant</td>\n",
       "      <td>Café</td>\n",
       "      <td>Sandwich Place</td>\n",
       "      <td>Asian Restaurant</td>\n",
       "      <td>Middle Eastern Restaurant</td>\n",
       "      <td>Donut Shop</td>\n",
       "    </tr>\n",
       "    <tr>\n",
       "      <th>45</th>\n",
       "      <td>المرسلات</td>\n",
       "      <td>30571.0</td>\n",
       "      <td>30800.0</td>\n",
       "      <td>29660.0</td>\n",
       "      <td>27729.0</td>\n",
       "      <td>26100.0</td>\n",
       "      <td>46.680656</td>\n",
       "      <td>24.740342</td>\n",
       "      <td>46.699738</td>\n",
       "      <td>24.757935</td>\n",
       "      <td>...</td>\n",
       "      <td>Coffee Shop</td>\n",
       "      <td>Café</td>\n",
       "      <td>Donut Shop</td>\n",
       "      <td>Jewelry Store</td>\n",
       "      <td>Cosmetics Shop</td>\n",
       "      <td>Middle Eastern Restaurant</td>\n",
       "      <td>Ice Cream Shop</td>\n",
       "      <td>Juice Bar</td>\n",
       "      <td>Breakfast Spot</td>\n",
       "      <td>Furniture / Home Store</td>\n",
       "    </tr>\n",
       "  </tbody>\n",
       "</table>\n",
       "<p>10 rows × 24 columns</p>\n",
       "</div>"
      ],
      "text/plain": [
       "    District   2016.5   2017.0   2017.5   2018.0   2018.5       minx  \\\n",
       "1   الازدهار  30197.0  29635.0  27919.0  26421.0  24209.0  46.708288   \n",
       "3    البديعة      NaN  17000.0  15194.0  14608.0  17285.0  46.672539   \n",
       "4    التعاون  33431.0  31714.0  29450.0  28912.0  28950.0  46.690325   \n",
       "15    الربيع  35353.0  34382.0  31777.0  31346.0  29333.0  46.648465   \n",
       "29   الشهداء  29407.0  28375.0  28980.0  25563.0  20000.0  46.726246   \n",
       "31    الضباط  30351.0  32829.0  29889.0  27135.0  28811.0  46.719696   \n",
       "36    العليا  36509.0  34482.0  34630.0  33658.0  30978.0  46.669545   \n",
       "38    الفلاح  32064.0  30297.0  31228.0  28081.0  27631.0  46.700040   \n",
       "44    المربع  27483.0  35528.0  26062.0  25544.0  23571.0  46.699178   \n",
       "45  المرسلات  30571.0  30800.0  29660.0  27729.0  26100.0  46.680656   \n",
       "\n",
       "         miny       maxx       maxy  ...  1st Most Common Venue  \\\n",
       "1   24.772211  46.727249  24.789539  ...            Coffee Shop   \n",
       "3   24.608983  46.689786  24.623840  ...            Coffee Shop   \n",
       "4   24.764640  46.709307  24.781982  ...            Coffee Shop   \n",
       "15  24.783816  46.673669  24.806298  ...            Coffee Shop   \n",
       "29  24.779767  46.745205  24.797111  ...            Coffee Shop   \n",
       "31  24.670504  46.727659  24.690109  ...            Coffee Shop   \n",
       "36  24.675447  46.698337  24.710313  ...            Coffee Shop   \n",
       "38  24.788643  46.718969  24.805981  ...            Coffee Shop   \n",
       "44  24.649940  46.715356  24.676661  ...            Coffee Shop   \n",
       "45  24.740342  46.699738  24.757935  ...            Coffee Shop   \n",
       "\n",
       "    2nd Most Common Venue  3rd Most Common Venue  4th Most Common Venue  \\\n",
       "1          Cosmetics Shop              Juice Bar               Pharmacy   \n",
       "3    Fast Food Restaurant                   Park          Grocery Store   \n",
       "4          Ice Cream Shop               Pharmacy   Fast Food Restaurant   \n",
       "15                   Café           Dessert Shop                 Bakery   \n",
       "29         Cosmetics Shop             Donut Shop                  Hotel   \n",
       "31             Donut Shop         Sandwich Place                  Hotel   \n",
       "36          Jewelry Store                   Café                  Hotel   \n",
       "38             Donut Shop     Falafel Restaurant                  Hotel   \n",
       "44                  Hotel            Pizza Place         Breakfast Spot   \n",
       "45                   Café             Donut Shop          Jewelry Store   \n",
       "\n",
       "        5th Most Common Venue      6th Most Common Venue  \\\n",
       "1              Breakfast Spot               Dessert Shop   \n",
       "3                        Café                 Donut Shop   \n",
       "4                Burger Joint                 Restaurant   \n",
       "15                Pizza Place       Gym / Fitness Center   \n",
       "29                       Café             Clothing Store   \n",
       "31  Middle Eastern Restaurant          Indian Restaurant   \n",
       "36                   Boutique                        Spa   \n",
       "38             Breakfast Spot               Burger Joint   \n",
       "44          Indian Restaurant                       Café   \n",
       "45             Cosmetics Shop  Middle Eastern Restaurant   \n",
       "\n",
       "   7th Most Common Venue 8th Most Common Venue      9th Most Common Venue  \\\n",
       "1             Restaurant          Burger Joint          Health Food Store   \n",
       "3            Pizza Place                  Farm             Ice Cream Shop   \n",
       "4             Donut Shop             Gift Shop               Dessert Shop   \n",
       "15            Restaurant            Donut Shop       Fast Food Restaurant   \n",
       "29              Pharmacy    Frozen Yogurt Shop               Burger Joint   \n",
       "31  Fast Food Restaurant                  Café                     Bakery   \n",
       "36           Men's Store          Dessert Shop          French Restaurant   \n",
       "38                  Café             Gift Shop               Dessert Shop   \n",
       "44        Sandwich Place      Asian Restaurant  Middle Eastern Restaurant   \n",
       "45        Ice Cream Shop             Juice Bar             Breakfast Spot   \n",
       "\n",
       "       10th Most Common Venue  \n",
       "1              Ice Cream Shop  \n",
       "3           Convenience Store  \n",
       "4                        Café  \n",
       "15                Supermarket  \n",
       "29  Middle Eastern Restaurant  \n",
       "31             Breakfast Spot  \n",
       "36                Flower Shop  \n",
       "38                   Pharmacy  \n",
       "44                 Donut Shop  \n",
       "45     Furniture / Home Store  \n",
       "\n",
       "[10 rows x 24 columns]"
      ]
     },
     "execution_count": 2197,
     "metadata": {},
     "output_type": "execute_result"
    }
   ],
   "source": [
    "merged.loc[merged['Cluster Labels'] == 0, merged.columns[[1] + list(range(5, merged.shape[1]))]].head(10)"
   ]
  },
  {
   "cell_type": "markdown",
   "metadata": {},
   "source": [
    "##### Cluster 1 usually have Fast Food Restaurant and Middle Eastern Restaurant as most common venue categories."
   ]
  },
  {
   "cell_type": "code",
   "execution_count": 2198,
   "metadata": {
    "scrolled": true
   },
   "outputs": [
    {
     "data": {
      "text/html": [
       "<div>\n",
       "<style scoped>\n",
       "    .dataframe tbody tr th:only-of-type {\n",
       "        vertical-align: middle;\n",
       "    }\n",
       "\n",
       "    .dataframe tbody tr th {\n",
       "        vertical-align: top;\n",
       "    }\n",
       "\n",
       "    .dataframe thead th {\n",
       "        text-align: right;\n",
       "    }\n",
       "</style>\n",
       "<table border=\"1\" class=\"dataframe\">\n",
       "  <thead>\n",
       "    <tr style=\"text-align: right;\">\n",
       "      <th></th>\n",
       "      <th>District</th>\n",
       "      <th>2016.5</th>\n",
       "      <th>2017.0</th>\n",
       "      <th>2017.5</th>\n",
       "      <th>2018.0</th>\n",
       "      <th>2018.5</th>\n",
       "      <th>minx</th>\n",
       "      <th>miny</th>\n",
       "      <th>maxx</th>\n",
       "      <th>maxy</th>\n",
       "      <th>...</th>\n",
       "      <th>1st Most Common Venue</th>\n",
       "      <th>2nd Most Common Venue</th>\n",
       "      <th>3rd Most Common Venue</th>\n",
       "      <th>4th Most Common Venue</th>\n",
       "      <th>5th Most Common Venue</th>\n",
       "      <th>6th Most Common Venue</th>\n",
       "      <th>7th Most Common Venue</th>\n",
       "      <th>8th Most Common Venue</th>\n",
       "      <th>9th Most Common Venue</th>\n",
       "      <th>10th Most Common Venue</th>\n",
       "    </tr>\n",
       "  </thead>\n",
       "  <tbody>\n",
       "    <tr>\n",
       "      <th>0</th>\n",
       "      <td>اشبيلية</td>\n",
       "      <td>22871.0</td>\n",
       "      <td>22625.0</td>\n",
       "      <td>20616.0</td>\n",
       "      <td>19205.0</td>\n",
       "      <td>18076.0</td>\n",
       "      <td>46.774065</td>\n",
       "      <td>24.781280</td>\n",
       "      <td>46.811468</td>\n",
       "      <td>24.805064</td>\n",
       "      <td>...</td>\n",
       "      <td>Donut Shop</td>\n",
       "      <td>Dessert Shop</td>\n",
       "      <td>Fast Food Restaurant</td>\n",
       "      <td>Coffee Shop</td>\n",
       "      <td>Middle Eastern Restaurant</td>\n",
       "      <td>Gym / Fitness Center</td>\n",
       "      <td>Supermarket</td>\n",
       "      <td>Sandwich Place</td>\n",
       "      <td>Ice Cream Shop</td>\n",
       "      <td>Pizza Place</td>\n",
       "    </tr>\n",
       "    <tr>\n",
       "      <th>2</th>\n",
       "      <td>الاندلس</td>\n",
       "      <td>26378.0</td>\n",
       "      <td>24754.0</td>\n",
       "      <td>23771.0</td>\n",
       "      <td>21873.0</td>\n",
       "      <td>21250.0</td>\n",
       "      <td>46.778746</td>\n",
       "      <td>24.734189</td>\n",
       "      <td>46.799104</td>\n",
       "      <td>24.753372</td>\n",
       "      <td>...</td>\n",
       "      <td>Coffee Shop</td>\n",
       "      <td>Ice Cream Shop</td>\n",
       "      <td>Middle Eastern Restaurant</td>\n",
       "      <td>Donut Shop</td>\n",
       "      <td>Fast Food Restaurant</td>\n",
       "      <td>Pharmacy</td>\n",
       "      <td>Breakfast Spot</td>\n",
       "      <td>Pizza Place</td>\n",
       "      <td>Bakery</td>\n",
       "      <td>Café</td>\n",
       "    </tr>\n",
       "    <tr>\n",
       "      <th>5</th>\n",
       "      <td>الجرادية</td>\n",
       "      <td>17252.0</td>\n",
       "      <td>15554.0</td>\n",
       "      <td>14302.0</td>\n",
       "      <td>13263.0</td>\n",
       "      <td>13584.0</td>\n",
       "      <td>46.693682</td>\n",
       "      <td>24.612688</td>\n",
       "      <td>46.704836</td>\n",
       "      <td>24.625119</td>\n",
       "      <td>...</td>\n",
       "      <td>Shopping Mall</td>\n",
       "      <td>Pizza Place</td>\n",
       "      <td>Fast Food Restaurant</td>\n",
       "      <td>Coffee Shop</td>\n",
       "      <td>Ice Cream Shop</td>\n",
       "      <td>Sandwich Place</td>\n",
       "      <td>Diner</td>\n",
       "      <td>Donut Shop</td>\n",
       "      <td>Breakfast Spot</td>\n",
       "      <td>Market</td>\n",
       "    </tr>\n",
       "    <tr>\n",
       "      <th>6</th>\n",
       "      <td>الجزيرة</td>\n",
       "      <td>27315.0</td>\n",
       "      <td>25032.0</td>\n",
       "      <td>23935.0</td>\n",
       "      <td>22354.0</td>\n",
       "      <td>21850.0</td>\n",
       "      <td>46.783227</td>\n",
       "      <td>24.649687</td>\n",
       "      <td>46.810470</td>\n",
       "      <td>24.680621</td>\n",
       "      <td>...</td>\n",
       "      <td>Furniture / Home Store</td>\n",
       "      <td>Coffee Shop</td>\n",
       "      <td>Fast Food Restaurant</td>\n",
       "      <td>Electronics Store</td>\n",
       "      <td>Breakfast Spot</td>\n",
       "      <td>Café</td>\n",
       "      <td>Auto Workshop</td>\n",
       "      <td>Shopping Mall</td>\n",
       "      <td>Clothing Store</td>\n",
       "      <td>Department Store</td>\n",
       "    </tr>\n",
       "    <tr>\n",
       "      <th>8</th>\n",
       "      <td>الحزم</td>\n",
       "      <td>17175.0</td>\n",
       "      <td>16105.0</td>\n",
       "      <td>15952.0</td>\n",
       "      <td>14891.0</td>\n",
       "      <td>14994.0</td>\n",
       "      <td>46.629196</td>\n",
       "      <td>24.523448</td>\n",
       "      <td>46.664404</td>\n",
       "      <td>24.554336</td>\n",
       "      <td>...</td>\n",
       "      <td>Burger Joint</td>\n",
       "      <td>Hookah Bar</td>\n",
       "      <td>Fast Food Restaurant</td>\n",
       "      <td>Café</td>\n",
       "      <td>Coffee Shop</td>\n",
       "      <td>Shawarma Place</td>\n",
       "      <td>Supermarket</td>\n",
       "      <td>Ice Cream Shop</td>\n",
       "      <td>Pizza Place</td>\n",
       "      <td>Breakfast Spot</td>\n",
       "    </tr>\n",
       "    <tr>\n",
       "      <th>11</th>\n",
       "      <td>الخليج</td>\n",
       "      <td>22318.0</td>\n",
       "      <td>22105.0</td>\n",
       "      <td>19519.0</td>\n",
       "      <td>18154.0</td>\n",
       "      <td>17922.0</td>\n",
       "      <td>46.784442</td>\n",
       "      <td>24.762757</td>\n",
       "      <td>46.822717</td>\n",
       "      <td>24.791657</td>\n",
       "      <td>...</td>\n",
       "      <td>Bakery</td>\n",
       "      <td>Middle Eastern Restaurant</td>\n",
       "      <td>Burger Joint</td>\n",
       "      <td>Pizza Place</td>\n",
       "      <td>Sandwich Place</td>\n",
       "      <td>Coffee Shop</td>\n",
       "      <td>Donut Shop</td>\n",
       "      <td>Restaurant</td>\n",
       "      <td>Gym / Fitness Center</td>\n",
       "      <td>Fast Food Restaurant</td>\n",
       "    </tr>\n",
       "    <tr>\n",
       "      <th>12</th>\n",
       "      <td>الدار البيضاء</td>\n",
       "      <td>17378.0</td>\n",
       "      <td>16764.0</td>\n",
       "      <td>15578.0</td>\n",
       "      <td>14332.0</td>\n",
       "      <td>13744.0</td>\n",
       "      <td>46.768328</td>\n",
       "      <td>24.549262</td>\n",
       "      <td>46.817775</td>\n",
       "      <td>24.581684</td>\n",
       "      <td>...</td>\n",
       "      <td>Grocery Store</td>\n",
       "      <td>Gym</td>\n",
       "      <td>Donut Shop</td>\n",
       "      <td>Cupcake Shop</td>\n",
       "      <td>Boxing Gym</td>\n",
       "      <td>Fried Chicken Joint</td>\n",
       "      <td>Sporting Goods Shop</td>\n",
       "      <td>Middle Eastern Restaurant</td>\n",
       "      <td>Seafood Restaurant</td>\n",
       "      <td>Market</td>\n",
       "    </tr>\n",
       "    <tr>\n",
       "      <th>22</th>\n",
       "      <td>السعادة</td>\n",
       "      <td>22095.0</td>\n",
       "      <td>21080.0</td>\n",
       "      <td>19847.0</td>\n",
       "      <td>18352.0</td>\n",
       "      <td>17366.0</td>\n",
       "      <td>46.822711</td>\n",
       "      <td>24.683597</td>\n",
       "      <td>46.851440</td>\n",
       "      <td>24.712485</td>\n",
       "      <td>...</td>\n",
       "      <td>Fast Food Restaurant</td>\n",
       "      <td>Middle Eastern Restaurant</td>\n",
       "      <td>Pizza Place</td>\n",
       "      <td>Hookah Bar</td>\n",
       "      <td>Soccer Field</td>\n",
       "      <td>Resort</td>\n",
       "      <td>Rest Area</td>\n",
       "      <td>Gym / Fitness Center</td>\n",
       "      <td>Food Truck</td>\n",
       "      <td>Café</td>\n",
       "    </tr>\n",
       "    <tr>\n",
       "      <th>23</th>\n",
       "      <td>السلام</td>\n",
       "      <td>25587.0</td>\n",
       "      <td>25903.0</td>\n",
       "      <td>22801.0</td>\n",
       "      <td>22738.0</td>\n",
       "      <td>21340.0</td>\n",
       "      <td>46.799676</td>\n",
       "      <td>24.697302</td>\n",
       "      <td>46.823465</td>\n",
       "      <td>24.718909</td>\n",
       "      <td>...</td>\n",
       "      <td>Pizza Place</td>\n",
       "      <td>Breakfast Spot</td>\n",
       "      <td>Donut Shop</td>\n",
       "      <td>Falafel Restaurant</td>\n",
       "      <td>Burger Joint</td>\n",
       "      <td>Gym / Fitness Center</td>\n",
       "      <td>Middle Eastern Restaurant</td>\n",
       "      <td>Fast Food Restaurant</td>\n",
       "      <td>Market</td>\n",
       "      <td>Fried Chicken Joint</td>\n",
       "    </tr>\n",
       "    <tr>\n",
       "      <th>25</th>\n",
       "      <td>السويدي</td>\n",
       "      <td>18366.0</td>\n",
       "      <td>18630.0</td>\n",
       "      <td>17896.0</td>\n",
       "      <td>16720.0</td>\n",
       "      <td>15380.0</td>\n",
       "      <td>46.660854</td>\n",
       "      <td>24.581052</td>\n",
       "      <td>46.699737</td>\n",
       "      <td>24.601127</td>\n",
       "      <td>...</td>\n",
       "      <td>Burger Joint</td>\n",
       "      <td>Coffee Shop</td>\n",
       "      <td>Fast Food Restaurant</td>\n",
       "      <td>Middle Eastern Restaurant</td>\n",
       "      <td>Ice Cream Shop</td>\n",
       "      <td>Fried Chicken Joint</td>\n",
       "      <td>Food Truck</td>\n",
       "      <td>Pet Store</td>\n",
       "      <td>Breakfast Spot</td>\n",
       "      <td>Shawarma Place</td>\n",
       "    </tr>\n",
       "    <tr>\n",
       "      <th>27</th>\n",
       "      <td>الشفا</td>\n",
       "      <td>18025.0</td>\n",
       "      <td>16825.0</td>\n",
       "      <td>16020.0</td>\n",
       "      <td>15178.0</td>\n",
       "      <td>14088.0</td>\n",
       "      <td>46.681880</td>\n",
       "      <td>24.550348</td>\n",
       "      <td>46.716358</td>\n",
       "      <td>24.580775</td>\n",
       "      <td>...</td>\n",
       "      <td>Middle Eastern Restaurant</td>\n",
       "      <td>Fast Food Restaurant</td>\n",
       "      <td>Burger Joint</td>\n",
       "      <td>Coffee Shop</td>\n",
       "      <td>Dessert Shop</td>\n",
       "      <td>Bakery</td>\n",
       "      <td>Market</td>\n",
       "      <td>Juice Bar</td>\n",
       "      <td>Donut Shop</td>\n",
       "      <td>Fried Chicken Joint</td>\n",
       "    </tr>\n",
       "    <tr>\n",
       "      <th>30</th>\n",
       "      <td>الصحافة</td>\n",
       "      <td>31654.0</td>\n",
       "      <td>30189.0</td>\n",
       "      <td>28419.0</td>\n",
       "      <td>28165.0</td>\n",
       "      <td>24420.0</td>\n",
       "      <td>46.626969</td>\n",
       "      <td>24.780531</td>\n",
       "      <td>46.649023</td>\n",
       "      <td>24.813334</td>\n",
       "      <td>...</td>\n",
       "      <td>Breakfast Spot</td>\n",
       "      <td>Ice Cream Shop</td>\n",
       "      <td>Pharmacy</td>\n",
       "      <td>Café</td>\n",
       "      <td>Coffee Shop</td>\n",
       "      <td>Juice Bar</td>\n",
       "      <td>Grocery Store</td>\n",
       "      <td>Supermarket</td>\n",
       "      <td>Frozen Yogurt Shop</td>\n",
       "      <td>Fast Food Restaurant</td>\n",
       "    </tr>\n",
       "    <tr>\n",
       "      <th>33</th>\n",
       "      <td>العريجاء الوسطى</td>\n",
       "      <td>18325.0</td>\n",
       "      <td>18000.0</td>\n",
       "      <td>16258.0</td>\n",
       "      <td>15441.0</td>\n",
       "      <td>14681.0</td>\n",
       "      <td>46.620781</td>\n",
       "      <td>24.595268</td>\n",
       "      <td>46.662213</td>\n",
       "      <td>24.616962</td>\n",
       "      <td>...</td>\n",
       "      <td>Middle Eastern Restaurant</td>\n",
       "      <td>Coffee Shop</td>\n",
       "      <td>Dessert Shop</td>\n",
       "      <td>Pizza Place</td>\n",
       "      <td>Bakery</td>\n",
       "      <td>Fast Food Restaurant</td>\n",
       "      <td>Ice Cream Shop</td>\n",
       "      <td>Fried Chicken Joint</td>\n",
       "      <td>Mobile Phone Shop</td>\n",
       "      <td>Sandwich Place</td>\n",
       "    </tr>\n",
       "    <tr>\n",
       "      <th>34</th>\n",
       "      <td>العزيزية</td>\n",
       "      <td>19561.0</td>\n",
       "      <td>18031.0</td>\n",
       "      <td>16746.0</td>\n",
       "      <td>15164.0</td>\n",
       "      <td>15435.0</td>\n",
       "      <td>46.748030</td>\n",
       "      <td>24.569028</td>\n",
       "      <td>46.799702</td>\n",
       "      <td>24.605863</td>\n",
       "      <td>...</td>\n",
       "      <td>Middle Eastern Restaurant</td>\n",
       "      <td>Burger Joint</td>\n",
       "      <td>Pharmacy</td>\n",
       "      <td>Donut Shop</td>\n",
       "      <td>Fast Food Restaurant</td>\n",
       "      <td>Dessert Shop</td>\n",
       "      <td>Restaurant</td>\n",
       "      <td>Pizza Place</td>\n",
       "      <td>Market</td>\n",
       "      <td>Turkish Restaurant</td>\n",
       "    </tr>\n",
       "    <tr>\n",
       "      <th>39</th>\n",
       "      <td>الفيحاء</td>\n",
       "      <td>24856.0</td>\n",
       "      <td>23592.0</td>\n",
       "      <td>22701.0</td>\n",
       "      <td>20872.0</td>\n",
       "      <td>18777.0</td>\n",
       "      <td>46.800648</td>\n",
       "      <td>24.672072</td>\n",
       "      <td>46.823074</td>\n",
       "      <td>24.692324</td>\n",
       "      <td>...</td>\n",
       "      <td>Dessert Shop</td>\n",
       "      <td>Burger Joint</td>\n",
       "      <td>Pizza Place</td>\n",
       "      <td>Middle Eastern Restaurant</td>\n",
       "      <td>Fast Food Restaurant</td>\n",
       "      <td>Donut Shop</td>\n",
       "      <td>Breakfast Spot</td>\n",
       "      <td>Market</td>\n",
       "      <td>Ice Cream Shop</td>\n",
       "      <td>Restaurant</td>\n",
       "    </tr>\n",
       "    <tr>\n",
       "      <th>46</th>\n",
       "      <td>المروة</td>\n",
       "      <td>16500.0</td>\n",
       "      <td>20000.0</td>\n",
       "      <td>15903.0</td>\n",
       "      <td>15106.0</td>\n",
       "      <td>14100.0</td>\n",
       "      <td>46.663891</td>\n",
       "      <td>24.529889</td>\n",
       "      <td>46.688351</td>\n",
       "      <td>24.552451</td>\n",
       "      <td>...</td>\n",
       "      <td>Burger Joint</td>\n",
       "      <td>Coffee Shop</td>\n",
       "      <td>Café</td>\n",
       "      <td>Fast Food Restaurant</td>\n",
       "      <td>Convenience Store</td>\n",
       "      <td>Market</td>\n",
       "      <td>Donut Shop</td>\n",
       "      <td>Shopping Mall</td>\n",
       "      <td>Pizza Place</td>\n",
       "      <td>Supermarket</td>\n",
       "    </tr>\n",
       "    <tr>\n",
       "      <th>49</th>\n",
       "      <td>المعيزلة</td>\n",
       "      <td>21466.0</td>\n",
       "      <td>19806.0</td>\n",
       "      <td>18977.0</td>\n",
       "      <td>18730.0</td>\n",
       "      <td>17596.0</td>\n",
       "      <td>46.822282</td>\n",
       "      <td>24.772893</td>\n",
       "      <td>46.854126</td>\n",
       "      <td>24.811636</td>\n",
       "      <td>...</td>\n",
       "      <td>Food Truck</td>\n",
       "      <td>Middle Eastern Restaurant</td>\n",
       "      <td>Lounge</td>\n",
       "      <td>Park</td>\n",
       "      <td>Soccer Stadium</td>\n",
       "      <td>Auto Workshop</td>\n",
       "      <td>Forest</td>\n",
       "      <td>Museum</td>\n",
       "      <td>Soccer Field</td>\n",
       "      <td>Dessert Shop</td>\n",
       "    </tr>\n",
       "    <tr>\n",
       "      <th>51</th>\n",
       "      <td>الملز</td>\n",
       "      <td>28755.0</td>\n",
       "      <td>28386.0</td>\n",
       "      <td>26613.0</td>\n",
       "      <td>22596.0</td>\n",
       "      <td>22687.0</td>\n",
       "      <td>46.721912</td>\n",
       "      <td>24.652133</td>\n",
       "      <td>46.749653</td>\n",
       "      <td>24.677327</td>\n",
       "      <td>...</td>\n",
       "      <td>Coffee Shop</td>\n",
       "      <td>Middle Eastern Restaurant</td>\n",
       "      <td>Fast Food Restaurant</td>\n",
       "      <td>Breakfast Spot</td>\n",
       "      <td>Café</td>\n",
       "      <td>Donut Shop</td>\n",
       "      <td>Ice Cream Shop</td>\n",
       "      <td>Pizza Place</td>\n",
       "      <td>Pharmacy</td>\n",
       "      <td>Falafel Restaurant</td>\n",
       "    </tr>\n",
       "    <tr>\n",
       "      <th>56</th>\n",
       "      <td>الملك فيصل</td>\n",
       "      <td>27333.0</td>\n",
       "      <td>25691.0</td>\n",
       "      <td>22033.0</td>\n",
       "      <td>21598.0</td>\n",
       "      <td>19688.0</td>\n",
       "      <td>46.763782</td>\n",
       "      <td>24.751427</td>\n",
       "      <td>46.786261</td>\n",
       "      <td>24.772605</td>\n",
       "      <td>...</td>\n",
       "      <td>Ice Cream Shop</td>\n",
       "      <td>Middle Eastern Restaurant</td>\n",
       "      <td>Coffee Shop</td>\n",
       "      <td>Pizza Place</td>\n",
       "      <td>Breakfast Spot</td>\n",
       "      <td>Burger Joint</td>\n",
       "      <td>Donut Shop</td>\n",
       "      <td>Dessert Shop</td>\n",
       "      <td>Gym / Fitness Center</td>\n",
       "      <td>Fast Food Restaurant</td>\n",
       "    </tr>\n",
       "    <tr>\n",
       "      <th>58</th>\n",
       "      <td>المنصورة</td>\n",
       "      <td>21692.0</td>\n",
       "      <td>21444.0</td>\n",
       "      <td>18077.0</td>\n",
       "      <td>16866.0</td>\n",
       "      <td>15611.0</td>\n",
       "      <td>46.733880</td>\n",
       "      <td>24.598433</td>\n",
       "      <td>46.760669</td>\n",
       "      <td>24.618457</td>\n",
       "      <td>...</td>\n",
       "      <td>Middle Eastern Restaurant</td>\n",
       "      <td>Fast Food Restaurant</td>\n",
       "      <td>Market</td>\n",
       "      <td>Fried Chicken Joint</td>\n",
       "      <td>Burger Joint</td>\n",
       "      <td>Coffee Shop</td>\n",
       "      <td>Pizza Place</td>\n",
       "      <td>Falafel Restaurant</td>\n",
       "      <td>Donut Shop</td>\n",
       "      <td>Gym / Fitness Center</td>\n",
       "    </tr>\n",
       "  </tbody>\n",
       "</table>\n",
       "<p>20 rows × 24 columns</p>\n",
       "</div>"
      ],
      "text/plain": [
       "           District   2016.5   2017.0   2017.5   2018.0   2018.5       minx  \\\n",
       "0           اشبيلية  22871.0  22625.0  20616.0  19205.0  18076.0  46.774065   \n",
       "2           الاندلس  26378.0  24754.0  23771.0  21873.0  21250.0  46.778746   \n",
       "5          الجرادية  17252.0  15554.0  14302.0  13263.0  13584.0  46.693682   \n",
       "6           الجزيرة  27315.0  25032.0  23935.0  22354.0  21850.0  46.783227   \n",
       "8             الحزم  17175.0  16105.0  15952.0  14891.0  14994.0  46.629196   \n",
       "11           الخليج  22318.0  22105.0  19519.0  18154.0  17922.0  46.784442   \n",
       "12    الدار البيضاء  17378.0  16764.0  15578.0  14332.0  13744.0  46.768328   \n",
       "22          السعادة  22095.0  21080.0  19847.0  18352.0  17366.0  46.822711   \n",
       "23           السلام  25587.0  25903.0  22801.0  22738.0  21340.0  46.799676   \n",
       "25          السويدي  18366.0  18630.0  17896.0  16720.0  15380.0  46.660854   \n",
       "27            الشفا  18025.0  16825.0  16020.0  15178.0  14088.0  46.681880   \n",
       "30          الصحافة  31654.0  30189.0  28419.0  28165.0  24420.0  46.626969   \n",
       "33  العريجاء الوسطى  18325.0  18000.0  16258.0  15441.0  14681.0  46.620781   \n",
       "34         العزيزية  19561.0  18031.0  16746.0  15164.0  15435.0  46.748030   \n",
       "39          الفيحاء  24856.0  23592.0  22701.0  20872.0  18777.0  46.800648   \n",
       "46           المروة  16500.0  20000.0  15903.0  15106.0  14100.0  46.663891   \n",
       "49         المعيزلة  21466.0  19806.0  18977.0  18730.0  17596.0  46.822282   \n",
       "51            الملز  28755.0  28386.0  26613.0  22596.0  22687.0  46.721912   \n",
       "56       الملك فيصل  27333.0  25691.0  22033.0  21598.0  19688.0  46.763782   \n",
       "58         المنصورة  21692.0  21444.0  18077.0  16866.0  15611.0  46.733880   \n",
       "\n",
       "         miny       maxx       maxy  ...      1st Most Common Venue  \\\n",
       "0   24.781280  46.811468  24.805064  ...                 Donut Shop   \n",
       "2   24.734189  46.799104  24.753372  ...                Coffee Shop   \n",
       "5   24.612688  46.704836  24.625119  ...              Shopping Mall   \n",
       "6   24.649687  46.810470  24.680621  ...     Furniture / Home Store   \n",
       "8   24.523448  46.664404  24.554336  ...               Burger Joint   \n",
       "11  24.762757  46.822717  24.791657  ...                     Bakery   \n",
       "12  24.549262  46.817775  24.581684  ...              Grocery Store   \n",
       "22  24.683597  46.851440  24.712485  ...       Fast Food Restaurant   \n",
       "23  24.697302  46.823465  24.718909  ...                Pizza Place   \n",
       "25  24.581052  46.699737  24.601127  ...               Burger Joint   \n",
       "27  24.550348  46.716358  24.580775  ...  Middle Eastern Restaurant   \n",
       "30  24.780531  46.649023  24.813334  ...             Breakfast Spot   \n",
       "33  24.595268  46.662213  24.616962  ...  Middle Eastern Restaurant   \n",
       "34  24.569028  46.799702  24.605863  ...  Middle Eastern Restaurant   \n",
       "39  24.672072  46.823074  24.692324  ...               Dessert Shop   \n",
       "46  24.529889  46.688351  24.552451  ...               Burger Joint   \n",
       "49  24.772893  46.854126  24.811636  ...                 Food Truck   \n",
       "51  24.652133  46.749653  24.677327  ...                Coffee Shop   \n",
       "56  24.751427  46.786261  24.772605  ...             Ice Cream Shop   \n",
       "58  24.598433  46.760669  24.618457  ...  Middle Eastern Restaurant   \n",
       "\n",
       "        2nd Most Common Venue      3rd Most Common Venue  \\\n",
       "0                Dessert Shop       Fast Food Restaurant   \n",
       "2              Ice Cream Shop  Middle Eastern Restaurant   \n",
       "5                 Pizza Place       Fast Food Restaurant   \n",
       "6                 Coffee Shop       Fast Food Restaurant   \n",
       "8                  Hookah Bar       Fast Food Restaurant   \n",
       "11  Middle Eastern Restaurant               Burger Joint   \n",
       "12                        Gym                 Donut Shop   \n",
       "22  Middle Eastern Restaurant                Pizza Place   \n",
       "23             Breakfast Spot                 Donut Shop   \n",
       "25                Coffee Shop       Fast Food Restaurant   \n",
       "27       Fast Food Restaurant               Burger Joint   \n",
       "30             Ice Cream Shop                   Pharmacy   \n",
       "33                Coffee Shop               Dessert Shop   \n",
       "34               Burger Joint                   Pharmacy   \n",
       "39               Burger Joint                Pizza Place   \n",
       "46                Coffee Shop                       Café   \n",
       "49  Middle Eastern Restaurant                     Lounge   \n",
       "51  Middle Eastern Restaurant       Fast Food Restaurant   \n",
       "56  Middle Eastern Restaurant                Coffee Shop   \n",
       "58       Fast Food Restaurant                     Market   \n",
       "\n",
       "        4th Most Common Venue      5th Most Common Venue  \\\n",
       "0                 Coffee Shop  Middle Eastern Restaurant   \n",
       "2                  Donut Shop       Fast Food Restaurant   \n",
       "5                 Coffee Shop             Ice Cream Shop   \n",
       "6           Electronics Store             Breakfast Spot   \n",
       "8                        Café                Coffee Shop   \n",
       "11                Pizza Place             Sandwich Place   \n",
       "12               Cupcake Shop                 Boxing Gym   \n",
       "22                 Hookah Bar               Soccer Field   \n",
       "23         Falafel Restaurant               Burger Joint   \n",
       "25  Middle Eastern Restaurant             Ice Cream Shop   \n",
       "27                Coffee Shop               Dessert Shop   \n",
       "30                       Café                Coffee Shop   \n",
       "33                Pizza Place                     Bakery   \n",
       "34                 Donut Shop       Fast Food Restaurant   \n",
       "39  Middle Eastern Restaurant       Fast Food Restaurant   \n",
       "46       Fast Food Restaurant          Convenience Store   \n",
       "49                       Park             Soccer Stadium   \n",
       "51             Breakfast Spot                       Café   \n",
       "56                Pizza Place             Breakfast Spot   \n",
       "58        Fried Chicken Joint               Burger Joint   \n",
       "\n",
       "   6th Most Common Venue      7th Most Common Venue  \\\n",
       "0   Gym / Fitness Center                Supermarket   \n",
       "2               Pharmacy             Breakfast Spot   \n",
       "5         Sandwich Place                      Diner   \n",
       "6                   Café              Auto Workshop   \n",
       "8         Shawarma Place                Supermarket   \n",
       "11           Coffee Shop                 Donut Shop   \n",
       "12   Fried Chicken Joint        Sporting Goods Shop   \n",
       "22                Resort                  Rest Area   \n",
       "23  Gym / Fitness Center  Middle Eastern Restaurant   \n",
       "25   Fried Chicken Joint                 Food Truck   \n",
       "27                Bakery                     Market   \n",
       "30             Juice Bar              Grocery Store   \n",
       "33  Fast Food Restaurant             Ice Cream Shop   \n",
       "34          Dessert Shop                 Restaurant   \n",
       "39            Donut Shop             Breakfast Spot   \n",
       "46                Market                 Donut Shop   \n",
       "49         Auto Workshop                     Forest   \n",
       "51            Donut Shop             Ice Cream Shop   \n",
       "56          Burger Joint                 Donut Shop   \n",
       "58           Coffee Shop                Pizza Place   \n",
       "\n",
       "        8th Most Common Venue 9th Most Common Venue 10th Most Common Venue  \n",
       "0              Sandwich Place        Ice Cream Shop            Pizza Place  \n",
       "2                 Pizza Place                Bakery                   Café  \n",
       "5                  Donut Shop        Breakfast Spot                 Market  \n",
       "6               Shopping Mall        Clothing Store       Department Store  \n",
       "8              Ice Cream Shop           Pizza Place         Breakfast Spot  \n",
       "11                 Restaurant  Gym / Fitness Center   Fast Food Restaurant  \n",
       "12  Middle Eastern Restaurant    Seafood Restaurant                 Market  \n",
       "22       Gym / Fitness Center            Food Truck                   Café  \n",
       "23       Fast Food Restaurant                Market    Fried Chicken Joint  \n",
       "25                  Pet Store        Breakfast Spot         Shawarma Place  \n",
       "27                  Juice Bar            Donut Shop    Fried Chicken Joint  \n",
       "30                Supermarket    Frozen Yogurt Shop   Fast Food Restaurant  \n",
       "33        Fried Chicken Joint     Mobile Phone Shop         Sandwich Place  \n",
       "34                Pizza Place                Market     Turkish Restaurant  \n",
       "39                     Market        Ice Cream Shop             Restaurant  \n",
       "46              Shopping Mall           Pizza Place            Supermarket  \n",
       "49                     Museum          Soccer Field           Dessert Shop  \n",
       "51                Pizza Place              Pharmacy     Falafel Restaurant  \n",
       "56               Dessert Shop  Gym / Fitness Center   Fast Food Restaurant  \n",
       "58         Falafel Restaurant            Donut Shop   Gym / Fitness Center  \n",
       "\n",
       "[20 rows x 24 columns]"
      ]
     },
     "execution_count": 2198,
     "metadata": {},
     "output_type": "execute_result"
    }
   ],
   "source": [
    "merged.loc[merged['Cluster Labels'] == 1, merged.columns[[1] + list(range(5, merged.shape[1]))]].head(20)"
   ]
  },
  {
   "cell_type": "markdown",
   "metadata": {},
   "source": [
    "##### Cluster 4 usually have Coffee Shops and Dessert Shops as most common venue categories."
   ]
  },
  {
   "cell_type": "code",
   "execution_count": 2003,
   "metadata": {
    "scrolled": true
   },
   "outputs": [
    {
     "data": {
      "text/html": [
       "<div>\n",
       "<style scoped>\n",
       "    .dataframe tbody tr th:only-of-type {\n",
       "        vertical-align: middle;\n",
       "    }\n",
       "\n",
       "    .dataframe tbody tr th {\n",
       "        vertical-align: top;\n",
       "    }\n",
       "\n",
       "    .dataframe thead th {\n",
       "        text-align: right;\n",
       "    }\n",
       "</style>\n",
       "<table border=\"1\" class=\"dataframe\">\n",
       "  <thead>\n",
       "    <tr style=\"text-align: right;\">\n",
       "      <th></th>\n",
       "      <th>District</th>\n",
       "      <th>2016.5</th>\n",
       "      <th>2017.0</th>\n",
       "      <th>2017.5</th>\n",
       "      <th>2018.0</th>\n",
       "      <th>2018.5</th>\n",
       "      <th>minx</th>\n",
       "      <th>miny</th>\n",
       "      <th>maxx</th>\n",
       "      <th>maxy</th>\n",
       "      <th>...</th>\n",
       "      <th>1st Most Common Venue</th>\n",
       "      <th>2nd Most Common Venue</th>\n",
       "      <th>3rd Most Common Venue</th>\n",
       "      <th>4th Most Common Venue</th>\n",
       "      <th>5th Most Common Venue</th>\n",
       "      <th>6th Most Common Venue</th>\n",
       "      <th>7th Most Common Venue</th>\n",
       "      <th>8th Most Common Venue</th>\n",
       "      <th>9th Most Common Venue</th>\n",
       "      <th>10th Most Common Venue</th>\n",
       "    </tr>\n",
       "  </thead>\n",
       "  <tbody>\n",
       "    <tr>\n",
       "      <th>9</th>\n",
       "      <td>الحمراء</td>\n",
       "      <td>28555.0</td>\n",
       "      <td>27309.0</td>\n",
       "      <td>24911.0</td>\n",
       "      <td>23219.0</td>\n",
       "      <td>22959.0</td>\n",
       "      <td>46.737480</td>\n",
       "      <td>24.764528</td>\n",
       "      <td>46.770644</td>\n",
       "      <td>24.787202</td>\n",
       "      <td>...</td>\n",
       "      <td>Coffee Shop</td>\n",
       "      <td>Dessert Shop</td>\n",
       "      <td>Pizza Place</td>\n",
       "      <td>Donut Shop</td>\n",
       "      <td>Middle Eastern Restaurant</td>\n",
       "      <td>American Restaurant</td>\n",
       "      <td>Café</td>\n",
       "      <td>Ice Cream Shop</td>\n",
       "      <td>Food Truck</td>\n",
       "      <td>Furniture / Home Store</td>\n",
       "    </tr>\n",
       "    <tr>\n",
       "      <th>14</th>\n",
       "      <td>الربوة</td>\n",
       "      <td>28750.0</td>\n",
       "      <td>28818.0</td>\n",
       "      <td>26083.0</td>\n",
       "      <td>24718.0</td>\n",
       "      <td>25925.0</td>\n",
       "      <td>46.738410</td>\n",
       "      <td>24.679252</td>\n",
       "      <td>46.771697</td>\n",
       "      <td>24.709211</td>\n",
       "      <td>...</td>\n",
       "      <td>Coffee Shop</td>\n",
       "      <td>Bakery</td>\n",
       "      <td>Pizza Place</td>\n",
       "      <td>Fast Food Restaurant</td>\n",
       "      <td>Donut Shop</td>\n",
       "      <td>Dessert Shop</td>\n",
       "      <td>Gym / Fitness Center</td>\n",
       "      <td>Café</td>\n",
       "      <td>Grocery Store</td>\n",
       "      <td>Juice Bar</td>\n",
       "    </tr>\n",
       "    <tr>\n",
       "      <th>18</th>\n",
       "      <td>الروابي</td>\n",
       "      <td>27656.0</td>\n",
       "      <td>24884.0</td>\n",
       "      <td>24224.0</td>\n",
       "      <td>21064.0</td>\n",
       "      <td>22395.0</td>\n",
       "      <td>46.778890</td>\n",
       "      <td>24.684532</td>\n",
       "      <td>46.804954</td>\n",
       "      <td>24.708377</td>\n",
       "      <td>...</td>\n",
       "      <td>Dessert Shop</td>\n",
       "      <td>Middle Eastern Restaurant</td>\n",
       "      <td>Ice Cream Shop</td>\n",
       "      <td>Donut Shop</td>\n",
       "      <td>Bakery</td>\n",
       "      <td>Coffee Shop</td>\n",
       "      <td>Café</td>\n",
       "      <td>Burger Joint</td>\n",
       "      <td>Gym / Fitness Center</td>\n",
       "      <td>Breakfast Spot</td>\n",
       "    </tr>\n",
       "    <tr>\n",
       "      <th>19</th>\n",
       "      <td>الروضة</td>\n",
       "      <td>26791.0</td>\n",
       "      <td>26318.0</td>\n",
       "      <td>24177.0</td>\n",
       "      <td>23579.0</td>\n",
       "      <td>24264.0</td>\n",
       "      <td>46.754547</td>\n",
       "      <td>24.720297</td>\n",
       "      <td>46.782142</td>\n",
       "      <td>24.748228</td>\n",
       "      <td>...</td>\n",
       "      <td>Dessert Shop</td>\n",
       "      <td>Coffee Shop</td>\n",
       "      <td>Donut Shop</td>\n",
       "      <td>Fast Food Restaurant</td>\n",
       "      <td>Burger Joint</td>\n",
       "      <td>Café</td>\n",
       "      <td>Juice Bar</td>\n",
       "      <td>Gift Shop</td>\n",
       "      <td>Pharmacy</td>\n",
       "      <td>Middle Eastern Restaurant</td>\n",
       "    </tr>\n",
       "    <tr>\n",
       "      <th>20</th>\n",
       "      <td>الريان</td>\n",
       "      <td>31086.0</td>\n",
       "      <td>29200.0</td>\n",
       "      <td>30270.0</td>\n",
       "      <td>24276.0</td>\n",
       "      <td>22571.0</td>\n",
       "      <td>46.766698</td>\n",
       "      <td>24.699679</td>\n",
       "      <td>46.790531</td>\n",
       "      <td>24.723691</td>\n",
       "      <td>...</td>\n",
       "      <td>Coffee Shop</td>\n",
       "      <td>Dessert Shop</td>\n",
       "      <td>Ice Cream Shop</td>\n",
       "      <td>Donut Shop</td>\n",
       "      <td>Sandwich Place</td>\n",
       "      <td>Burger Joint</td>\n",
       "      <td>Pharmacy</td>\n",
       "      <td>Gym / Fitness Center</td>\n",
       "      <td>Fast Food Restaurant</td>\n",
       "      <td>Pizza Place</td>\n",
       "    </tr>\n",
       "    <tr>\n",
       "      <th>21</th>\n",
       "      <td>الزهرة</td>\n",
       "      <td>20650.0</td>\n",
       "      <td>NaN</td>\n",
       "      <td>18160.0</td>\n",
       "      <td>17869.0</td>\n",
       "      <td>17687.0</td>\n",
       "      <td>46.634917</td>\n",
       "      <td>24.569052</td>\n",
       "      <td>46.657284</td>\n",
       "      <td>24.588870</td>\n",
       "      <td>...</td>\n",
       "      <td>Coffee Shop</td>\n",
       "      <td>Dessert Shop</td>\n",
       "      <td>Bakery</td>\n",
       "      <td>Juice Bar</td>\n",
       "      <td>Falafel Restaurant</td>\n",
       "      <td>Pizza Place</td>\n",
       "      <td>Café</td>\n",
       "      <td>Donut Shop</td>\n",
       "      <td>Ice Cream Shop</td>\n",
       "      <td>Middle Eastern Restaurant</td>\n",
       "    </tr>\n",
       "    <tr>\n",
       "      <th>24</th>\n",
       "      <td>السليمانية</td>\n",
       "      <td>35453.0</td>\n",
       "      <td>34023.0</td>\n",
       "      <td>33283.0</td>\n",
       "      <td>31836.0</td>\n",
       "      <td>30100.0</td>\n",
       "      <td>46.687362</td>\n",
       "      <td>24.682351</td>\n",
       "      <td>46.713441</td>\n",
       "      <td>24.715474</td>\n",
       "      <td>...</td>\n",
       "      <td>Coffee Shop</td>\n",
       "      <td>Café</td>\n",
       "      <td>Burger Joint</td>\n",
       "      <td>Dessert Shop</td>\n",
       "      <td>Steakhouse</td>\n",
       "      <td>Middle Eastern Restaurant</td>\n",
       "      <td>Ice Cream Shop</td>\n",
       "      <td>Men's Store</td>\n",
       "      <td>Cupcake Shop</td>\n",
       "      <td>Gym / Fitness Center</td>\n",
       "    </tr>\n",
       "    <tr>\n",
       "      <th>26</th>\n",
       "      <td>السويدي الغربي</td>\n",
       "      <td>18811.0</td>\n",
       "      <td>19402.0</td>\n",
       "      <td>17317.0</td>\n",
       "      <td>17477.0</td>\n",
       "      <td>17650.0</td>\n",
       "      <td>46.610952</td>\n",
       "      <td>24.564496</td>\n",
       "      <td>46.639416</td>\n",
       "      <td>24.584989</td>\n",
       "      <td>...</td>\n",
       "      <td>Dessert Shop</td>\n",
       "      <td>Café</td>\n",
       "      <td>Coffee Shop</td>\n",
       "      <td>Burger Joint</td>\n",
       "      <td>Pizza Place</td>\n",
       "      <td>Fast Food Restaurant</td>\n",
       "      <td>Gym / Fitness Center</td>\n",
       "      <td>Bakery</td>\n",
       "      <td>Falafel Restaurant</td>\n",
       "      <td>Ice Cream Shop</td>\n",
       "    </tr>\n",
       "    <tr>\n",
       "      <th>35</th>\n",
       "      <td>العقيق</td>\n",
       "      <td>29718.0</td>\n",
       "      <td>29337.0</td>\n",
       "      <td>26721.0</td>\n",
       "      <td>25906.0</td>\n",
       "      <td>24454.0</td>\n",
       "      <td>46.617895</td>\n",
       "      <td>24.759488</td>\n",
       "      <td>46.642847</td>\n",
       "      <td>24.788639</td>\n",
       "      <td>...</td>\n",
       "      <td>Coffee Shop</td>\n",
       "      <td>Café</td>\n",
       "      <td>Ice Cream Shop</td>\n",
       "      <td>Gym / Fitness Center</td>\n",
       "      <td>Pharmacy</td>\n",
       "      <td>Bakery</td>\n",
       "      <td>Dessert Shop</td>\n",
       "      <td>Middle Eastern Restaurant</td>\n",
       "      <td>Food Truck</td>\n",
       "      <td>Burger Joint</td>\n",
       "    </tr>\n",
       "    <tr>\n",
       "      <th>37</th>\n",
       "      <td>الغدير</td>\n",
       "      <td>34000.0</td>\n",
       "      <td>33333.0</td>\n",
       "      <td>32602.0</td>\n",
       "      <td>30627.0</td>\n",
       "      <td>31166.0</td>\n",
       "      <td>46.644936</td>\n",
       "      <td>24.764793</td>\n",
       "      <td>46.664860</td>\n",
       "      <td>24.783059</td>\n",
       "      <td>...</td>\n",
       "      <td>Dessert Shop</td>\n",
       "      <td>Burger Joint</td>\n",
       "      <td>Hotel</td>\n",
       "      <td>Gym / Fitness Center</td>\n",
       "      <td>Ice Cream Shop</td>\n",
       "      <td>Breakfast Spot</td>\n",
       "      <td>Donut Shop</td>\n",
       "      <td>Middle Eastern Restaurant</td>\n",
       "      <td>Coffee Shop</td>\n",
       "      <td>Pharmacy</td>\n",
       "    </tr>\n",
       "  </tbody>\n",
       "</table>\n",
       "<p>10 rows × 24 columns</p>\n",
       "</div>"
      ],
      "text/plain": [
       "          District   2016.5   2017.0   2017.5   2018.0   2018.5       minx  \\\n",
       "9          الحمراء  28555.0  27309.0  24911.0  23219.0  22959.0  46.737480   \n",
       "14          الربوة  28750.0  28818.0  26083.0  24718.0  25925.0  46.738410   \n",
       "18         الروابي  27656.0  24884.0  24224.0  21064.0  22395.0  46.778890   \n",
       "19          الروضة  26791.0  26318.0  24177.0  23579.0  24264.0  46.754547   \n",
       "20          الريان  31086.0  29200.0  30270.0  24276.0  22571.0  46.766698   \n",
       "21          الزهرة  20650.0      NaN  18160.0  17869.0  17687.0  46.634917   \n",
       "24      السليمانية  35453.0  34023.0  33283.0  31836.0  30100.0  46.687362   \n",
       "26  السويدي الغربي  18811.0  19402.0  17317.0  17477.0  17650.0  46.610952   \n",
       "35          العقيق  29718.0  29337.0  26721.0  25906.0  24454.0  46.617895   \n",
       "37          الغدير  34000.0  33333.0  32602.0  30627.0  31166.0  46.644936   \n",
       "\n",
       "         miny       maxx       maxy  ...  1st Most Common Venue  \\\n",
       "9   24.764528  46.770644  24.787202  ...            Coffee Shop   \n",
       "14  24.679252  46.771697  24.709211  ...            Coffee Shop   \n",
       "18  24.684532  46.804954  24.708377  ...           Dessert Shop   \n",
       "19  24.720297  46.782142  24.748228  ...           Dessert Shop   \n",
       "20  24.699679  46.790531  24.723691  ...            Coffee Shop   \n",
       "21  24.569052  46.657284  24.588870  ...            Coffee Shop   \n",
       "24  24.682351  46.713441  24.715474  ...            Coffee Shop   \n",
       "26  24.564496  46.639416  24.584989  ...           Dessert Shop   \n",
       "35  24.759488  46.642847  24.788639  ...            Coffee Shop   \n",
       "37  24.764793  46.664860  24.783059  ...           Dessert Shop   \n",
       "\n",
       "        2nd Most Common Venue  3rd Most Common Venue  4th Most Common Venue  \\\n",
       "9                Dessert Shop            Pizza Place             Donut Shop   \n",
       "14                     Bakery            Pizza Place   Fast Food Restaurant   \n",
       "18  Middle Eastern Restaurant         Ice Cream Shop             Donut Shop   \n",
       "19                Coffee Shop             Donut Shop   Fast Food Restaurant   \n",
       "20               Dessert Shop         Ice Cream Shop             Donut Shop   \n",
       "21               Dessert Shop                 Bakery              Juice Bar   \n",
       "24                       Café           Burger Joint           Dessert Shop   \n",
       "26                       Café            Coffee Shop           Burger Joint   \n",
       "35                       Café         Ice Cream Shop   Gym / Fitness Center   \n",
       "37               Burger Joint                  Hotel   Gym / Fitness Center   \n",
       "\n",
       "        5th Most Common Venue      6th Most Common Venue  \\\n",
       "9   Middle Eastern Restaurant        American Restaurant   \n",
       "14                 Donut Shop               Dessert Shop   \n",
       "18                     Bakery                Coffee Shop   \n",
       "19               Burger Joint                       Café   \n",
       "20             Sandwich Place               Burger Joint   \n",
       "21         Falafel Restaurant                Pizza Place   \n",
       "24                 Steakhouse  Middle Eastern Restaurant   \n",
       "26                Pizza Place       Fast Food Restaurant   \n",
       "35                   Pharmacy                     Bakery   \n",
       "37             Ice Cream Shop             Breakfast Spot   \n",
       "\n",
       "   7th Most Common Venue      8th Most Common Venue 9th Most Common Venue  \\\n",
       "9                   Café             Ice Cream Shop            Food Truck   \n",
       "14  Gym / Fitness Center                       Café         Grocery Store   \n",
       "18                  Café               Burger Joint  Gym / Fitness Center   \n",
       "19             Juice Bar                  Gift Shop              Pharmacy   \n",
       "20              Pharmacy       Gym / Fitness Center  Fast Food Restaurant   \n",
       "21                  Café                 Donut Shop        Ice Cream Shop   \n",
       "24        Ice Cream Shop                Men's Store          Cupcake Shop   \n",
       "26  Gym / Fitness Center                     Bakery    Falafel Restaurant   \n",
       "35          Dessert Shop  Middle Eastern Restaurant            Food Truck   \n",
       "37            Donut Shop  Middle Eastern Restaurant           Coffee Shop   \n",
       "\n",
       "       10th Most Common Venue  \n",
       "9      Furniture / Home Store  \n",
       "14                  Juice Bar  \n",
       "18             Breakfast Spot  \n",
       "19  Middle Eastern Restaurant  \n",
       "20                Pizza Place  \n",
       "21  Middle Eastern Restaurant  \n",
       "24       Gym / Fitness Center  \n",
       "26             Ice Cream Shop  \n",
       "35               Burger Joint  \n",
       "37                   Pharmacy  \n",
       "\n",
       "[10 rows x 24 columns]"
      ]
     },
     "execution_count": 2003,
     "metadata": {},
     "output_type": "execute_result"
    }
   ],
   "source": [
    "merged.loc[merged['Cluster Labels'] == 4, merged.columns[[1] + list(range(5, merged.shape[1]))]].head(10)"
   ]
  },
  {
   "cell_type": "markdown",
   "metadata": {},
   "source": [
    "##### Let's merged the three clusters in one data frame."
   ]
  },
  {
   "cell_type": "code",
   "execution_count": 2004,
   "metadata": {},
   "outputs": [
    {
     "data": {
      "text/html": [
       "<div>\n",
       "<style scoped>\n",
       "    .dataframe tbody tr th:only-of-type {\n",
       "        vertical-align: middle;\n",
       "    }\n",
       "\n",
       "    .dataframe tbody tr th {\n",
       "        vertical-align: top;\n",
       "    }\n",
       "\n",
       "    .dataframe thead th {\n",
       "        text-align: right;\n",
       "    }\n",
       "</style>\n",
       "<table border=\"1\" class=\"dataframe\">\n",
       "  <thead>\n",
       "    <tr style=\"text-align: right;\">\n",
       "      <th></th>\n",
       "      <th>index</th>\n",
       "      <th>District</th>\n",
       "      <th>2015.0</th>\n",
       "      <th>2015.5</th>\n",
       "      <th>2016.0</th>\n",
       "      <th>2016.5</th>\n",
       "      <th>2017.0</th>\n",
       "      <th>2017.5</th>\n",
       "      <th>2018.0</th>\n",
       "      <th>2018.5</th>\n",
       "      <th>...</th>\n",
       "      <th>1st Most Common Venue</th>\n",
       "      <th>2nd Most Common Venue</th>\n",
       "      <th>3rd Most Common Venue</th>\n",
       "      <th>4th Most Common Venue</th>\n",
       "      <th>5th Most Common Venue</th>\n",
       "      <th>6th Most Common Venue</th>\n",
       "      <th>7th Most Common Venue</th>\n",
       "      <th>8th Most Common Venue</th>\n",
       "      <th>9th Most Common Venue</th>\n",
       "      <th>10th Most Common Venue</th>\n",
       "    </tr>\n",
       "  </thead>\n",
       "  <tbody>\n",
       "    <tr>\n",
       "      <th>0</th>\n",
       "      <td>1</td>\n",
       "      <td>اشبيلية</td>\n",
       "      <td>24138.0</td>\n",
       "      <td>24626.0</td>\n",
       "      <td>23944.0</td>\n",
       "      <td>22871.0</td>\n",
       "      <td>22625.0</td>\n",
       "      <td>20616.0</td>\n",
       "      <td>19205.0</td>\n",
       "      <td>18076.0</td>\n",
       "      <td>...</td>\n",
       "      <td>Donut Shop</td>\n",
       "      <td>Dessert Shop</td>\n",
       "      <td>Fast Food Restaurant</td>\n",
       "      <td>Coffee Shop</td>\n",
       "      <td>Middle Eastern Restaurant</td>\n",
       "      <td>Gym / Fitness Center</td>\n",
       "      <td>Supermarket</td>\n",
       "      <td>Sandwich Place</td>\n",
       "      <td>Ice Cream Shop</td>\n",
       "      <td>Pizza Place</td>\n",
       "    </tr>\n",
       "    <tr>\n",
       "      <th>1</th>\n",
       "      <td>2</td>\n",
       "      <td>الازدهار</td>\n",
       "      <td>NaN</td>\n",
       "      <td>34181.0</td>\n",
       "      <td>33600.0</td>\n",
       "      <td>30197.0</td>\n",
       "      <td>29635.0</td>\n",
       "      <td>27919.0</td>\n",
       "      <td>26421.0</td>\n",
       "      <td>24209.0</td>\n",
       "      <td>...</td>\n",
       "      <td>Coffee Shop</td>\n",
       "      <td>Cosmetics Shop</td>\n",
       "      <td>Juice Bar</td>\n",
       "      <td>Pharmacy</td>\n",
       "      <td>Breakfast Spot</td>\n",
       "      <td>Dessert Shop</td>\n",
       "      <td>Restaurant</td>\n",
       "      <td>Burger Joint</td>\n",
       "      <td>Health Food Store</td>\n",
       "      <td>Ice Cream Shop</td>\n",
       "    </tr>\n",
       "    <tr>\n",
       "      <th>2</th>\n",
       "      <td>3</td>\n",
       "      <td>الاندلس</td>\n",
       "      <td>NaN</td>\n",
       "      <td>21800.0</td>\n",
       "      <td>27666.0</td>\n",
       "      <td>26378.0</td>\n",
       "      <td>24754.0</td>\n",
       "      <td>23771.0</td>\n",
       "      <td>21873.0</td>\n",
       "      <td>21250.0</td>\n",
       "      <td>...</td>\n",
       "      <td>Coffee Shop</td>\n",
       "      <td>Ice Cream Shop</td>\n",
       "      <td>Middle Eastern Restaurant</td>\n",
       "      <td>Donut Shop</td>\n",
       "      <td>Fast Food Restaurant</td>\n",
       "      <td>Pharmacy</td>\n",
       "      <td>Breakfast Spot</td>\n",
       "      <td>Pizza Place</td>\n",
       "      <td>Bakery</td>\n",
       "      <td>Café</td>\n",
       "    </tr>\n",
       "    <tr>\n",
       "      <th>3</th>\n",
       "      <td>4</td>\n",
       "      <td>البديعة</td>\n",
       "      <td>NaN</td>\n",
       "      <td>NaN</td>\n",
       "      <td>NaN</td>\n",
       "      <td>NaN</td>\n",
       "      <td>17000.0</td>\n",
       "      <td>15194.0</td>\n",
       "      <td>14608.0</td>\n",
       "      <td>17285.0</td>\n",
       "      <td>...</td>\n",
       "      <td>Coffee Shop</td>\n",
       "      <td>Fast Food Restaurant</td>\n",
       "      <td>Park</td>\n",
       "      <td>Grocery Store</td>\n",
       "      <td>Café</td>\n",
       "      <td>Donut Shop</td>\n",
       "      <td>Pizza Place</td>\n",
       "      <td>Farm</td>\n",
       "      <td>Ice Cream Shop</td>\n",
       "      <td>Convenience Store</td>\n",
       "    </tr>\n",
       "    <tr>\n",
       "      <th>4</th>\n",
       "      <td>5</td>\n",
       "      <td>التعاون</td>\n",
       "      <td>NaN</td>\n",
       "      <td>39000.0</td>\n",
       "      <td>34882.0</td>\n",
       "      <td>33431.0</td>\n",
       "      <td>31714.0</td>\n",
       "      <td>29450.0</td>\n",
       "      <td>28912.0</td>\n",
       "      <td>28950.0</td>\n",
       "      <td>...</td>\n",
       "      <td>Coffee Shop</td>\n",
       "      <td>Ice Cream Shop</td>\n",
       "      <td>Pharmacy</td>\n",
       "      <td>Fast Food Restaurant</td>\n",
       "      <td>Burger Joint</td>\n",
       "      <td>Restaurant</td>\n",
       "      <td>Donut Shop</td>\n",
       "      <td>Gift Shop</td>\n",
       "      <td>Dessert Shop</td>\n",
       "      <td>Café</td>\n",
       "    </tr>\n",
       "  </tbody>\n",
       "</table>\n",
       "<p>5 rows × 28 columns</p>\n",
       "</div>"
      ],
      "text/plain": [
       "   index  District   2015.0   2015.5   2016.0   2016.5   2017.0   2017.5  \\\n",
       "0      1   اشبيلية  24138.0  24626.0  23944.0  22871.0  22625.0  20616.0   \n",
       "1      2  الازدهار      NaN  34181.0  33600.0  30197.0  29635.0  27919.0   \n",
       "2      3   الاندلس      NaN  21800.0  27666.0  26378.0  24754.0  23771.0   \n",
       "3      4   البديعة      NaN      NaN      NaN      NaN  17000.0  15194.0   \n",
       "4      5   التعاون      NaN  39000.0  34882.0  33431.0  31714.0  29450.0   \n",
       "\n",
       "    2018.0   2018.5  ...  1st Most Common Venue  2nd Most Common Venue  \\\n",
       "0  19205.0  18076.0  ...             Donut Shop           Dessert Shop   \n",
       "1  26421.0  24209.0  ...            Coffee Shop         Cosmetics Shop   \n",
       "2  21873.0  21250.0  ...            Coffee Shop         Ice Cream Shop   \n",
       "3  14608.0  17285.0  ...            Coffee Shop   Fast Food Restaurant   \n",
       "4  28912.0  28950.0  ...            Coffee Shop         Ice Cream Shop   \n",
       "\n",
       "       3rd Most Common Venue  4th Most Common Venue  \\\n",
       "0       Fast Food Restaurant            Coffee Shop   \n",
       "1                  Juice Bar               Pharmacy   \n",
       "2  Middle Eastern Restaurant             Donut Shop   \n",
       "3                       Park          Grocery Store   \n",
       "4                   Pharmacy   Fast Food Restaurant   \n",
       "\n",
       "       5th Most Common Venue  6th Most Common Venue  7th Most Common Venue  \\\n",
       "0  Middle Eastern Restaurant   Gym / Fitness Center            Supermarket   \n",
       "1             Breakfast Spot           Dessert Shop             Restaurant   \n",
       "2       Fast Food Restaurant               Pharmacy         Breakfast Spot   \n",
       "3                       Café             Donut Shop            Pizza Place   \n",
       "4               Burger Joint             Restaurant             Donut Shop   \n",
       "\n",
       "   8th Most Common Venue 9th Most Common Venue 10th Most Common Venue  \n",
       "0         Sandwich Place        Ice Cream Shop            Pizza Place  \n",
       "1           Burger Joint     Health Food Store         Ice Cream Shop  \n",
       "2            Pizza Place                Bakery                   Café  \n",
       "3                   Farm        Ice Cream Shop      Convenience Store  \n",
       "4              Gift Shop          Dessert Shop                   Café  \n",
       "\n",
       "[5 rows x 28 columns]"
      ]
     },
     "execution_count": 2004,
     "metadata": {},
     "output_type": "execute_result"
    }
   ],
   "source": [
    "clustered_df = merged[(merged['Cluster Labels'] == 0) | (merged['Cluster Labels'] == 1) | (merged['Cluster Labels'] == 4)]\n",
    "clustered_df.head()"
   ]
  },
  {
   "cell_type": "markdown",
   "metadata": {},
   "source": [
    "##### Box plots will help us in knowing that there is a correlation between the three clusters and its average residential units rent prices."
   ]
  },
  {
   "cell_type": "code",
   "execution_count": 2005,
   "metadata": {
    "scrolled": false
   },
   "outputs": [
    {
     "data": {
      "image/png": "[encoded data removed]",
      "text/plain": [
       "<Figure size 432x288 with 1 Axes>"
      ]
     },
     "metadata": {
      "needs_background": "light"
     },
     "output_type": "display_data"
    }
   ],
   "source": [
    "ax = sns.boxplot(x=\"Cluster Labels\", y=\"2018.5\", data=clustered_df)"
   ]
  },
  {
   "cell_type": "markdown",
   "metadata": {},
   "source": [
    "##### Seaborn displot will help in knowing if we have a normally distributed data."
   ]
  },
  {
   "cell_type": "code",
   "execution_count": 2006,
   "metadata": {},
   "outputs": [
    {
     "data": {
      "text/plain": [
       "<matplotlib.axes._subplots.AxesSubplot at 0x17295adc198>"
      ]
     },
     "execution_count": 2006,
     "metadata": {},
     "output_type": "execute_result"
    },
    {
     "data": {
      "image/png": "[encoded data removed]",
      "text/plain": [
       "<Figure size 432x288 with 1 Axes>"
      ]
     },
     "metadata": {
      "needs_background": "light"
     },
     "output_type": "display_data"
    }
   ],
   "source": [
    "sns.distplot(clustered_df['2018.5'])"
   ]
  },
  {
   "cell_type": "code",
   "execution_count": 2007,
   "metadata": {},
   "outputs": [
    {
     "data": {
      "text/plain": [
       "array(['index', 'District', '2015.0', '2015.5', '2016.0', '2016.5',\n",
       "       '2017.0', '2017.5', '2018.0', '2018.5', 'minx', 'miny', 'maxx',\n",
       "       'maxy', 'Id', 'longitude', 'latitude', 'Cluster Labels',\n",
       "       '1st Most Common Venue', '2nd Most Common Venue',\n",
       "       '3rd Most Common Venue', '4th Most Common Venue',\n",
       "       '5th Most Common Venue', '6th Most Common Venue',\n",
       "       '7th Most Common Venue', '8th Most Common Venue',\n",
       "       '9th Most Common Venue', '10th Most Common Venue'], dtype=object)"
      ]
     },
     "execution_count": 2007,
     "metadata": {},
     "output_type": "execute_result"
    }
   ],
   "source": [
    "clustered_df.columns.values"
   ]
  },
  {
   "cell_type": "markdown",
   "metadata": {},
   "source": [
    "##### Filtering only required columns after clustering Riyadh districts."
   ]
  },
  {
   "cell_type": "code",
   "execution_count": 2008,
   "metadata": {},
   "outputs": [
    {
     "data": {
      "text/html": [
       "<div>\n",
       "<style scoped>\n",
       "    .dataframe tbody tr th:only-of-type {\n",
       "        vertical-align: middle;\n",
       "    }\n",
       "\n",
       "    .dataframe tbody tr th {\n",
       "        vertical-align: top;\n",
       "    }\n",
       "\n",
       "    .dataframe thead th {\n",
       "        text-align: right;\n",
       "    }\n",
       "</style>\n",
       "<table border=\"1\" class=\"dataframe\">\n",
       "  <thead>\n",
       "    <tr style=\"text-align: right;\">\n",
       "      <th></th>\n",
       "      <th>District</th>\n",
       "      <th>2015.0</th>\n",
       "      <th>2015.5</th>\n",
       "      <th>2016.0</th>\n",
       "      <th>2016.5</th>\n",
       "      <th>2017.0</th>\n",
       "      <th>2017.5</th>\n",
       "      <th>2018.0</th>\n",
       "      <th>2018.5</th>\n",
       "      <th>Id</th>\n",
       "      <th>Cluster Labels</th>\n",
       "    </tr>\n",
       "  </thead>\n",
       "  <tbody>\n",
       "    <tr>\n",
       "      <th>0</th>\n",
       "      <td>اشبيلية</td>\n",
       "      <td>24138.0</td>\n",
       "      <td>24626.0</td>\n",
       "      <td>23944.0</td>\n",
       "      <td>22871.0</td>\n",
       "      <td>22625.0</td>\n",
       "      <td>20616.0</td>\n",
       "      <td>19205.0</td>\n",
       "      <td>18076.0</td>\n",
       "      <td>10100003137</td>\n",
       "      <td>1</td>\n",
       "    </tr>\n",
       "    <tr>\n",
       "      <th>1</th>\n",
       "      <td>الازدهار</td>\n",
       "      <td>NaN</td>\n",
       "      <td>34181.0</td>\n",
       "      <td>33600.0</td>\n",
       "      <td>30197.0</td>\n",
       "      <td>29635.0</td>\n",
       "      <td>27919.0</td>\n",
       "      <td>26421.0</td>\n",
       "      <td>24209.0</td>\n",
       "      <td>10100003086</td>\n",
       "      <td>0</td>\n",
       "    </tr>\n",
       "    <tr>\n",
       "      <th>2</th>\n",
       "      <td>الاندلس</td>\n",
       "      <td>NaN</td>\n",
       "      <td>21800.0</td>\n",
       "      <td>27666.0</td>\n",
       "      <td>26378.0</td>\n",
       "      <td>24754.0</td>\n",
       "      <td>23771.0</td>\n",
       "      <td>21873.0</td>\n",
       "      <td>21250.0</td>\n",
       "      <td>10100003087</td>\n",
       "      <td>1</td>\n",
       "    </tr>\n",
       "    <tr>\n",
       "      <th>3</th>\n",
       "      <td>البديعة</td>\n",
       "      <td>NaN</td>\n",
       "      <td>NaN</td>\n",
       "      <td>NaN</td>\n",
       "      <td>NaN</td>\n",
       "      <td>17000.0</td>\n",
       "      <td>15194.0</td>\n",
       "      <td>14608.0</td>\n",
       "      <td>17285.0</td>\n",
       "      <td>10100003071</td>\n",
       "      <td>0</td>\n",
       "    </tr>\n",
       "    <tr>\n",
       "      <th>4</th>\n",
       "      <td>التعاون</td>\n",
       "      <td>NaN</td>\n",
       "      <td>39000.0</td>\n",
       "      <td>34882.0</td>\n",
       "      <td>33431.0</td>\n",
       "      <td>31714.0</td>\n",
       "      <td>29450.0</td>\n",
       "      <td>28912.0</td>\n",
       "      <td>28950.0</td>\n",
       "      <td>10100003085</td>\n",
       "      <td>0</td>\n",
       "    </tr>\n",
       "  </tbody>\n",
       "</table>\n",
       "</div>"
      ],
      "text/plain": [
       "   District   2015.0   2015.5   2016.0   2016.5   2017.0   2017.5   2018.0  \\\n",
       "0   اشبيلية  24138.0  24626.0  23944.0  22871.0  22625.0  20616.0  19205.0   \n",
       "1  الازدهار      NaN  34181.0  33600.0  30197.0  29635.0  27919.0  26421.0   \n",
       "2   الاندلس      NaN  21800.0  27666.0  26378.0  24754.0  23771.0  21873.0   \n",
       "3   البديعة      NaN      NaN      NaN      NaN  17000.0  15194.0  14608.0   \n",
       "4   التعاون      NaN  39000.0  34882.0  33431.0  31714.0  29450.0  28912.0   \n",
       "\n",
       "    2018.5           Id  Cluster Labels  \n",
       "0  18076.0  10100003137               1  \n",
       "1  24209.0  10100003086               0  \n",
       "2  21250.0  10100003087               1  \n",
       "3  17285.0  10100003071               0  \n",
       "4  28950.0  10100003085               0  "
      ]
     },
     "execution_count": 2008,
     "metadata": {},
     "output_type": "execute_result"
    }
   ],
   "source": [
    "clustered_df = clustered_df[['District', '2015.0', '2015.5', '2016.0', '2016.5',\n",
    "       '2017.0', '2017.5', '2018.0', '2018.5', 'Id', 'Cluster Labels']]\n",
    "clustered_df.head()"
   ]
  },
  {
   "cell_type": "code",
   "execution_count": 2120,
   "metadata": {},
   "outputs": [],
   "source": [
    "clustered_df_c0 = clustered_df[clustered_df['Cluster Labels'] == 0]\n",
    "clustered_df_c1 = clustered_df[clustered_df['Cluster Labels'] == 1]\n",
    "clustered_df_c4 = clustered_df[clustered_df['Cluster Labels'] == 4]\n",
    "clustered_df_c0 = clustered_df_c0[['2015.0', '2015.5', '2016.0', '2016.5', '2017.0', '2017.5', '2018.0', '2018.5']]\n",
    "clustered_df_c1 = clustered_df_c1[['2015.0', '2015.5', '2016.0', '2016.5', '2017.0', '2017.5', '2018.0', '2018.5']]\n",
    "clustered_df_c4 = clustered_df_c4[['2015.0', '2015.5', '2016.0', '2016.5', '2017.0', '2017.5', '2018.0', '2018.5']]"
   ]
  },
  {
   "cell_type": "markdown",
   "metadata": {},
   "source": [
    "##### Let's compare the average residential unit prices for each cluster in a line plot."
   ]
  },
  {
   "cell_type": "code",
   "execution_count": 2121,
   "metadata": {
    "scrolled": true
   },
   "outputs": [
    {
     "data": {
      "text/plain": [
       "<matplotlib.legend.Legend at 0x1729955bf60>"
      ]
     },
     "execution_count": 2121,
     "metadata": {},
     "output_type": "execute_result"
    },
    {
     "data": {
      "image/png": "[encoded data removed]",
      "text/plain": [
       "<Figure size 432x288 with 1 Axes>"
      ]
     },
     "metadata": {
      "needs_background": "light"
     },
     "output_type": "display_data"
    }
   ],
   "source": [
    "fig, ax = plt.subplots()\n",
    "clustered_df_c0.mean().plot(kind='line', ax=ax)\n",
    "clustered_df_c1.mean().plot(kind='line', ax=ax)\n",
    "clustered_df_c4.mean().plot(kind='line', ax=ax)\n",
    "ax.legend(['Cluster 0', 'Cluster 1', 'Cluster 4'])"
   ]
  },
  {
   "cell_type": "markdown",
   "metadata": {},
   "source": [
    "##### To simplify the problem before applying regression models, we will take Means of average prices for each cluster and store in a dataframe.\n",
    "##### The dataframes are transposed to be ready as an input to regression algorithms."
   ]
  },
  {
   "cell_type": "code",
   "execution_count": 2122,
   "metadata": {},
   "outputs": [],
   "source": [
    "clustered_df_c0_T = pd.DataFrame( clustered_df_c0.mean().T )\n",
    "clustered_df_c0_T.reset_index(inplace=True)\n",
    "clustered_df_c0_T.rename(columns={'index':'YearHalf', 0:'AveragePrice'}, inplace=True)\n",
    "\n",
    "clustered_df_c1_T = pd.DataFrame( clustered_df_c1.mean().T )\n",
    "clustered_df_c1_T.reset_index(inplace=True)\n",
    "clustered_df_c1_T.rename(columns={'index':'YearHalf', 0:'AveragePrice'}, inplace=True)\n",
    "\n",
    "clustered_df_c4_T = pd.DataFrame( clustered_df_c4.mean().T )\n",
    "clustered_df_c4_T.reset_index(inplace=True)\n",
    "clustered_df_c4_T.rename(columns={'index':'YearHalf', 0:'AveragePrice'}, inplace=True)"
   ]
  },
  {
   "cell_type": "markdown",
   "metadata": {},
   "source": [
    "##### The YearHalf Attribute is of type 'object', Let's convert it to float to input it to regression algorithms."
   ]
  },
  {
   "cell_type": "code",
   "execution_count": 2124,
   "metadata": {
    "scrolled": true
   },
   "outputs": [
    {
     "name": "stdout",
     "output_type": "stream",
     "text": [
      "YearHalf         object\n",
      "AveragePrice    float64\n",
      "dtype: object\n"
     ]
    },
    {
     "data": {
      "text/html": [
       "<div>\n",
       "<style scoped>\n",
       "    .dataframe tbody tr th:only-of-type {\n",
       "        vertical-align: middle;\n",
       "    }\n",
       "\n",
       "    .dataframe tbody tr th {\n",
       "        vertical-align: top;\n",
       "    }\n",
       "\n",
       "    .dataframe thead th {\n",
       "        text-align: right;\n",
       "    }\n",
       "</style>\n",
       "<table border=\"1\" class=\"dataframe\">\n",
       "  <thead>\n",
       "    <tr style=\"text-align: right;\">\n",
       "      <th></th>\n",
       "      <th>YearHalf</th>\n",
       "      <th>AveragePrice</th>\n",
       "    </tr>\n",
       "  </thead>\n",
       "  <tbody>\n",
       "    <tr>\n",
       "      <th>0</th>\n",
       "      <td>2015.0</td>\n",
       "      <td>30300.000000</td>\n",
       "    </tr>\n",
       "    <tr>\n",
       "      <th>1</th>\n",
       "      <td>2015.5</td>\n",
       "      <td>31864.642857</td>\n",
       "    </tr>\n",
       "    <tr>\n",
       "      <th>2</th>\n",
       "      <td>2016.0</td>\n",
       "      <td>32444.526316</td>\n",
       "    </tr>\n",
       "    <tr>\n",
       "      <th>3</th>\n",
       "      <td>2016.5</td>\n",
       "      <td>30429.863636</td>\n",
       "    </tr>\n",
       "    <tr>\n",
       "      <th>4</th>\n",
       "      <td>2017.0</td>\n",
       "      <td>29721.956522</td>\n",
       "    </tr>\n",
       "    <tr>\n",
       "      <th>5</th>\n",
       "      <td>2017.5</td>\n",
       "      <td>27995.826087</td>\n",
       "    </tr>\n",
       "    <tr>\n",
       "      <th>6</th>\n",
       "      <td>2018.0</td>\n",
       "      <td>26220.695652</td>\n",
       "    </tr>\n",
       "    <tr>\n",
       "      <th>7</th>\n",
       "      <td>2018.5</td>\n",
       "      <td>25347.173913</td>\n",
       "    </tr>\n",
       "  </tbody>\n",
       "</table>\n",
       "</div>"
      ],
      "text/plain": [
       "  YearHalf  AveragePrice\n",
       "0   2015.0  30300.000000\n",
       "1   2015.5  31864.642857\n",
       "2   2016.0  32444.526316\n",
       "3   2016.5  30429.863636\n",
       "4   2017.0  29721.956522\n",
       "5   2017.5  27995.826087\n",
       "6   2018.0  26220.695652\n",
       "7   2018.5  25347.173913"
      ]
     },
     "execution_count": 2124,
     "metadata": {},
     "output_type": "execute_result"
    }
   ],
   "source": [
    "print( clustered_df_c0_T.dtypes )\n",
    "clustered_df_c0_T"
   ]
  },
  {
   "cell_type": "code",
   "execution_count": 2125,
   "metadata": {},
   "outputs": [],
   "source": [
    "# Converting the YearHalf to float data types.\n",
    "clustered_df_c0_T['YearHalf'] = clustered_df_c0_T['YearHalf'].astype(float)\n",
    "clustered_df_c1_T['YearHalf'] = clustered_df_c1_T['YearHalf'].astype(float)\n",
    "clustered_df_c4_T['YearHalf'] = clustered_df_c4_T['YearHalf'].astype(float)"
   ]
  },
  {
   "cell_type": "markdown",
   "metadata": {},
   "source": [
    "##### Splitting the data into training and test data.\n",
    "##### 2018 H2 is selected as test data."
   ]
  },
  {
   "cell_type": "code",
   "execution_count": 2142,
   "metadata": {},
   "outputs": [
    {
     "name": "stdout",
     "output_type": "stream",
     "text": [
      "   YearHalf\n",
      "0    2015.0\n",
      "1    2015.5\n",
      "2    2016.0\n",
      "3    2016.5\n",
      "4    2017.0\n",
      "5    2017.5\n",
      "6    2018.0 \n",
      "    AveragePrice\n",
      "0  30300.000000\n",
      "1  31864.642857\n",
      "2  32444.526316\n",
      "3  30429.863636\n",
      "4  29721.956522\n",
      "5  27995.826087\n",
      "6  26220.695652 \n",
      "    YearHalf\n",
      "7    2018.5 \n",
      "    AveragePrice\n",
      "7  25347.173913\n"
     ]
    }
   ],
   "source": [
    "#x_train = clustered_df_c0_train_T[['YearHalf']]\n",
    "#y_train = clustered_df_c0_train_T[['AveragePrice']]\n",
    "x_c0_train = pd.DataFrame( clustered_df_c0_T.iloc[0:7, 0])\n",
    "y_c0_train = pd.DataFrame( clustered_df_c0_T.iloc[0:7, 1])\n",
    "x_c0_test = pd.DataFrame( clustered_df_c0_T.iloc[7:8, 0])\n",
    "y_c0_test = pd.DataFrame( clustered_df_c0_T.iloc[7:8, 1])\n",
    "\n",
    "x_c1_train = pd.DataFrame( clustered_df_c1_T.iloc[0:7, 0])\n",
    "y_c1_train = pd.DataFrame( clustered_df_c1_T.iloc[0:7, 1])\n",
    "x_c1_test = pd.DataFrame( clustered_df_c1_T.iloc[7:8, 0])\n",
    "y_c1_test = pd.DataFrame( clustered_df_c1_T.iloc[7:8, 1])\n",
    "\n",
    "x_c4_train = pd.DataFrame( clustered_df_c4_T.iloc[0:7, 0])\n",
    "y_c4_train = pd.DataFrame( clustered_df_c4_T.iloc[0:7, 1])\n",
    "x_c4_test = pd.DataFrame( clustered_df_c4_T.iloc[7:8, 0])\n",
    "y_c4_test = pd.DataFrame( clustered_df_c4_T.iloc[7:8, 1])\n",
    "\n",
    "print( x_c0_train, '\\n',  y_c0_train, '\\n', x_c0_test, '\\n', y_c0_test)"
   ]
  },
  {
   "cell_type": "code",
   "execution_count": 2143,
   "metadata": {},
   "outputs": [
    {
     "name": "stdout",
     "output_type": "stream",
     "text": [
      "YearHalf    float64\n",
      "dtype: object \n",
      " AveragePrice    float64\n",
      "dtype: object\n"
     ]
    }
   ],
   "source": [
    "print( x_c0_train.dtypes , '\\n', y_c0_train.dtypes )"
   ]
  },
  {
   "cell_type": "markdown",
   "metadata": {},
   "source": [
    "##### Building our regression model.\n",
    "##### Trying Linear Regression as first step."
   ]
  },
  {
   "cell_type": "code",
   "execution_count": 2040,
   "metadata": {},
   "outputs": [],
   "source": [
    "from sklearn.linear_model import LinearRegression\n",
    "from sklearn.preprocessing import StandardScaler"
   ]
  },
  {
   "cell_type": "code",
   "execution_count": 2144,
   "metadata": {},
   "outputs": [
    {
     "data": {
      "text/plain": [
       "LinearRegression(copy_X=True, fit_intercept=True, n_jobs=None,\n",
       "         normalize=False)"
      ]
     },
     "execution_count": 2144,
     "metadata": {},
     "output_type": "execute_result"
    }
   ],
   "source": [
    "model = LinearRegression()\n",
    "model.fit(x_c0_train, y_c0_train)"
   ]
  },
  {
   "cell_type": "code",
   "execution_count": 2145,
   "metadata": {},
   "outputs": [
    {
     "name": "stdout",
     "output_type": "stream",
     "text": [
      "R-squared:  0.6582018812031676\n",
      "Coeffiecient:  [[-1621.29402699]]\n",
      "Intercept:  [3299193.33558416]\n"
     ]
    }
   ],
   "source": [
    "print( \"R-squared: \",  model.score(x_c0_train,y_c0_train) )\n",
    "print( \"Coeffiecient: \" , model.coef_)\n",
    "print ('Intercept: ',model.intercept_)"
   ]
  },
  {
   "cell_type": "code",
   "execution_count": 2146,
   "metadata": {},
   "outputs": [
    {
     "name": "stdout",
     "output_type": "stream",
     "text": [
      "pridected average price (Cluster 0, 2018.5):  [[26611.34209889]]\n",
      "Actual average price: (Cluster 0, 2018.5) [[25347.17391304]]\n"
     ]
    }
   ],
   "source": [
    "yhat = model.predict(x_c0_test)\n",
    "print( 'pridected average price (Cluster 0, 2018.5): ', yhat )\n",
    "print( 'Actual average price: (Cluster 0, 2018.5)', y_test.values )"
   ]
  },
  {
   "cell_type": "markdown",
   "metadata": {},
   "source": [
    "##### Comparing Linear Regression model equation with Actual average prices."
   ]
  },
  {
   "cell_type": "code",
   "execution_count": 2147,
   "metadata": {},
   "outputs": [
    {
     "data": {
      "text/plain": [
       "Text(0, 0.5, 'Average Price')"
      ]
     },
     "execution_count": 2147,
     "metadata": {},
     "output_type": "execute_result"
    },
    {
     "data": {
      "image/png": "[encoded data removed]",
      "text/plain": [
       "<Figure size 432x288 with 1 Axes>"
      ]
     },
     "metadata": {
      "needs_background": "light"
     },
     "output_type": "display_data"
    }
   ],
   "source": [
    "plt.scatter(clustered_df_c0_T[['YearHalf']], clustered_df_c0_T[['AveragePrice']],  color='blue')\n",
    "plt.plot(clustered_df_c0_T[['YearHalf']], model.coef_[0][0]*clustered_df_c0_T[['YearHalf']] + model.intercept_[0], '-r')\n",
    "plt.xlabel(\"Year Half\")\n",
    "plt.ylabel(\"Average Price\")"
   ]
  },
  {
   "cell_type": "markdown",
   "metadata": {},
   "source": [
    "##### Model evaluation results."
   ]
  },
  {
   "cell_type": "code",
   "execution_count": 2091,
   "metadata": {},
   "outputs": [],
   "source": [
    "from sklearn.metrics import r2_score"
   ]
  },
  {
   "cell_type": "code",
   "execution_count": 2148,
   "metadata": {},
   "outputs": [
    {
     "name": "stdout",
     "output_type": "stream",
     "text": [
      "[[2018.5]]\n",
      "[[25347.17391304]]\n",
      "[[26611.34209889]]\n",
      "Mean absolute error: 1264.17\n",
      "Residual sum of squares (MSE): 1598121.20\n"
     ]
    }
   ],
   "source": [
    "test_x = np.asanyarray(x_c0_test)\n",
    "test_y = np.asanyarray(y_c0_test)\n",
    "test_y_hat = model.predict(test_x)\n",
    "\n",
    "print(test_x)\n",
    "print(test_y)\n",
    "print(test_y_hat)\n",
    "print(\"Mean absolute error: %.2f\" % np.mean(np.absolute(test_y_hat - test_y)))\n",
    "print(\"Residual sum of squares (MSE): %.2f\" % np.mean((test_y_hat - test_y) ** 2))\n",
    "#print(\"R2-score: %.2f\" % r2_score(test_y_hat , test_y))"
   ]
  },
  {
   "cell_type": "markdown",
   "metadata": {},
   "source": [
    "##### Let's try building other model types. ( Polynomial Regression )."
   ]
  },
  {
   "cell_type": "code",
   "execution_count": 2102,
   "metadata": {},
   "outputs": [],
   "source": [
    "from sklearn.preprocessing import PolynomialFeatures\n",
    "from sklearn.pipeline import make_pipeline"
   ]
  },
  {
   "cell_type": "code",
   "execution_count": 2162,
   "metadata": {},
   "outputs": [
    {
     "data": {
      "text/plain": [
       "<matplotlib.collections.PathCollection at 0x1729b471f60>"
      ]
     },
     "execution_count": 2162,
     "metadata": {},
     "output_type": "execute_result"
    },
    {
     "data": {
      "image/png": "[encoded data removed]",
      "text/plain": [
       "<Figure size 432x288 with 1 Axes>"
      ]
     },
     "metadata": {
      "needs_background": "light"
     },
     "output_type": "display_data"
    }
   ],
   "source": [
    "model = make_pipeline(PolynomialFeatures(degree=3), LinearRegression())\n",
    "\n",
    "x = np.asanyarray(x_c0_train)\n",
    "y = np.asanyarray(y_c0_train)\n",
    "\n",
    "model.fit(x, y);\n",
    "\n",
    "# Plotting\n",
    "xAll = np.asanyarray(clustered_df_c0_T[['YearHalf']])\n",
    "yAll = np.asanyarray(clustered_df_c0_T[['AveragePrice']])\n",
    "xSpace = np.linspace(min(xAll), max(xAll)+0.5, 100)\n",
    "plt.plot(xSpace, model.predict(xSpace))\n",
    "plt.scatter(xAll, yAll)\n"
   ]
  },
  {
   "cell_type": "markdown",
   "metadata": {},
   "source": [
    "##### Polynomial Regression have good evaluation results when compared to linear regression."
   ]
  },
  {
   "cell_type": "code",
   "execution_count": 2150,
   "metadata": {},
   "outputs": [
    {
     "name": "stdout",
     "output_type": "stream",
     "text": [
      "[[2018.5]]\n",
      "[[25347.17391304]]\n",
      "[[25471.77148438]]\n",
      "Mean absolute error: 124.60\n",
      "Residual sum of squares (MSE): 15524.55\n"
     ]
    }
   ],
   "source": [
    "test_x = np.asanyarray(x_c0_test)\n",
    "test_y = np.asanyarray(y_c0_test)\n",
    "test_y_hat = model.predict(test_x)\n",
    "\n",
    "print(test_x)\n",
    "print(test_y)\n",
    "print(test_y_hat)\n",
    "print(\"Mean absolute error: %.2f\" % np.mean(np.absolute(test_y_hat - test_y)))\n",
    "print(\"Residual sum of squares (MSE): %.2f\" % np.mean((test_y_hat - test_y) ** 2))\n",
    "#print(\"R2-score: %.2f\" % r2_score(test_y_hat , test_y))"
   ]
  },
  {
   "cell_type": "markdown",
   "metadata": {},
   "source": [
    "##### Applying polynomial regression to cluster 1"
   ]
  },
  {
   "cell_type": "code",
   "execution_count": 2163,
   "metadata": {
    "scrolled": true
   },
   "outputs": [
    {
     "data": {
      "text/plain": [
       "<matplotlib.collections.PathCollection at 0x1729b4b9470>"
      ]
     },
     "execution_count": 2163,
     "metadata": {},
     "output_type": "execute_result"
    },
    {
     "data": {
      "image/png": "[encoded data removed]",
      "text/plain": [
       "<Figure size 432x288 with 1 Axes>"
      ]
     },
     "metadata": {
      "needs_background": "light"
     },
     "output_type": "display_data"
    }
   ],
   "source": [
    "model = make_pipeline(PolynomialFeatures(degree=3), LinearRegression())\n",
    "\n",
    "x = np.asanyarray(x_c1_train)\n",
    "y = np.asanyarray(y_c1_train)\n",
    "\n",
    "model.fit(x, y);\n",
    "\n",
    "# Plotting\n",
    "xAll = np.asanyarray(clustered_df_c1_T[['YearHalf']])\n",
    "yAll = np.asanyarray(clustered_df_c1_T[['AveragePrice']])\n",
    "xSpace = np.linspace(min(xAll), max(xAll)+0.5, 100)\n",
    "plt.plot(xSpace, model.predict(xSpace))\n",
    "plt.scatter(xAll, yAll)"
   ]
  },
  {
   "cell_type": "markdown",
   "metadata": {},
   "source": [
    "##### Cluster 1 Model Evaluation"
   ]
  },
  {
   "cell_type": "code",
   "execution_count": 2153,
   "metadata": {},
   "outputs": [
    {
     "name": "stdout",
     "output_type": "stream",
     "text": [
      "[[2018.5]]\n",
      "[[17366.60606061]]\n",
      "[[17329.88818359]]\n",
      "Mean absolute error: 36.72\n",
      "Residual sum of squares (MSE): 1348.20\n"
     ]
    }
   ],
   "source": [
    "test_x = np.asanyarray(x_c1_test)\n",
    "test_y = np.asanyarray(y_c1_test)\n",
    "test_y_hat = model.predict(test_x)\n",
    "\n",
    "print(test_x)\n",
    "print(test_y)\n",
    "print(test_y_hat)\n",
    "print(\"Mean absolute error: %.2f\" % np.mean(np.absolute(test_y_hat - test_y)))\n",
    "print(\"Residual sum of squares (MSE): %.2f\" % np.mean((test_y_hat - test_y) ** 2))"
   ]
  },
  {
   "cell_type": "markdown",
   "metadata": {},
   "source": [
    "##### Creating a model for cluster 4 using polynomial regression"
   ]
  },
  {
   "cell_type": "code",
   "execution_count": 2209,
   "metadata": {},
   "outputs": [
    {
     "data": {
      "text/plain": [
       "<matplotlib.collections.PathCollection at 0x1729d41b898>"
      ]
     },
     "execution_count": 2209,
     "metadata": {},
     "output_type": "execute_result"
    },
    {
     "data": {
      "image/png": "[encoded data removed]",
      "text/plain": [
       "<Figure size 432x288 with 1 Axes>"
      ]
     },
     "metadata": {
      "needs_background": "light"
     },
     "output_type": "display_data"
    }
   ],
   "source": [
    "model = make_pipeline(PolynomialFeatures(degree=3), LinearRegression())\n",
    "\n",
    "x = np.asanyarray(x_c4_train)\n",
    "y = np.asanyarray(y_c4_train)\n",
    "\n",
    "model.fit(x, y);\n",
    "\n",
    "# Plotting\n",
    "xAll = np.asanyarray(clustered_df_c4_T[['YearHalf']])\n",
    "yAll = np.asanyarray(clustered_df_c4_T[['AveragePrice']])\n",
    "xSpace = np.linspace(min(xAll), max(xAll)+0.5, 100)\n",
    "plt.plot(xSpace, model.predict(xSpace))\n",
    "plt.scatter(xAll, yAll)"
   ]
  },
  {
   "cell_type": "markdown",
   "metadata": {},
   "source": [
    "##### Model Evaluation"
   ]
  },
  {
   "cell_type": "code",
   "execution_count": 2159,
   "metadata": {},
   "outputs": [
    {
     "name": "stdout",
     "output_type": "stream",
     "text": [
      "[[2018.5]]\n",
      "[[24143.28571429]]\n",
      "[[23064.66967773]]\n",
      "Mean absolute error: 1078.62\n",
      "Residual sum of squares (MSE): 1163412.55\n"
     ]
    }
   ],
   "source": [
    "test_x = np.asanyarray(x_c4_test)\n",
    "test_y = np.asanyarray(y_c4_test)\n",
    "test_y_hat = model.predict(test_x)\n",
    "\n",
    "print(test_x)\n",
    "print(test_y)\n",
    "print(test_y_hat)\n",
    "print(\"Mean absolute error: %.2f\" % np.mean(np.absolute(test_y_hat - test_y)))\n",
    "print(\"Residual sum of squares (MSE): %.2f\" % np.mean((test_y_hat - test_y) ** 2))"
   ]
  },
  {
   "cell_type": "markdown",
   "metadata": {},
   "source": [
    "##### Results from building polynomial regression models:\n",
    "##### Average rent prices for cluster 0 will increaese slightly during 2019 H1\n",
    "##### Average rent prices for cluster 1 will keep dropping during 2019 H1\n",
    "##### AVerage rent prices for cluster 4 will keep dropping during 2019 H1"
   ]
  },
  {
   "cell_type": "markdown",
   "metadata": {},
   "source": [
    "##### Further discussion and conclusion can be found in the this project report in the same GitHub repository of this project."
   ]
  },
  {
   "cell_type": "markdown",
   "metadata": {},
   "source": [
    "##### Thanks for reviewing this project.\n",
    "Alaa Jaradat"
   ]
  }
 ],
 "metadata": {
  "kernelspec": {
   "display_name": "Python 3",
   "language": "python",
   "name": "python3"
  },
  "language_info": {
   "codemirror_mode": {
    "name": "ipython",
    "version": 3
   },
   "file_extension": ".py",
   "mimetype": "text/x-python",
   "name": "python",
   "nbconvert_exporter": "python",
   "pygments_lexer": "ipython3",
   "version": "3.6.8"
  }
 },
 "nbformat": 4,
 "nbformat_minor": 2
}
